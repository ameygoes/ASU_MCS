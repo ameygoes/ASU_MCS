{
 "cells": [
  {
   "cell_type": "code",
   "execution_count": 39,
   "metadata": {},
   "outputs": [],
   "source": [
    "import pandas as pd\n",
    "\n",
    "# Read the two CSV files into DataFrames\n",
    "df1 = pd.read_csv(\"data\\global_development.csv\")\n",
    "df2 = pd.read_csv(\"data\\countries_regions.csv\")\n",
    "flags = pd.read_csv(\"data/countries.csv\", header=0)\n",
    "flags = flags[[\"alpha2\", \"alpha3\"]]\n",
    "\n",
    "\n",
    "# Select the desired columns\n",
    "selected_columns = [\n",
    "    \"alpha2\",\n",
    "    \"geo\",\n",
    "    \"Country\",\n",
    "    \"Year\",\n",
    "    \"World bank region\",\n",
    "    \"Data.Health.Birth Rate\",\n",
    "    \"Data.Health.Death Rate\",\n",
    "    \"Data.Health.Fertility Rate\",\n",
    "    \"Data.Health.Life Expectancy at Birth, Female\",\n",
    "    \"Data.Health.Life Expectancy at Birth, Male\",\n",
    "    \"Data.Health.Life Expectancy at Birth, Total\",\n",
    "    \"Data.Health.Population Growth\",\n",
    "    \"Data.Health.Total Population\",\n",
    "    \"Data.Infrastructure.Mobile Cellular Subscriptions\",\n",
    "    \"Data.Infrastructure.Telephone Lines\",\n",
    "    \"Data.Rural Development.Agricultural Land\",\n",
    "    \"Data.Rural Development.Arable Land\",\n",
    "    \"Data.Rural Development.Land Area\",\n",
    "    \"Data.Rural Development.Rural Population\",\n",
    "    \"Data.Rural Development.Rural Population Growth\",\n",
    "    \"Data.Rural Development.Surface Area\",\n",
    "    \"Data.Urban Development.Population Density\",\n",
    "    \"Data.Urban Development.Urban Population Percent Growth\"\n",
    "]\n",
    "\n",
    "\n",
    "\n",
    "# Create a new DataFrame with the selected columns\n",
    "# Merge the DataFrames on the common columns \"geo\" and \"Country\"\n",
    "merged_df = df2.merge(df1, left_on=\"name\", right_on=\"Country\", how=\"inner\")\n",
    "result_df = flags.merge(merged_df, left_on=\"alpha3\", right_on=\"geo\", how=\"inner\")\n",
    "result_df.sample(5)\n",
    "result_df = result_df[selected_columns]\n",
    "\n",
    "# Rename the columns as needed\n",
    "result_df = result_df.rename(columns={\n",
    "    \"Country\": \"CountryName\",\n",
    "    \"Data.Health.Birth Rate\": \"Birth Rate\",\n",
    "    \"Data.Health.Death Rate\": \"Death Rate\",\n",
    "    \"Data.Health.Fertility Rate\": \"Fertility Rate\",\n",
    "    \"Data.Health.Life Expectancy at Birth, Female\": \"Life Expectancy at Birth, Female\",\n",
    "    \"Data.Health.Life Expectancy at Birth, Male\": \"Life Expectancy at Birth, Male\",\n",
    "    \"Data.Health.Life Expectancy at Birth, Total\": \"Life Expectancy at Birth, Total\",\n",
    "    \"Data.Health.Population Growth\": \"Population Growth\",\n",
    "    \"Data.Health.Total Population\": \"Total Population\",\n",
    "    \"Data.Infrastructure.Mobile Cellular Subscriptions\": \"Cellular Subscriptions\",\n",
    "    \"Data.Rural Development.Surface Area\": \"Surface Area\",\n",
    "    \"Data.Infrastructure.Telephone Lines\": \"Telephone Lines\",\n",
    "    \"Data.Rural Development.Agricultural Land\": \"Agricultural Land\",\n",
    "    \"Data.Rural Development.Arable Land\": \"Arable Land\",\n",
    "    \"Data.Rural Development.Land Area\": \"Land Area\",\n",
    "    \"Data.Rural Development.Rural Population\": \"Rural Population\",\n",
    "    \"Data.Rural Development.Rural Population Growth\": \"Rural Population Growth\",\n",
    "    \"Data.Urban Development.Population Density\": \"Population Density\",\n",
    "    \"Data.Urban Development.Urban Population Percent Growth\": \"Urban Population Percent Growth\"\n",
    "})\n",
    "\n",
    "\n",
    "# Save the result DataFrame to a CSV file\n",
    "result_df.to_csv(\"merged_file.csv\", index=False)\n"
   ]
  },
  {
   "cell_type": "code",
   "execution_count": 40,
   "metadata": {},
   "outputs": [
    {
     "data": {
      "text/plain": [
       "World bank region\n",
       "Sub-Saharan Africa            1462\n",
       "Latin America & Caribbean      986\n",
       "Europe & Central Asia          782\n",
       "East Asia & Pacific            646\n",
       "Middle East & North Africa     544\n",
       "South Asia                     272\n",
       "North America                   68\n",
       "Name: count, dtype: int64"
      ]
     },
     "execution_count": 40,
     "metadata": {},
     "output_type": "execute_result"
    }
   ],
   "source": [
    "result_df['World bank region'].value_counts()"
   ]
  },
  {
   "cell_type": "code",
   "execution_count": 41,
   "metadata": {},
   "outputs": [
    {
     "data": {
      "text/plain": [
       "Index(['alpha2', 'geo', 'CountryName', 'Year', 'World bank region',\n",
       "       'Birth Rate', 'Death Rate', 'Fertility Rate',\n",
       "       'Life Expectancy at Birth, Female', 'Life Expectancy at Birth, Male',\n",
       "       'Life Expectancy at Birth, Total', 'Population Growth',\n",
       "       'Total Population', 'Cellular Subscriptions', 'Telephone Lines',\n",
       "       'Agricultural Land', 'Arable Land', 'Land Area', 'Rural Population',\n",
       "       'Rural Population Growth', 'Surface Area', 'Population Density',\n",
       "       'Urban Population Percent Growth'],\n",
       "      dtype='object')"
      ]
     },
     "execution_count": 41,
     "metadata": {},
     "output_type": "execute_result"
    }
   ],
   "source": [
    "result_df.columns"
   ]
  },
  {
   "cell_type": "code",
   "execution_count": 28,
   "metadata": {},
   "outputs": [],
   "source": [
    "\n",
    "\n"
   ]
  },
  {
   "cell_type": "code",
   "execution_count": 30,
   "metadata": {},
   "outputs": [],
   "source": []
  },
  {
   "cell_type": "code",
   "execution_count": 36,
   "metadata": {},
   "outputs": [
    {
     "data": {
      "text/plain": [
       "4760"
      ]
     },
     "execution_count": 36,
     "metadata": {},
     "output_type": "execute_result"
    }
   ],
   "source": []
  },
  {
   "cell_type": "code",
   "execution_count": null,
   "metadata": {},
   "outputs": [],
   "source": []
  }
 ],
 "metadata": {
  "kernelspec": {
   "display_name": "Python 3",
   "language": "python",
   "name": "python3"
  },
  "language_info": {
   "codemirror_mode": {
    "name": "ipython",
    "version": 3
   },
   "file_extension": ".py",
   "mimetype": "text/x-python",
   "name": "python",
   "nbconvert_exporter": "python",
   "pygments_lexer": "ipython3",
   "version": "3.9.1"
  }
 },
 "nbformat": 4,
 "nbformat_minor": 2
}
