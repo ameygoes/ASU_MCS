{
  "cells": [
    {
      "cell_type": "markdown",
      "metadata": {
        "id": "86abac76"
      },
      "source": [
        "# CSE 572: Homework 2\n",
        "\n",
        "This notebook provides a template and starting code to implement the Homework 2 assignment.\n",
        "\n",
        "To execute and make changes to this notebook, click File > Save a copy to save your own version in your Google Drive or Github. Read the step-by-step instructions below carefully. To execute the code, click on each cell below and press the SHIFT-ENTER keys simultaneously or by clicking the Play button. \n",
        "\n",
        "When you finish executing all code/exercises, save your notebook then download a copy (.ipynb file). Submit the following **three** things:\n",
        "1. a link to your Colab notebook,\n",
        "2. the .ipynb file, and\n",
        "3. a pdf of the executed notebook on Canvas.\n",
        "\n",
        "To generate a pdf of the notebook, click File > Print > Save as PDF."
      ],
      "id": "86abac76"
    },
    {
      "cell_type": "markdown",
      "metadata": {
        "id": "60c95671"
      },
      "source": [
        "## Prepare the dataset\n",
        "\n",
        "In this homework, you will compare the effect of multiple dimensionality reduction techniques on the classification performance for the [Covertype](https://archive.ics.uci.edu/ml/datasets/Covertype) dataset.  \n",
        "\n",
        "Each instance in this dataset represents a 30 m x 30 m patch of forested land described by 54 attributes. The attributes include features such as elevation, aspect, slope, soil characteristics, etc. Each sample has an associated forest cover type (e.g., douglas fir or Ponderosa pine) represented by an integer value 1 to 7. The dataset was created by the Department of Forest Sciences at Colorado State University and the US Forest Service in 1998. "
      ],
      "id": "60c95671"
    },
    {
      "cell_type": "code",
      "execution_count": 1,
      "metadata": {
        "id": "3f315a7f"
      },
      "outputs": [],
      "source": [
        "import numpy as np\n",
        "\n",
        "# Set the random seed for reproducibility\n",
        "seed = 0\n",
        "np.random.seed(seed)"
      ],
      "id": "3f315a7f"
    },
    {
      "cell_type": "code",
      "execution_count": 2,
      "metadata": {
        "colab": {
          "base_uri": "https://localhost:8080/",
          "height": 392
        },
        "id": "29a5e8cb",
        "outputId": "3523dd5f-128c-42f5-c40b-96887a5564f4"
      },
      "outputs": [
        {
          "output_type": "execute_result",
          "data": {
            "text/plain": [
              "          0    1   2    3    4     5    6    7    8     9   ...  45  46  47  \\\n",
              "215988  2767   66  17  210   18  1190  234  204   96  2251  ...   0   0   0   \n",
              "424155  2724  160  19   60    4  1350  236  240  127  2514  ...   0   0   0   \n",
              "274437  2360   65   7  127   21  1377  227  226  134   339  ...   0   0   0   \n",
              "65944   2995   45   4  285   30  5125  221  231  146  5706  ...   0   0   0   \n",
              "11015   2400  106  27  150   63   342  253  196   51   811  ...   0   0   0   \n",
              "85781   2656   20   9  323   73  1082  214  221  143  1036  ...   0   0   0   \n",
              "505270  2992  105  36  201  141  1211  252  170   12  1584  ...   0   1   0   \n",
              "169233  3110   32  14  379   43  5028  216  208  125  2845  ...   0   0   0   \n",
              "373091  3242   40  15   85   19  3330  220  207  118  3164  ...   0   0   0   \n",
              "181345  3025  273  10  391   24  2797  192  243  190   234  ...   0   0   0   \n",
              "\n",
              "        48  49  50  51  52  53  54  \n",
              "215988   0   0   0   0   0   0   2  \n",
              "424155   0   0   0   0   0   0   2  \n",
              "274437   0   0   0   0   0   0   3  \n",
              "65944    0   0   0   0   0   0   2  \n",
              "11015    0   0   0   0   0   0   3  \n",
              "85781    0   0   0   0   0   0   2  \n",
              "505270   0   0   0   0   0   0   1  \n",
              "169233   0   0   0   0   0   0   1  \n",
              "373091   0   0   0   0   0   0   2  \n",
              "181345   0   0   0   0   0   0   1  \n",
              "\n",
              "[10 rows x 55 columns]"
            ],
            "text/html": [
              "\n",
              "  <div id=\"df-ac64aace-17db-4b56-8c24-a8736f0fb1a7\">\n",
              "    <div class=\"colab-df-container\">\n",
              "      <div>\n",
              "<style scoped>\n",
              "    .dataframe tbody tr th:only-of-type {\n",
              "        vertical-align: middle;\n",
              "    }\n",
              "\n",
              "    .dataframe tbody tr th {\n",
              "        vertical-align: top;\n",
              "    }\n",
              "\n",
              "    .dataframe thead th {\n",
              "        text-align: right;\n",
              "    }\n",
              "</style>\n",
              "<table border=\"1\" class=\"dataframe\">\n",
              "  <thead>\n",
              "    <tr style=\"text-align: right;\">\n",
              "      <th></th>\n",
              "      <th>0</th>\n",
              "      <th>1</th>\n",
              "      <th>2</th>\n",
              "      <th>3</th>\n",
              "      <th>4</th>\n",
              "      <th>5</th>\n",
              "      <th>6</th>\n",
              "      <th>7</th>\n",
              "      <th>8</th>\n",
              "      <th>9</th>\n",
              "      <th>...</th>\n",
              "      <th>45</th>\n",
              "      <th>46</th>\n",
              "      <th>47</th>\n",
              "      <th>48</th>\n",
              "      <th>49</th>\n",
              "      <th>50</th>\n",
              "      <th>51</th>\n",
              "      <th>52</th>\n",
              "      <th>53</th>\n",
              "      <th>54</th>\n",
              "    </tr>\n",
              "  </thead>\n",
              "  <tbody>\n",
              "    <tr>\n",
              "      <th>215988</th>\n",
              "      <td>2767</td>\n",
              "      <td>66</td>\n",
              "      <td>17</td>\n",
              "      <td>210</td>\n",
              "      <td>18</td>\n",
              "      <td>1190</td>\n",
              "      <td>234</td>\n",
              "      <td>204</td>\n",
              "      <td>96</td>\n",
              "      <td>2251</td>\n",
              "      <td>...</td>\n",
              "      <td>0</td>\n",
              "      <td>0</td>\n",
              "      <td>0</td>\n",
              "      <td>0</td>\n",
              "      <td>0</td>\n",
              "      <td>0</td>\n",
              "      <td>0</td>\n",
              "      <td>0</td>\n",
              "      <td>0</td>\n",
              "      <td>2</td>\n",
              "    </tr>\n",
              "    <tr>\n",
              "      <th>424155</th>\n",
              "      <td>2724</td>\n",
              "      <td>160</td>\n",
              "      <td>19</td>\n",
              "      <td>60</td>\n",
              "      <td>4</td>\n",
              "      <td>1350</td>\n",
              "      <td>236</td>\n",
              "      <td>240</td>\n",
              "      <td>127</td>\n",
              "      <td>2514</td>\n",
              "      <td>...</td>\n",
              "      <td>0</td>\n",
              "      <td>0</td>\n",
              "      <td>0</td>\n",
              "      <td>0</td>\n",
              "      <td>0</td>\n",
              "      <td>0</td>\n",
              "      <td>0</td>\n",
              "      <td>0</td>\n",
              "      <td>0</td>\n",
              "      <td>2</td>\n",
              "    </tr>\n",
              "    <tr>\n",
              "      <th>274437</th>\n",
              "      <td>2360</td>\n",
              "      <td>65</td>\n",
              "      <td>7</td>\n",
              "      <td>127</td>\n",
              "      <td>21</td>\n",
              "      <td>1377</td>\n",
              "      <td>227</td>\n",
              "      <td>226</td>\n",
              "      <td>134</td>\n",
              "      <td>339</td>\n",
              "      <td>...</td>\n",
              "      <td>0</td>\n",
              "      <td>0</td>\n",
              "      <td>0</td>\n",
              "      <td>0</td>\n",
              "      <td>0</td>\n",
              "      <td>0</td>\n",
              "      <td>0</td>\n",
              "      <td>0</td>\n",
              "      <td>0</td>\n",
              "      <td>3</td>\n",
              "    </tr>\n",
              "    <tr>\n",
              "      <th>65944</th>\n",
              "      <td>2995</td>\n",
              "      <td>45</td>\n",
              "      <td>4</td>\n",
              "      <td>285</td>\n",
              "      <td>30</td>\n",
              "      <td>5125</td>\n",
              "      <td>221</td>\n",
              "      <td>231</td>\n",
              "      <td>146</td>\n",
              "      <td>5706</td>\n",
              "      <td>...</td>\n",
              "      <td>0</td>\n",
              "      <td>0</td>\n",
              "      <td>0</td>\n",
              "      <td>0</td>\n",
              "      <td>0</td>\n",
              "      <td>0</td>\n",
              "      <td>0</td>\n",
              "      <td>0</td>\n",
              "      <td>0</td>\n",
              "      <td>2</td>\n",
              "    </tr>\n",
              "    <tr>\n",
              "      <th>11015</th>\n",
              "      <td>2400</td>\n",
              "      <td>106</td>\n",
              "      <td>27</td>\n",
              "      <td>150</td>\n",
              "      <td>63</td>\n",
              "      <td>342</td>\n",
              "      <td>253</td>\n",
              "      <td>196</td>\n",
              "      <td>51</td>\n",
              "      <td>811</td>\n",
              "      <td>...</td>\n",
              "      <td>0</td>\n",
              "      <td>0</td>\n",
              "      <td>0</td>\n",
              "      <td>0</td>\n",
              "      <td>0</td>\n",
              "      <td>0</td>\n",
              "      <td>0</td>\n",
              "      <td>0</td>\n",
              "      <td>0</td>\n",
              "      <td>3</td>\n",
              "    </tr>\n",
              "    <tr>\n",
              "      <th>85781</th>\n",
              "      <td>2656</td>\n",
              "      <td>20</td>\n",
              "      <td>9</td>\n",
              "      <td>323</td>\n",
              "      <td>73</td>\n",
              "      <td>1082</td>\n",
              "      <td>214</td>\n",
              "      <td>221</td>\n",
              "      <td>143</td>\n",
              "      <td>1036</td>\n",
              "      <td>...</td>\n",
              "      <td>0</td>\n",
              "      <td>0</td>\n",
              "      <td>0</td>\n",
              "      <td>0</td>\n",
              "      <td>0</td>\n",
              "      <td>0</td>\n",
              "      <td>0</td>\n",
              "      <td>0</td>\n",
              "      <td>0</td>\n",
              "      <td>2</td>\n",
              "    </tr>\n",
              "    <tr>\n",
              "      <th>505270</th>\n",
              "      <td>2992</td>\n",
              "      <td>105</td>\n",
              "      <td>36</td>\n",
              "      <td>201</td>\n",
              "      <td>141</td>\n",
              "      <td>1211</td>\n",
              "      <td>252</td>\n",
              "      <td>170</td>\n",
              "      <td>12</td>\n",
              "      <td>1584</td>\n",
              "      <td>...</td>\n",
              "      <td>0</td>\n",
              "      <td>1</td>\n",
              "      <td>0</td>\n",
              "      <td>0</td>\n",
              "      <td>0</td>\n",
              "      <td>0</td>\n",
              "      <td>0</td>\n",
              "      <td>0</td>\n",
              "      <td>0</td>\n",
              "      <td>1</td>\n",
              "    </tr>\n",
              "    <tr>\n",
              "      <th>169233</th>\n",
              "      <td>3110</td>\n",
              "      <td>32</td>\n",
              "      <td>14</td>\n",
              "      <td>379</td>\n",
              "      <td>43</td>\n",
              "      <td>5028</td>\n",
              "      <td>216</td>\n",
              "      <td>208</td>\n",
              "      <td>125</td>\n",
              "      <td>2845</td>\n",
              "      <td>...</td>\n",
              "      <td>0</td>\n",
              "      <td>0</td>\n",
              "      <td>0</td>\n",
              "      <td>0</td>\n",
              "      <td>0</td>\n",
              "      <td>0</td>\n",
              "      <td>0</td>\n",
              "      <td>0</td>\n",
              "      <td>0</td>\n",
              "      <td>1</td>\n",
              "    </tr>\n",
              "    <tr>\n",
              "      <th>373091</th>\n",
              "      <td>3242</td>\n",
              "      <td>40</td>\n",
              "      <td>15</td>\n",
              "      <td>85</td>\n",
              "      <td>19</td>\n",
              "      <td>3330</td>\n",
              "      <td>220</td>\n",
              "      <td>207</td>\n",
              "      <td>118</td>\n",
              "      <td>3164</td>\n",
              "      <td>...</td>\n",
              "      <td>0</td>\n",
              "      <td>0</td>\n",
              "      <td>0</td>\n",
              "      <td>0</td>\n",
              "      <td>0</td>\n",
              "      <td>0</td>\n",
              "      <td>0</td>\n",
              "      <td>0</td>\n",
              "      <td>0</td>\n",
              "      <td>2</td>\n",
              "    </tr>\n",
              "    <tr>\n",
              "      <th>181345</th>\n",
              "      <td>3025</td>\n",
              "      <td>273</td>\n",
              "      <td>10</td>\n",
              "      <td>391</td>\n",
              "      <td>24</td>\n",
              "      <td>2797</td>\n",
              "      <td>192</td>\n",
              "      <td>243</td>\n",
              "      <td>190</td>\n",
              "      <td>234</td>\n",
              "      <td>...</td>\n",
              "      <td>0</td>\n",
              "      <td>0</td>\n",
              "      <td>0</td>\n",
              "      <td>0</td>\n",
              "      <td>0</td>\n",
              "      <td>0</td>\n",
              "      <td>0</td>\n",
              "      <td>0</td>\n",
              "      <td>0</td>\n",
              "      <td>1</td>\n",
              "    </tr>\n",
              "  </tbody>\n",
              "</table>\n",
              "<p>10 rows × 55 columns</p>\n",
              "</div>\n",
              "      <button class=\"colab-df-convert\" onclick=\"convertToInteractive('df-ac64aace-17db-4b56-8c24-a8736f0fb1a7')\"\n",
              "              title=\"Convert this dataframe to an interactive table.\"\n",
              "              style=\"display:none;\">\n",
              "        \n",
              "  <svg xmlns=\"http://www.w3.org/2000/svg\" height=\"24px\"viewBox=\"0 0 24 24\"\n",
              "       width=\"24px\">\n",
              "    <path d=\"M0 0h24v24H0V0z\" fill=\"none\"/>\n",
              "    <path d=\"M18.56 5.44l.94 2.06.94-2.06 2.06-.94-2.06-.94-.94-2.06-.94 2.06-2.06.94zm-11 1L8.5 8.5l.94-2.06 2.06-.94-2.06-.94L8.5 2.5l-.94 2.06-2.06.94zm10 10l.94 2.06.94-2.06 2.06-.94-2.06-.94-.94-2.06-.94 2.06-2.06.94z\"/><path d=\"M17.41 7.96l-1.37-1.37c-.4-.4-.92-.59-1.43-.59-.52 0-1.04.2-1.43.59L10.3 9.45l-7.72 7.72c-.78.78-.78 2.05 0 2.83L4 21.41c.39.39.9.59 1.41.59.51 0 1.02-.2 1.41-.59l7.78-7.78 2.81-2.81c.8-.78.8-2.07 0-2.86zM5.41 20L4 18.59l7.72-7.72 1.47 1.35L5.41 20z\"/>\n",
              "  </svg>\n",
              "      </button>\n",
              "      \n",
              "  <style>\n",
              "    .colab-df-container {\n",
              "      display:flex;\n",
              "      flex-wrap:wrap;\n",
              "      gap: 12px;\n",
              "    }\n",
              "\n",
              "    .colab-df-convert {\n",
              "      background-color: #E8F0FE;\n",
              "      border: none;\n",
              "      border-radius: 50%;\n",
              "      cursor: pointer;\n",
              "      display: none;\n",
              "      fill: #1967D2;\n",
              "      height: 32px;\n",
              "      padding: 0 0 0 0;\n",
              "      width: 32px;\n",
              "    }\n",
              "\n",
              "    .colab-df-convert:hover {\n",
              "      background-color: #E2EBFA;\n",
              "      box-shadow: 0px 1px 2px rgba(60, 64, 67, 0.3), 0px 1px 3px 1px rgba(60, 64, 67, 0.15);\n",
              "      fill: #174EA6;\n",
              "    }\n",
              "\n",
              "    [theme=dark] .colab-df-convert {\n",
              "      background-color: #3B4455;\n",
              "      fill: #D2E3FC;\n",
              "    }\n",
              "\n",
              "    [theme=dark] .colab-df-convert:hover {\n",
              "      background-color: #434B5C;\n",
              "      box-shadow: 0px 1px 3px 1px rgba(0, 0, 0, 0.15);\n",
              "      filter: drop-shadow(0px 1px 2px rgba(0, 0, 0, 0.3));\n",
              "      fill: #FFFFFF;\n",
              "    }\n",
              "  </style>\n",
              "\n",
              "      <script>\n",
              "        const buttonEl =\n",
              "          document.querySelector('#df-ac64aace-17db-4b56-8c24-a8736f0fb1a7 button.colab-df-convert');\n",
              "        buttonEl.style.display =\n",
              "          google.colab.kernel.accessAllowed ? 'block' : 'none';\n",
              "\n",
              "        async function convertToInteractive(key) {\n",
              "          const element = document.querySelector('#df-ac64aace-17db-4b56-8c24-a8736f0fb1a7');\n",
              "          const dataTable =\n",
              "            await google.colab.kernel.invokeFunction('convertToInteractive',\n",
              "                                                     [key], {});\n",
              "          if (!dataTable) return;\n",
              "\n",
              "          const docLinkHtml = 'Like what you see? Visit the ' +\n",
              "            '<a target=\"_blank\" href=https://colab.research.google.com/notebooks/data_table.ipynb>data table notebook</a>'\n",
              "            + ' to learn more about interactive tables.';\n",
              "          element.innerHTML = '';\n",
              "          dataTable['output_type'] = 'display_data';\n",
              "          await google.colab.output.renderOutput(dataTable, element);\n",
              "          const docLink = document.createElement('div');\n",
              "          docLink.innerHTML = docLinkHtml;\n",
              "          element.appendChild(docLink);\n",
              "        }\n",
              "      </script>\n",
              "    </div>\n",
              "  </div>\n",
              "  "
            ]
          },
          "metadata": {},
          "execution_count": 2
        }
      ],
      "source": [
        "import pandas as pd\n",
        "\n",
        "# Load and visualize a sample of the dataset\n",
        "data = pd.read_csv('https://archive.ics.uci.edu/ml/machine-learning-databases/covtype/covtype.data.gz', header=None)\n",
        "\n",
        "data.sample(10)"
      ],
      "id": "29a5e8cb"
    },
    {
      "cell_type": "code",
      "execution_count": 3,
      "metadata": {
        "id": "1a7e3caa"
      },
      "outputs": [],
      "source": [
        "# Separate the label column from the data matrix\n",
        "labels = data[data.columns[-1]]\n",
        "data = data[data.columns[:-1]]"
      ],
      "id": "1a7e3caa"
    },
    {
      "cell_type": "code",
      "execution_count": 4,
      "metadata": {
        "colab": {
          "base_uri": "https://localhost:8080/"
        },
        "id": "4b920c83",
        "outputId": "5d291247-e328-49e1-e8ea-7d4ef23b1385"
      },
      "outputs": [
        {
          "output_type": "execute_result",
          "data": {
            "text/plain": [
              "2    283301\n",
              "1    211840\n",
              "3     35754\n",
              "7     20510\n",
              "6     17367\n",
              "5      9493\n",
              "4      2747\n",
              "Name: 54, dtype: int64"
            ]
          },
          "metadata": {},
          "execution_count": 4
        }
      ],
      "source": [
        "labels.value_counts()"
      ],
      "id": "4b920c83"
    },
    {
      "cell_type": "code",
      "execution_count": 5,
      "metadata": {
        "colab": {
          "base_uri": "https://localhost:8080/"
        },
        "id": "efbdcf34",
        "outputId": "c4ae304a-9e20-4a99-f2be-79ec702e9932"
      },
      "outputs": [
        {
          "output_type": "execute_result",
          "data": {
            "text/plain": [
              "(581012, 54)"
            ]
          },
          "metadata": {},
          "execution_count": 5
        }
      ],
      "source": [
        "data.shape"
      ],
      "id": "efbdcf34"
    },
    {
      "cell_type": "code",
      "execution_count": 6,
      "metadata": {
        "colab": {
          "base_uri": "https://localhost:8080/"
        },
        "id": "dc3c9589",
        "outputId": "53640697-1591-463d-def1-a0ce6848602f"
      },
      "outputs": [
        {
          "output_type": "execute_result",
          "data": {
            "text/plain": [
              "(581012,)"
            ]
          },
          "metadata": {},
          "execution_count": 6
        }
      ],
      "source": [
        "labels.shape"
      ],
      "id": "dc3c9589"
    },
    {
      "cell_type": "code",
      "execution_count": 7,
      "metadata": {
        "id": "056a96b8"
      },
      "outputs": [],
      "source": [
        "# YOUR CODE HERE\n",
        "\n",
        "import numpy as np\n",
        "import pandas as pd\n",
        "from sklearn.decomposition import PCA\n",
        "from sklearn.neighbors import KNeighborsClassifier\n",
        "from sklearn.metrics import classification_report, confusion_matrix\n",
        "from keras.models import Sequential\n",
        "from keras.layers import Dense\n",
        "from keras.optimizers import SGD\n",
        "from sklearn.model_selection import train_test_split\n",
        "from sklearn.preprocessing import StandardScaler\n"
      ],
      "id": "056a96b8"
    },
    {
      "cell_type": "code",
      "execution_count": 8,
      "metadata": {
        "id": "_phERgcs90bb"
      },
      "outputs": [],
      "source": [
        "X_train, X_test, y_train, y_test = train_test_split(\n",
        "    data, labels, test_size=0.3, random_state=seed\n",
        ")\n",
        "\n",
        "scaler = StandardScaler()\n",
        "X_train = scaler.fit_transform(X_train)\n",
        "X_test = scaler.transform(X_test)"
      ],
      "id": "_phERgcs90bb"
    },
    {
      "cell_type": "markdown",
      "metadata": {
        "id": "680c6d90"
      },
      "source": [
        "## Dimensionality reduction\n",
        "\n",
        "You will implement 2 dimensionality reduction techniques:\n",
        "- PCA (linear)\n",
        "- Autoencoder neural network (non-linear)\n",
        "\n",
        "For PCA, you will create a plot of the total fraction of explained variance by the first 1 through 20 principal components (as we did in Lab 12). Choose the number of principal components to retain based on the inflection point of this plot, i.e., the point at which the increase in total explained variance begins to plateau (as we did in Lab 12). Note that this may not be a sharp change in the curve; choose the number of components that you think is best based on the overall trend.\n",
        "\n",
        "For the autoencoder neural network, implement a network with the following layers:\n",
        "1. Input layer (# units = 54) [encoder]\n",
        "2. Hidden layer (# units = 28) [encoder]\n",
        "3. Hidden layer (# units = number of PCs retained for PCA) [encoded/bottleneck layer]\n",
        "4. Hidden layer (# units = 28) [decoder]\n",
        "5. Output layer (# units = 54) [decoder]\n",
        "\n",
        "For example, if you chose to use 3 principal components in PCA, you will have a bottleneck layer of 3 units in your autoencoder. \n",
        "\n",
        "Use ‘relu’ activation for hidden layers and ‘sigmoid’ activation for the output layer, ‘sgd’ (stochastic gradient descent) for the optimizer, and ‘mse’ (mean squared error) as the loss function. Train your model for 40 epochs with a batch size of 256. Lab 13 will be a useful guide for this implementation. Note that you will use the predict() function with only the encoder part of the model to transform your features into the encoded (reduced-dimension) representation."
      ],
      "id": "680c6d90"
    },
    {
      "cell_type": "markdown",
      "metadata": {
        "id": "6b552def"
      },
      "source": [
        "### PCA"
      ],
      "id": "6b552def"
    },
    {
      "cell_type": "code",
      "execution_count": 9,
      "metadata": {
        "id": "b0b608b1"
      },
      "outputs": [],
      "source": [
        "# YOUR CODE HERE\n",
        "\n",
        "# Perform PCA and choose the number of components based on explained variance\n",
        "n_components = 20\n",
        "pca = PCA(n_components=n_components).fit(X_train)"
      ],
      "id": "b0b608b1"
    },
    {
      "cell_type": "code",
      "execution_count": 10,
      "metadata": {
        "colab": {
          "base_uri": "https://localhost:8080/"
        },
        "id": "XY32Vf_q_dli",
        "outputId": "d91f02ce-e5db-4972-e476-a87dd2d73614"
      },
      "outputs": [
        {
          "output_type": "stream",
          "name": "stdout",
          "text": [
            "Percentage of variance explained by PC 1: 0.06854510716367838\n",
            "Percentage of variance explained by PC 2: 0.05415603987096903\n",
            "Percentage of variance explained by PC 3: 0.044426766653690004\n",
            "Percentage of variance explained by PC 4: 0.03708081109099429\n",
            "Percentage of variance explained by PC 5: 0.02807135700180049\n",
            "Percentage of variance explained by PC 6: 0.026995288955606253\n",
            "Percentage of variance explained by PC 7: 0.022131735175589397\n",
            "Percentage of variance explained by PC 8: 0.021422490437757267\n",
            "Percentage of variance explained by PC 9: 0.020203559378511725\n",
            "Percentage of variance explained by PC 10: 0.01995824478040058\n",
            "Percentage of variance explained by PC 11: 0.019648116576517004\n",
            "Percentage of variance explained by PC 12: 0.01952404929357709\n",
            "Percentage of variance explained by PC 13: 0.019251590529537697\n",
            "Percentage of variance explained by PC 14: 0.019022006315546985\n",
            "Percentage of variance explained by PC 15: 0.018971774413498184\n",
            "Percentage of variance explained by PC 16: 0.018915279071310277\n",
            "Percentage of variance explained by PC 17: 0.018826826378786337\n",
            "Percentage of variance explained by PC 18: 0.01876170542861221\n",
            "Percentage of variance explained by PC 19: 0.018716121025268363\n",
            "Percentage of variance explained by PC 20: 0.018683339616429682\n",
            "Total variance explained by 20 PCs: 0.5333122091580812\n"
          ]
        }
      ],
      "source": [
        "for i in range(n_components):\n",
        "    print('Percentage of variance explained by PC {}: {}'.format(i+1, pca.explained_variance_ratio_[i]))\n",
        "    \n",
        "print('Total variance explained by 20 PCs: {}'.format(np.sum(pca.explained_variance_ratio_)))"
      ],
      "id": "XY32Vf_q_dli"
    },
    {
      "cell_type": "code",
      "execution_count": 11,
      "metadata": {
        "colab": {
          "base_uri": "https://localhost:8080/",
          "height": 387
        },
        "id": "t6f0Vk1p_nLd",
        "outputId": "f856e6f4-b00a-4db7-94cc-3668bf594ee0"
      },
      "outputs": [
        {
          "output_type": "stream",
          "name": "stdout",
          "text": [
            "[0.06854510716367838, 0.1227011470346474, 0.1671279136883374, 0.2042087247793317, 0.23228008178113219, 0.25927537073673845, 0.28140710591232787, 0.30282959635008516, 0.32303315572859687, 0.34299140050899746, 0.36263951708551445, 0.38216356637909155, 0.4014151569086292, 0.42043716322417624, 0.4394089376376744, 0.4583242167089847, 0.47715104308777107, 0.4959127485163833, 0.5146288695416517, 0.5333122091580813]\n"
          ]
        },
        {
          "output_type": "display_data",
          "data": {
            "text/plain": [
              "<Figure size 576x360 with 1 Axes>"
            ],
            "image/png": "[encoded data removed]"
          },
          "metadata": {
            "needs_background": "light"
          }
        }
      ],
      "source": [
        "import matplotlib.pyplot as plt\n",
        "pcaResults=[]\n",
        "sumOfPCAs=np.sum(pca.explained_variance_ratio_)\n",
        "\n",
        "pcaResults.append((pca.explained_variance_ratio_[0]))\n",
        "\n",
        "for i in range(1,n_components):\n",
        "     pcaResults.append(pca.explained_variance_ratio_[i]+pcaResults[i-1])\n",
        "\n",
        "print(pcaResults)\n",
        "plt.figure(figsize=(8, 5))\n",
        "plt.plot([1,2,3,4,5,6,7,8,9,10,11,12,13,14,15,16,17,18,19,20], pcaResults, '-bo', linewidth=2, markersize=8)\n",
        "\n",
        "# Add axis labels and a title\n",
        "plt.xlabel('Number of Principal Components')\n",
        "plt.ylabel('Fraction of Total Variance Explained')\n",
        "plt.title('Total Variance Explained by Principal Components')\n",
        "\n",
        "# Add a grid to the plot\n",
        "plt.grid(True)\n",
        "\n",
        "# Show the plot\n",
        "plt.show()"
      ],
      "id": "t6f0Vk1p_nLd"
    },
    {
      "cell_type": "code",
      "execution_count": 12,
      "metadata": {
        "colab": {
          "base_uri": "https://localhost:8080/"
        },
        "id": "DRDLXuRjAXJi",
        "outputId": "4a0ce080-a261-4a6b-e583-f40d36461d1a"
      },
      "outputs": [
        {
          "output_type": "execute_result",
          "data": {
            "text/plain": [
              "(406708, 5)"
            ]
          },
          "metadata": {},
          "execution_count": 12
        }
      ],
      "source": [
        "# I am selecting 5 components.\n",
        "n_best_components = 5\n",
        "pca = PCA(n_components=n_best_components).fit(X_train)\n",
        "PCAX_train = pca.transform(X_train)\n",
        "PCAX_test = pca.transform(X_test)\n",
        "\n",
        "PCAX_train.shape"
      ],
      "id": "DRDLXuRjAXJi"
    },
    {
      "cell_type": "markdown",
      "metadata": {
        "id": "44530eff"
      },
      "source": [
        "### Autoencoder neural network"
      ],
      "id": "44530eff"
    },
    {
      "cell_type": "code",
      "execution_count": 13,
      "metadata": {
        "id": "94356c40"
      },
      "outputs": [],
      "source": [
        "# YOUR CODE HERE\n",
        "import tensorflow as tf\n",
        "seed = 0\n",
        "tf.keras.utils.set_random_seed(seed)\n",
        "\n",
        "import keras\n",
        "from keras import layers\n",
        "\n",
        "PCA_components = 5\n",
        "\n",
        "# Input\n",
        "input = keras.Input(shape=(X_train.shape[1],))\n",
        "\n",
        "#InputLayer\n",
        "# inputLayer = layers.Dense(54, activation='relu')(input) \n",
        "\n",
        "# Hidden Layer\n",
        "hiddenLayer1 = layers.Dense(28, activation='relu')(input)\n",
        "\n",
        "# BottleNeckLayer\n",
        "bottleNeckLayer = layers.Dense(PCA_components, activation='relu')(hiddenLayer1)\n",
        "\n",
        "# Hidden Layer\n",
        "hiddenLayer2 = layers.Dense(28, activation='relu')(bottleNeckLayer)\n",
        "\n",
        "# Pre-Output Layer\n",
        "preOutputLayer = layers.Dense(54, activation='relu')(hiddenLayer2)\n",
        "\n",
        "# Output Layer\n",
        "outputLayer = layers.Dense(X_train.shape[1], activation='sigmoid')(preOutputLayer)\n",
        "\n",
        "# Create AutoEncoder\n",
        "autoencoder = keras.Model(input, outputLayer)\n",
        "\n",
        "# Create Encoder\n",
        "encoder = keras.Model(input, bottleNeckLayer)"
      ],
      "id": "94356c40"
    },
    {
      "cell_type": "code",
      "execution_count": 14,
      "metadata": {
        "id": "Y9QF1TqACjN0"
      },
      "outputs": [],
      "source": [
        "# Optimizer\n",
        "autoencoder.compile(optimizer='sgd', loss='mse')"
      ],
      "id": "Y9QF1TqACjN0"
    },
    {
      "cell_type": "code",
      "execution_count": 15,
      "metadata": {
        "colab": {
          "base_uri": "https://localhost:8080/"
        },
        "id": "PIZ2JVZnDJ9_",
        "outputId": "b3a9a255-f551-4ea8-a719-fe3d76f16277"
      },
      "outputs": [
        {
          "output_type": "stream",
          "name": "stdout",
          "text": [
            "Epoch 1/40\n",
            "1589/1589 [==============================] - 9s 5ms/step - loss: 1.2314\n",
            "Epoch 2/40\n",
            "1589/1589 [==============================] - 3s 2ms/step - loss: 1.1426\n",
            "Epoch 3/40\n",
            "1589/1589 [==============================] - 3s 2ms/step - loss: 1.0147\n",
            "Epoch 4/40\n",
            "1589/1589 [==============================] - 4s 2ms/step - loss: 1.0006\n",
            "Epoch 5/40\n",
            "1589/1589 [==============================] - 4s 2ms/step - loss: 0.9984\n",
            "Epoch 6/40\n",
            "1589/1589 [==============================] - 3s 2ms/step - loss: 0.9971\n",
            "Epoch 7/40\n",
            "1589/1589 [==============================] - 3s 2ms/step - loss: 0.9958\n",
            "Epoch 8/40\n",
            "1589/1589 [==============================] - 4s 3ms/step - loss: 0.9947\n",
            "Epoch 9/40\n",
            "1589/1589 [==============================] - 3s 2ms/step - loss: 0.9937\n",
            "Epoch 10/40\n",
            "1589/1589 [==============================] - 3s 2ms/step - loss: 0.9927\n",
            "Epoch 11/40\n",
            "1589/1589 [==============================] - 4s 2ms/step - loss: 0.9918\n",
            "Epoch 12/40\n",
            "1589/1589 [==============================] - 4s 3ms/step - loss: 0.9908\n",
            "Epoch 13/40\n",
            "1589/1589 [==============================] - 3s 2ms/step - loss: 0.9898\n",
            "Epoch 14/40\n",
            "1589/1589 [==============================] - 3s 2ms/step - loss: 0.9889\n",
            "Epoch 15/40\n",
            "1589/1589 [==============================] - 4s 3ms/step - loss: 0.9881\n",
            "Epoch 16/40\n",
            "1589/1589 [==============================] - 3s 2ms/step - loss: 0.9872\n",
            "Epoch 17/40\n",
            "1589/1589 [==============================] - 3s 2ms/step - loss: 0.9862\n",
            "Epoch 18/40\n",
            "1589/1589 [==============================] - 3s 2ms/step - loss: 0.9850\n",
            "Epoch 19/40\n",
            "1589/1589 [==============================] - 4s 3ms/step - loss: 0.9836\n",
            "Epoch 20/40\n",
            "1589/1589 [==============================] - 3s 2ms/step - loss: 0.9820\n",
            "Epoch 21/40\n",
            "1589/1589 [==============================] - 3s 2ms/step - loss: 0.9802\n",
            "Epoch 22/40\n",
            "1589/1589 [==============================] - 4s 3ms/step - loss: 0.9783\n",
            "Epoch 23/40\n",
            "1589/1589 [==============================] - 3s 2ms/step - loss: 0.9762\n",
            "Epoch 24/40\n",
            "1589/1589 [==============================] - 3s 2ms/step - loss: 0.9741\n",
            "Epoch 25/40\n",
            "1589/1589 [==============================] - 3s 2ms/step - loss: 0.9720\n",
            "Epoch 26/40\n",
            "1589/1589 [==============================] - 4s 3ms/step - loss: 0.9699\n",
            "Epoch 27/40\n",
            "1589/1589 [==============================] - 3s 2ms/step - loss: 0.9679\n",
            "Epoch 28/40\n",
            "1589/1589 [==============================] - 3s 2ms/step - loss: 0.9660\n",
            "Epoch 29/40\n",
            "1589/1589 [==============================] - 5s 3ms/step - loss: 0.9642\n",
            "Epoch 30/40\n",
            "1589/1589 [==============================] - 3s 2ms/step - loss: 0.9624\n",
            "Epoch 31/40\n",
            "1589/1589 [==============================] - 3s 2ms/step - loss: 0.9607\n",
            "Epoch 32/40\n",
            "1589/1589 [==============================] - 4s 2ms/step - loss: 0.9591\n",
            "Epoch 33/40\n",
            "1589/1589 [==============================] - 4s 3ms/step - loss: 0.9575\n",
            "Epoch 34/40\n",
            "1589/1589 [==============================] - 4s 2ms/step - loss: 0.9559\n",
            "Epoch 35/40\n",
            "1589/1589 [==============================] - 4s 2ms/step - loss: 0.9543\n",
            "Epoch 36/40\n",
            "1589/1589 [==============================] - 4s 3ms/step - loss: 0.9527\n",
            "Epoch 37/40\n",
            "1589/1589 [==============================] - 3s 2ms/step - loss: 0.9512\n",
            "Epoch 38/40\n",
            "1589/1589 [==============================] - 4s 2ms/step - loss: 0.9499\n",
            "Epoch 39/40\n",
            "1589/1589 [==============================] - 4s 3ms/step - loss: 0.9487\n",
            "Epoch 40/40\n",
            "1589/1589 [==============================] - 4s 2ms/step - loss: 0.9477\n"
          ]
        },
        {
          "output_type": "execute_result",
          "data": {
            "text/plain": [
              "<keras.callbacks.History at 0x7f42777ede80>"
            ]
          },
          "metadata": {},
          "execution_count": 15
        }
      ],
      "source": [
        "# Train Autoencoder\n",
        "\n",
        "autoencoder.fit(x=X_train, y=X_train,\n",
        "                epochs=40,\n",
        "                batch_size=256,\n",
        "                shuffle=True)"
      ],
      "id": "PIZ2JVZnDJ9_"
    },
    {
      "cell_type": "code",
      "execution_count": 16,
      "metadata": {
        "colab": {
          "base_uri": "https://localhost:8080/"
        },
        "id": "phIiULg0vXgF",
        "outputId": "fe587732-eee3-4f97-d5d9-31dfa0925a42"
      },
      "outputs": [
        {
          "output_type": "stream",
          "name": "stdout",
          "text": [
            "12710/12710 [==============================] - 19s 1ms/step\n",
            "5447/5447 [==============================] - 8s 1ms/step\n"
          ]
        }
      ],
      "source": [
        "AE_X_train = encoder.predict(X_train)\n",
        "AE_X_test = encoder.predict(X_test)"
      ],
      "id": "phIiULg0vXgF"
    },
    {
      "cell_type": "markdown",
      "metadata": {
        "id": "56413dc6"
      },
      "source": [
        "## Classification\n",
        "\n",
        "You will use a k Nearest Neighbors classifier with 3 neighbors for the classification model (using Scikit-learn). Leave all other hyperparameters as their default values. You will train 3 separate random forest classifiers with 1) input data transformed using PCA, 2) input data transformed using autoencoder, 3) random subset of features. \n",
        "\n",
        "For the random subset of features, you should randomly select m features where m is the number of principal components and size of autoencoder bottleneck that you chose for #1 and #2. For example, if you used 3 principal components for #2 then you should randomly select a subset of 3 features."
      ],
      "id": "56413dc6"
    },
    {
      "cell_type": "code",
      "execution_count": 17,
      "metadata": {
        "id": "b6725d63"
      },
      "outputs": [],
      "source": [
        "# YOUR CODE HERE\n",
        "\n",
        "# PCA + KNN\n",
        "from sklearn.neighbors import KNeighborsClassifier\n",
        "\n",
        "knnPCA = KNeighborsClassifier(n_neighbors=3)\n",
        "\n",
        "\n",
        "knnPCA.fit(PCAX_train, y_train)\n",
        "\n",
        "y_predPCA = knnPCA.predict(PCAX_test)\n",
        "\n"
      ],
      "id": "b6725d63"
    },
    {
      "cell_type": "code",
      "execution_count": 18,
      "metadata": {
        "id": "i44_x3VAwCGZ"
      },
      "outputs": [],
      "source": [
        "# YOUR CODE HERE\n",
        "\n",
        "# AUTO-ENCODER + KNN\n",
        "from sklearn.neighbors import KNeighborsClassifier\n",
        "\n",
        "knnAE = KNeighborsClassifier(n_neighbors=3)\n",
        "\n",
        "knnAE.fit(AE_X_train, y_train)\n",
        "\n",
        "y_predAE = knnAE.predict(AE_X_test)"
      ],
      "id": "i44_x3VAwCGZ"
    },
    {
      "cell_type": "code",
      "execution_count": 19,
      "metadata": {
        "colab": {
          "base_uri": "https://localhost:8080/"
        },
        "id": "OffjRISGw5rD",
        "outputId": "49652ff4-6af7-4069-fe55-f49e7a1e46f1"
      },
      "outputs": [
        {
          "output_type": "stream",
          "name": "stdout",
          "text": [
            "[53, 33, 48, 26, 11]\n"
          ]
        }
      ],
      "source": [
        "# YOUR CODE HERE\n",
        "np.random.seed(0)\n",
        "columns = list(np.random.choice(range(data.shape[1]), PCA_components, replace=False))\n",
        "print(columns)\n",
        "BASE_X_train=X_train[:,columns]\n",
        "BASE_X_test=X_test[:,columns]\n",
        "\n",
        "# RANDOM STATE + KNN\n",
        "from sklearn.neighbors import KNeighborsClassifier\n",
        "\n",
        "knn = KNeighborsClassifier(n_neighbors=3)\n",
        "\n",
        "knn.fit(BASE_X_train, y_train)\n",
        "\n",
        "y_pred = knn.predict(BASE_X_test)"
      ],
      "id": "OffjRISGw5rD"
    },
    {
      "cell_type": "markdown",
      "metadata": {
        "id": "b5f713eb"
      },
      "source": [
        "## Evaluation\n",
        "\n",
        "Your final model evaluation should be performed on the test set. You will compare the results of the two dimensionality reduction + kNN methods (PCA + kNN, Autoencoder + kNN) as well as a baseline kNN classifier that does selects a random subset of features from the original attributes. For each of the 3 methods, print the classification report (including class-wise precision, recall, F1 + overall accuracy) and plot the confusion matrix. "
      ],
      "id": "b5f713eb"
    },
    {
      "cell_type": "code",
      "execution_count": 20,
      "metadata": {
        "colab": {
          "base_uri": "https://localhost:8080/"
        },
        "id": "2986a2bc",
        "outputId": "7401e30c-bc2d-4622-ebed-017128fb3b02"
      },
      "outputs": [
        {
          "output_type": "stream",
          "name": "stdout",
          "text": [
            "              precision    recall  f1-score   support\n",
            "\n",
            "           1       0.83      0.84      0.84     62755\n",
            "           2       0.87      0.85      0.86     87068\n",
            "           3       0.81      0.81      0.81     10625\n",
            "           4       0.60      0.74      0.67       671\n",
            "           5       0.57      0.68      0.62      2397\n",
            "           6       0.63      0.68      0.65      4878\n",
            "           7       0.86      0.89      0.87      5910\n",
            "\n",
            "    accuracy                           0.84    174304\n",
            "   macro avg       0.74      0.78      0.76    174304\n",
            "weighted avg       0.84      0.84      0.84    174304\n",
            "\n",
            "Accuracy score for PCA + KNN: 0.84\n"
          ]
        }
      ],
      "source": [
        "# YOUR CODE HERE\n",
        "# PCA + KNN Results\n",
        "\n",
        "from sklearn.metrics import classification_report,accuracy_score\n",
        "print(classification_report(y_predPCA, y_test))\n",
        "\n",
        "accPCA = accuracy_score(y_test, y_predPCA)\n",
        "print(f\"Accuracy score for PCA + KNN: {accPCA:.2f}\")\n"
      ],
      "id": "2986a2bc"
    },
    {
      "cell_type": "code",
      "execution_count": 21,
      "metadata": {
        "colab": {
          "base_uri": "https://localhost:8080/"
        },
        "id": "1jlWfGHD-T2C",
        "outputId": "45e1985a-af56-4e84-bbe2-bed8c4db31fe"
      },
      "outputs": [
        {
          "output_type": "execute_result",
          "data": {
            "text/plain": [
              "0         5\n",
              "1         5\n",
              "2         2\n",
              "3         2\n",
              "4         5\n",
              "         ..\n",
              "581007    3\n",
              "581008    3\n",
              "581009    3\n",
              "581010    3\n",
              "581011    3\n",
              "Name: 54, Length: 581012, dtype: int64"
            ]
          },
          "metadata": {},
          "execution_count": 21
        }
      ],
      "source": [
        "labels"
      ],
      "id": "1jlWfGHD-T2C"
    },
    {
      "cell_type": "code",
      "execution_count": 22,
      "metadata": {
        "colab": {
          "base_uri": "https://localhost:8080/",
          "height": 297
        },
        "id": "ZqgACRjt24uY",
        "outputId": "d1564860-194c-431a-ff78-cf80db6332c3"
      },
      "outputs": [
        {
          "output_type": "display_data",
          "data": {
            "text/plain": [
              "<Figure size 432x288 with 2 Axes>"
            ],
            "image/png": "[encoded data removed]"
          },
          "metadata": {
            "needs_background": "light"
          }
        }
      ],
      "source": [
        "from sklearn.metrics import ConfusionMatrixDisplay\n",
        "\n",
        "ConfusionMatrixDisplay.from_estimator(\n",
        "    knnPCA, PCAX_test, y_test, xticks_rotation=\"vertical\"\n",
        ")\n",
        "\n",
        "plt.tight_layout()\n",
        "plt.show()"
      ],
      "id": "ZqgACRjt24uY"
    },
    {
      "cell_type": "code",
      "execution_count": 23,
      "metadata": {
        "colab": {
          "base_uri": "https://localhost:8080/"
        },
        "id": "VvCskJQl3AXX",
        "outputId": "b21fbeb5-877c-4941-8223-2fd38a535b16"
      },
      "outputs": [
        {
          "output_type": "stream",
          "name": "stdout",
          "text": [
            "              precision    recall  f1-score   support\n",
            "\n",
            "           1       0.66      0.63      0.65     66362\n",
            "           2       0.72      0.70      0.71     87842\n",
            "           3       0.54      0.59      0.56      9754\n",
            "           4       0.21      0.42      0.28       415\n",
            "           5       0.24      0.46      0.32      1494\n",
            "           6       0.29      0.46      0.35      3291\n",
            "           7       0.60      0.71      0.65      5146\n",
            "\n",
            "    accuracy                           0.66    174304\n",
            "   macro avg       0.47      0.57      0.50    174304\n",
            "weighted avg       0.67      0.66      0.67    174304\n",
            "\n",
            "Accuracy score for Auto Encoder + KNN: 0.66\n"
          ]
        }
      ],
      "source": [
        "# AE + KNN Results\n",
        "\n",
        "print(classification_report(y_predAE, y_test))\n",
        "accAE = accuracy_score(y_test, y_predAE)\n",
        "print(f\"Accuracy score for Auto Encoder + KNN: {accAE:.2f}\")"
      ],
      "id": "VvCskJQl3AXX"
    },
    {
      "cell_type": "code",
      "execution_count": 24,
      "metadata": {
        "colab": {
          "base_uri": "https://localhost:8080/",
          "height": 297
        },
        "id": "Has_FJUo3jQL",
        "outputId": "2af3ae75-9116-4483-c5ff-516251645fc0"
      },
      "outputs": [
        {
          "output_type": "display_data",
          "data": {
            "text/plain": [
              "<Figure size 432x288 with 2 Axes>"
            ],
            "image/png": "[encoded data removed]"
          },
          "metadata": {
            "needs_background": "light"
          }
        }
      ],
      "source": [
        "ConfusionMatrixDisplay.from_estimator(\n",
        "    knnAE, AE_X_test, y_test, xticks_rotation=\"vertical\"\n",
        ")\n",
        "\n",
        "plt.tight_layout()\n",
        "plt.show()"
      ],
      "id": "Has_FJUo3jQL"
    },
    {
      "cell_type": "code",
      "execution_count": 25,
      "metadata": {
        "colab": {
          "base_uri": "https://localhost:8080/"
        },
        "id": "5IPA9iCl3yzH",
        "outputId": "278ec18f-7bb9-4d84-e9cc-8f94e8053732"
      },
      "outputs": [
        {
          "output_type": "stream",
          "name": "stdout",
          "text": [
            "              precision    recall  f1-score   support\n",
            "\n",
            "           1       0.10      0.63      0.18     10304\n",
            "           2       0.97      0.51      0.66    162995\n",
            "           3       0.00      0.00      0.00         0\n",
            "           4       0.00      0.00      0.00         0\n",
            "           5       0.00      0.00      0.00         0\n",
            "           6       0.00      0.00      0.00         0\n",
            "           7       0.10      0.61      0.17      1005\n",
            "\n",
            "    accuracy                           0.51    174304\n",
            "   macro avg       0.17      0.25      0.14    174304\n",
            "weighted avg       0.91      0.51      0.63    174304\n",
            "\n",
            "Accuracy score for Baseline KNN: 0.51\n"
          ]
        },
        {
          "output_type": "stream",
          "name": "stderr",
          "text": [
            "/usr/local/lib/python3.9/dist-packages/sklearn/metrics/_classification.py:1344: UndefinedMetricWarning: Recall and F-score are ill-defined and being set to 0.0 in labels with no true samples. Use `zero_division` parameter to control this behavior.\n",
            "  _warn_prf(average, modifier, msg_start, len(result))\n",
            "/usr/local/lib/python3.9/dist-packages/sklearn/metrics/_classification.py:1344: UndefinedMetricWarning: Recall and F-score are ill-defined and being set to 0.0 in labels with no true samples. Use `zero_division` parameter to control this behavior.\n",
            "  _warn_prf(average, modifier, msg_start, len(result))\n",
            "/usr/local/lib/python3.9/dist-packages/sklearn/metrics/_classification.py:1344: UndefinedMetricWarning: Recall and F-score are ill-defined and being set to 0.0 in labels with no true samples. Use `zero_division` parameter to control this behavior.\n",
            "  _warn_prf(average, modifier, msg_start, len(result))\n"
          ]
        }
      ],
      "source": [
        "# BASELINE KNN Results\n",
        "print(classification_report(y_pred, y_test))\n",
        "accAE = accuracy_score(y_test, y_pred)\n",
        "print(f\"Accuracy score for Baseline KNN: {accAE:.2f}\")"
      ],
      "id": "5IPA9iCl3yzH"
    },
    {
      "cell_type": "code",
      "execution_count": 26,
      "metadata": {
        "id": "m4TEY-Ee3y_B",
        "colab": {
          "base_uri": "https://localhost:8080/",
          "height": 297
        },
        "outputId": "d938de93-0e93-4d06-f43f-030a7f408a3f"
      },
      "outputs": [
        {
          "output_type": "display_data",
          "data": {
            "text/plain": [
              "<Figure size 432x288 with 2 Axes>"
            ],
            "image/png": "[encoded data removed]"
          },
          "metadata": {
            "needs_background": "light"
          }
        }
      ],
      "source": [
        "ConfusionMatrixDisplay.from_estimator(\n",
        "    knn, BASE_X_test, y_test, xticks_rotation=\"vertical\"\n",
        ")\n",
        "\n",
        "plt.tight_layout()\n",
        "plt.show()"
      ],
      "id": "m4TEY-Ee3y_B"
    },
    {
      "cell_type": "markdown",
      "metadata": {
        "id": "e4409dbf"
      },
      "source": [
        "## Discussion\n",
        "\n",
        "Briefly summarize the results from your three compared models.\n",
        "\n",
        "\n",
        "Summary of the results is:\n",
        "Overall Accuracy summary is:\n",
        "Baseline Model: 84% \\\n",
        "PCA + KNN: 66% \\\n",
        "Auto Encoder + KNN: 51% \\\n",
        "\n",
        "The PCA model and the autoencoder's F1 score differ by small factor as compared to baseline model observed to be. While the PCA model with all the features outperforms the performance by a considerable margin, there is a very significant tradeoff between the number of attributes and accuracy and choosing components that drive the majority of the result. \n",
        "\n",
        "We used 5 components for an accuracy of 84% (PCA) and 66% (Autoencoders) while we used 5 random of them to get an accuracy of 51%.\n",
        "\n",
        "Although training an baseline model required far more time and compute than training a PCA model, the PCA model still outperformed the autoencoders model.\n",
        "\n",
        "From this lab, we learned that, to train a model we don't need all its components or features, we just need enough components that contribute or vary the results the most to build a model that can predict with high accuracy."
      ],
      "id": "e4409dbf"
    }
  ],
  "metadata": {
    "colab": {
      "provenance": []
    },
    "kernelspec": {
      "display_name": "Python 3 (ipykernel)",
      "language": "python",
      "name": "python3"
    },
    "language_info": {
      "codemirror_mode": {
        "name": "ipython",
        "version": 3
      },
      "file_extension": ".py",
      "mimetype": "text/x-python",
      "name": "python",
      "nbconvert_exporter": "python",
      "pygments_lexer": "ipython3",
      "version": "3.9.13"
    }
  },
  "nbformat": 4,
  "nbformat_minor": 5
}