{
  "cells": [
    {
      "cell_type": "markdown",
      "metadata": {
        "id": "hzNgaTkQ8o2n"
      },
      "source": [
        "# CSE 572: Lab 14\n",
        "\n",
        "In this lab, you will practice implementing techniques for dimensionality reduction using features extracted by pre-trained neural networks and classification with transfer learning.\n",
        "\n",
        "To execute and make changes to this notebook, click File > Save a copy to save your own version in your Google Drive or Github. Read the step-by-step instructions below carefully. To execute the code, click on each cell below and press the SHIFT-ENTER keys simultaneously or by clicking the Play button. \n",
        "\n",
        "When you finish executing all code/exercises, save your notebook then download a copy (.ipynb file). Submit the following **three** things:\n",
        "1. a link to your Colab notebook,\n",
        "2. the .ipynb file, and\n",
        "3. a pdf of the executed notebook on Canvas.\n",
        "\n",
        "To generate a pdf of the notebook, click File > Print > Save as PDF."
      ]
    },
    {
      "cell_type": "markdown",
      "metadata": {
        "id": "Y4qa4pE58o2s"
      },
      "source": [
        "## Load the dataset\n",
        "\n",
        "We will use the same “Labeled Faces in the Wild” (LFW) [dataset](http://vis-www.cs.umass.edu/lfw/) that we used in Labs 12 and 13 for this lab. Since we are going to use neural networks pre-trained using the ImageNet database which has RGB color images, we will load in the images in color rather than grayscale format (`color=True`) and keep the original image size (`resize=1.0`)."
      ]
    },
    {
      "cell_type": "code",
      "execution_count": 20,
      "metadata": {
        "id": "nR3WqQY08o2t",
        "colab": {
          "base_uri": "https://localhost:8080/"
        },
        "outputId": "7a357ab8-e5c8-400e-bb10-8f101918b7ad"
      },
      "outputs": [
        {
          "output_type": "stream",
          "name": "stdout",
          "text": [
            "Num samples: 1288\n",
            "Num features: 22500\n",
            "Image dimensions: 100 x 75\n",
            "Num classes: 7\n",
            "Class names: ['Ariel Sharon' 'Colin Powell' 'Donald Rumsfeld' 'George W Bush'\n",
            " 'Gerhard Schroeder' 'Hugo Chavez' 'Tony Blair']\n"
          ]
        }
      ],
      "source": [
        "from sklearn.datasets import fetch_lfw_people\n",
        "\n",
        "lfw_people = fetch_lfw_people(min_faces_per_person=70, resize=0.8, color=True)\n",
        "\n",
        "# data attribute gives the data matrix with the image dimension flattened\n",
        "X = lfw_people.data\n",
        "print('Num samples: {}'.format(X.shape[0]))\n",
        "print('Num features: {}'.format(X.shape[1]))\n",
        "\n",
        "# images attribute gives the unflattened image dimension\n",
        "print('Image dimensions: {} x {}'.format(lfw_people.images.shape[1], lfw_people.images.shape[2]))\n",
        "\n",
        "# the label to predict is the id of the person\n",
        "y = lfw_people.target\n",
        "# target_names attribute tells us the name of the person associated with each id\n",
        "target_names = lfw_people.target_names\n",
        "n_classes = target_names.shape[0]\n",
        "print('Num classes: {}'.format(n_classes))\n",
        "print('Class names:', target_names)"
      ]
    },
    {
      "cell_type": "markdown",
      "metadata": {
        "id": "1hYq7WcY8o2v"
      },
      "source": [
        "The dataset has 1,288 images of the faces of 7 different people. The code below prints the number of samples from each class."
      ]
    },
    {
      "cell_type": "code",
      "execution_count": 21,
      "metadata": {
        "id": "SI4XtT-T8o2v",
        "colab": {
          "base_uri": "https://localhost:8080/"
        },
        "outputId": "1cf1161a-5c01-41f0-9d0b-06c6987a1cd5"
      },
      "outputs": [
        {
          "output_type": "stream",
          "name": "stdout",
          "text": [
            "Number of instances in class 0 (Ariel Sharon): 77\n",
            "Number of instances in class 1 (Colin Powell): 236\n",
            "Number of instances in class 2 (Donald Rumsfeld): 121\n",
            "Number of instances in class 3 (George W Bush): 530\n",
            "Number of instances in class 4 (Gerhard Schroeder): 109\n",
            "Number of instances in class 5 (Hugo Chavez): 71\n",
            "Number of instances in class 6 (Tony Blair): 144\n"
          ]
        }
      ],
      "source": [
        "for i in range(n_classes):\n",
        "    print('Number of instances in class {} ({}): {}'.format(i,\n",
        "                                                            target_names[i],\n",
        "                                                            y[y==i].shape[0]\n",
        "                                                           ))"
      ]
    },
    {
      "cell_type": "markdown",
      "metadata": {
        "id": "gUKhCtEo8o2v"
      },
      "source": [
        "To get an idea of what is in our dataset, we visualize a random face from each class below. (Note: You can run this cell many times to see different random examples.)"
      ]
    },
    {
      "cell_type": "code",
      "execution_count": 22,
      "metadata": {
        "id": "aKQfDMbK8o2w",
        "colab": {
          "base_uri": "https://localhost:8080/",
          "height": 165
        },
        "outputId": "3aa91286-05e9-467c-9d4e-3fe6feea6acc"
      },
      "outputs": [
        {
          "output_type": "display_data",
          "data": {
            "text/plain": [
              "<Figure size 936x432 with 7 Axes>"
            ],
            "image/png": "[encoded data removed]"
          },
          "metadata": {
            "needs_background": "light"
          }
        }
      ],
      "source": [
        "import numpy as np\n",
        "import matplotlib.pyplot as plt\n",
        "\n",
        "fig, axes = plt.subplots(ncols=n_classes, figsize=(13,6))\n",
        "\n",
        "for i in range(n_classes):\n",
        "    rand_ind = np.random.randint(0, y[y==i].shape[0])\n",
        "    axes[i].imshow(lfw_people.images[y==i][rand_ind])\n",
        "    axes[i].axis('off')\n",
        "    axes[i].set_title(target_names[i])"
      ]
    },
    {
      "cell_type": "markdown",
      "metadata": {
        "id": "uZxfa9H28o2w"
      },
      "source": [
        "Next, we will split the data into training and test subsets, using 30\\% of the data for testing."
      ]
    },
    {
      "cell_type": "code",
      "execution_count": 23,
      "metadata": {
        "id": "Oa5R_jvn8o2x"
      },
      "outputs": [],
      "source": [
        "from sklearn.model_selection import train_test_split\n",
        "\n",
        "X_train, X_test, y_train, y_test = train_test_split(\n",
        "    X, y, test_size=0.3, random_state=42\n",
        ")"
      ]
    },
    {
      "cell_type": "markdown",
      "metadata": {
        "id": "umWIR9w58o2x"
      },
      "source": [
        "Next we standardize the data so that the mean of all attributes is 0 using the StandardScaler() object in scikit-learn to standardize the data. We fit the scaler to the training data and apply it to both the training and test data."
      ]
    },
    {
      "cell_type": "code",
      "execution_count": 24,
      "metadata": {
        "id": "Wu9X0mM78o2y"
      },
      "outputs": [],
      "source": [
        "from sklearn.preprocessing import StandardScaler\n",
        "\n",
        "scaler = StandardScaler()\n",
        "X_train = scaler.fit_transform(X_train)\n",
        "X_test = scaler.transform(X_test)"
      ]
    },
    {
      "cell_type": "markdown",
      "metadata": {
        "id": "eEFtYW2B8o2y"
      },
      "source": [
        "## Feature extraction with pre-trained network\n",
        "\n",
        "One approach for non-linear dimensionality reduction is to extract features using a pre-trained neural network. The network is typically a large architecture that has shown state of the art performance for the pre-training task using a large dataset, in this case ImageNet. We will use the InceptionV3 model pre-trained with ImageNet for our feature extractor. \n",
        "\n",
        "Note that we pass the `include_top=False` argument to get the InceptionV3 architecture *without* the final classification layer so that the output will be the last hidden layer of the model."
      ]
    },
    {
      "cell_type": "code",
      "execution_count": 25,
      "metadata": {
        "id": "XF28x-g_8o2y"
      },
      "outputs": [],
      "source": [
        "import tensorflow as tf\n",
        "\n",
        "from tensorflow.keras.applications.inception_v3 import InceptionV3\n",
        "from tensorflow.keras.applications.inception_v3 import preprocess_input\n",
        "\n",
        "# Set the random seed for reproducibility\n",
        "seed = 0\n",
        "tf.keras.utils.set_random_seed(seed)"
      ]
    },
    {
      "cell_type": "code",
      "execution_count": 26,
      "metadata": {
        "id": "Zb7-VgEv8o2y",
        "colab": {
          "base_uri": "https://localhost:8080/"
        },
        "outputId": "22b19c27-7ccd-4cc7-9ace-d194e462b0ae"
      },
      "outputs": [
        {
          "output_type": "stream",
          "name": "stdout",
          "text": [
            "Model: \"inception_v3\"\n",
            "__________________________________________________________________________________________________\n",
            " Layer (type)                   Output Shape         Param #     Connected to                     \n",
            "==================================================================================================\n",
            " input_2 (InputLayer)           [(None, None, None,  0           []                               \n",
            "                                 3)]                                                              \n",
            "                                                                                                  \n",
            " conv2d_94 (Conv2D)             (None, None, None,   864         ['input_2[0][0]']                \n",
            "                                32)                                                               \n",
            "                                                                                                  \n",
            " batch_normalization_94 (BatchN  (None, None, None,   96         ['conv2d_94[0][0]']              \n",
            " ormalization)                  32)                                                               \n",
            "                                                                                                  \n",
            " activation_94 (Activation)     (None, None, None,   0           ['batch_normalization_94[0][0]'] \n",
            "                                32)                                                               \n",
            "                                                                                                  \n",
            " conv2d_95 (Conv2D)             (None, None, None,   9216        ['activation_94[0][0]']          \n",
            "                                32)                                                               \n",
            "                                                                                                  \n",
            " batch_normalization_95 (BatchN  (None, None, None,   96         ['conv2d_95[0][0]']              \n",
            " ormalization)                  32)                                                               \n",
            "                                                                                                  \n",
            " activation_95 (Activation)     (None, None, None,   0           ['batch_normalization_95[0][0]'] \n",
            "                                32)                                                               \n",
            "                                                                                                  \n",
            " conv2d_96 (Conv2D)             (None, None, None,   18432       ['activation_95[0][0]']          \n",
            "                                64)                                                               \n",
            "                                                                                                  \n",
            " batch_normalization_96 (BatchN  (None, None, None,   192        ['conv2d_96[0][0]']              \n",
            " ormalization)                  64)                                                               \n",
            "                                                                                                  \n",
            " activation_96 (Activation)     (None, None, None,   0           ['batch_normalization_96[0][0]'] \n",
            "                                64)                                                               \n",
            "                                                                                                  \n",
            " max_pooling2d_4 (MaxPooling2D)  (None, None, None,   0          ['activation_96[0][0]']          \n",
            "                                64)                                                               \n",
            "                                                                                                  \n",
            " conv2d_97 (Conv2D)             (None, None, None,   5120        ['max_pooling2d_4[0][0]']        \n",
            "                                80)                                                               \n",
            "                                                                                                  \n",
            " batch_normalization_97 (BatchN  (None, None, None,   240        ['conv2d_97[0][0]']              \n",
            " ormalization)                  80)                                                               \n",
            "                                                                                                  \n",
            " activation_97 (Activation)     (None, None, None,   0           ['batch_normalization_97[0][0]'] \n",
            "                                80)                                                               \n",
            "                                                                                                  \n",
            " conv2d_98 (Conv2D)             (None, None, None,   138240      ['activation_97[0][0]']          \n",
            "                                192)                                                              \n",
            "                                                                                                  \n",
            " batch_normalization_98 (BatchN  (None, None, None,   576        ['conv2d_98[0][0]']              \n",
            " ormalization)                  192)                                                              \n",
            "                                                                                                  \n",
            " activation_98 (Activation)     (None, None, None,   0           ['batch_normalization_98[0][0]'] \n",
            "                                192)                                                              \n",
            "                                                                                                  \n",
            " max_pooling2d_5 (MaxPooling2D)  (None, None, None,   0          ['activation_98[0][0]']          \n",
            "                                192)                                                              \n",
            "                                                                                                  \n",
            " conv2d_102 (Conv2D)            (None, None, None,   12288       ['max_pooling2d_5[0][0]']        \n",
            "                                64)                                                               \n",
            "                                                                                                  \n",
            " batch_normalization_102 (Batch  (None, None, None,   192        ['conv2d_102[0][0]']             \n",
            " Normalization)                 64)                                                               \n",
            "                                                                                                  \n",
            " activation_102 (Activation)    (None, None, None,   0           ['batch_normalization_102[0][0]']\n",
            "                                64)                                                               \n",
            "                                                                                                  \n",
            " conv2d_100 (Conv2D)            (None, None, None,   9216        ['max_pooling2d_5[0][0]']        \n",
            "                                48)                                                               \n",
            "                                                                                                  \n",
            " conv2d_103 (Conv2D)            (None, None, None,   55296       ['activation_102[0][0]']         \n",
            "                                96)                                                               \n",
            "                                                                                                  \n",
            " batch_normalization_100 (Batch  (None, None, None,   144        ['conv2d_100[0][0]']             \n",
            " Normalization)                 48)                                                               \n",
            "                                                                                                  \n",
            " batch_normalization_103 (Batch  (None, None, None,   288        ['conv2d_103[0][0]']             \n",
            " Normalization)                 96)                                                               \n",
            "                                                                                                  \n",
            " activation_100 (Activation)    (None, None, None,   0           ['batch_normalization_100[0][0]']\n",
            "                                48)                                                               \n",
            "                                                                                                  \n",
            " activation_103 (Activation)    (None, None, None,   0           ['batch_normalization_103[0][0]']\n",
            "                                96)                                                               \n",
            "                                                                                                  \n",
            " average_pooling2d_9 (AveragePo  (None, None, None,   0          ['max_pooling2d_5[0][0]']        \n",
            " oling2D)                       192)                                                              \n",
            "                                                                                                  \n",
            " conv2d_99 (Conv2D)             (None, None, None,   12288       ['max_pooling2d_5[0][0]']        \n",
            "                                64)                                                               \n",
            "                                                                                                  \n",
            " conv2d_101 (Conv2D)            (None, None, None,   76800       ['activation_100[0][0]']         \n",
            "                                64)                                                               \n",
            "                                                                                                  \n",
            " conv2d_104 (Conv2D)            (None, None, None,   82944       ['activation_103[0][0]']         \n",
            "                                96)                                                               \n",
            "                                                                                                  \n",
            " conv2d_105 (Conv2D)            (None, None, None,   6144        ['average_pooling2d_9[0][0]']    \n",
            "                                32)                                                               \n",
            "                                                                                                  \n",
            " batch_normalization_99 (BatchN  (None, None, None,   192        ['conv2d_99[0][0]']              \n",
            " ormalization)                  64)                                                               \n",
            "                                                                                                  \n",
            " batch_normalization_101 (Batch  (None, None, None,   192        ['conv2d_101[0][0]']             \n",
            " Normalization)                 64)                                                               \n",
            "                                                                                                  \n",
            " batch_normalization_104 (Batch  (None, None, None,   288        ['conv2d_104[0][0]']             \n",
            " Normalization)                 96)                                                               \n",
            "                                                                                                  \n",
            " batch_normalization_105 (Batch  (None, None, None,   96         ['conv2d_105[0][0]']             \n",
            " Normalization)                 32)                                                               \n",
            "                                                                                                  \n",
            " activation_99 (Activation)     (None, None, None,   0           ['batch_normalization_99[0][0]'] \n",
            "                                64)                                                               \n",
            "                                                                                                  \n",
            " activation_101 (Activation)    (None, None, None,   0           ['batch_normalization_101[0][0]']\n",
            "                                64)                                                               \n",
            "                                                                                                  \n",
            " activation_104 (Activation)    (None, None, None,   0           ['batch_normalization_104[0][0]']\n",
            "                                96)                                                               \n",
            "                                                                                                  \n",
            " activation_105 (Activation)    (None, None, None,   0           ['batch_normalization_105[0][0]']\n",
            "                                32)                                                               \n",
            "                                                                                                  \n",
            " mixed0 (Concatenate)           (None, None, None,   0           ['activation_99[0][0]',          \n",
            "                                256)                              'activation_101[0][0]',         \n",
            "                                                                  'activation_104[0][0]',         \n",
            "                                                                  'activation_105[0][0]']         \n",
            "                                                                                                  \n",
            " conv2d_109 (Conv2D)            (None, None, None,   16384       ['mixed0[0][0]']                 \n",
            "                                64)                                                               \n",
            "                                                                                                  \n",
            " batch_normalization_109 (Batch  (None, None, None,   192        ['conv2d_109[0][0]']             \n",
            " Normalization)                 64)                                                               \n",
            "                                                                                                  \n",
            " activation_109 (Activation)    (None, None, None,   0           ['batch_normalization_109[0][0]']\n",
            "                                64)                                                               \n",
            "                                                                                                  \n",
            " conv2d_107 (Conv2D)            (None, None, None,   12288       ['mixed0[0][0]']                 \n",
            "                                48)                                                               \n",
            "                                                                                                  \n",
            " conv2d_110 (Conv2D)            (None, None, None,   55296       ['activation_109[0][0]']         \n",
            "                                96)                                                               \n",
            "                                                                                                  \n",
            " batch_normalization_107 (Batch  (None, None, None,   144        ['conv2d_107[0][0]']             \n",
            " Normalization)                 48)                                                               \n",
            "                                                                                                  \n",
            " batch_normalization_110 (Batch  (None, None, None,   288        ['conv2d_110[0][0]']             \n",
            " Normalization)                 96)                                                               \n",
            "                                                                                                  \n",
            " activation_107 (Activation)    (None, None, None,   0           ['batch_normalization_107[0][0]']\n",
            "                                48)                                                               \n",
            "                                                                                                  \n",
            " activation_110 (Activation)    (None, None, None,   0           ['batch_normalization_110[0][0]']\n",
            "                                96)                                                               \n",
            "                                                                                                  \n",
            " average_pooling2d_10 (AverageP  (None, None, None,   0          ['mixed0[0][0]']                 \n",
            " ooling2D)                      256)                                                              \n",
            "                                                                                                  \n",
            " conv2d_106 (Conv2D)            (None, None, None,   16384       ['mixed0[0][0]']                 \n",
            "                                64)                                                               \n",
            "                                                                                                  \n",
            " conv2d_108 (Conv2D)            (None, None, None,   76800       ['activation_107[0][0]']         \n",
            "                                64)                                                               \n",
            "                                                                                                  \n",
            " conv2d_111 (Conv2D)            (None, None, None,   82944       ['activation_110[0][0]']         \n",
            "                                96)                                                               \n",
            "                                                                                                  \n",
            " conv2d_112 (Conv2D)            (None, None, None,   16384       ['average_pooling2d_10[0][0]']   \n",
            "                                64)                                                               \n",
            "                                                                                                  \n",
            " batch_normalization_106 (Batch  (None, None, None,   192        ['conv2d_106[0][0]']             \n",
            " Normalization)                 64)                                                               \n",
            "                                                                                                  \n",
            " batch_normalization_108 (Batch  (None, None, None,   192        ['conv2d_108[0][0]']             \n",
            " Normalization)                 64)                                                               \n",
            "                                                                                                  \n",
            " batch_normalization_111 (Batch  (None, None, None,   288        ['conv2d_111[0][0]']             \n",
            " Normalization)                 96)                                                               \n",
            "                                                                                                  \n",
            " batch_normalization_112 (Batch  (None, None, None,   192        ['conv2d_112[0][0]']             \n",
            " Normalization)                 64)                                                               \n",
            "                                                                                                  \n",
            " activation_106 (Activation)    (None, None, None,   0           ['batch_normalization_106[0][0]']\n",
            "                                64)                                                               \n",
            "                                                                                                  \n",
            " activation_108 (Activation)    (None, None, None,   0           ['batch_normalization_108[0][0]']\n",
            "                                64)                                                               \n",
            "                                                                                                  \n",
            " activation_111 (Activation)    (None, None, None,   0           ['batch_normalization_111[0][0]']\n",
            "                                96)                                                               \n",
            "                                                                                                  \n",
            " activation_112 (Activation)    (None, None, None,   0           ['batch_normalization_112[0][0]']\n",
            "                                64)                                                               \n",
            "                                                                                                  \n",
            " mixed1 (Concatenate)           (None, None, None,   0           ['activation_106[0][0]',         \n",
            "                                288)                              'activation_108[0][0]',         \n",
            "                                                                  'activation_111[0][0]',         \n",
            "                                                                  'activation_112[0][0]']         \n",
            "                                                                                                  \n",
            " conv2d_116 (Conv2D)            (None, None, None,   18432       ['mixed1[0][0]']                 \n",
            "                                64)                                                               \n",
            "                                                                                                  \n",
            " batch_normalization_116 (Batch  (None, None, None,   192        ['conv2d_116[0][0]']             \n",
            " Normalization)                 64)                                                               \n",
            "                                                                                                  \n",
            " activation_116 (Activation)    (None, None, None,   0           ['batch_normalization_116[0][0]']\n",
            "                                64)                                                               \n",
            "                                                                                                  \n",
            " conv2d_114 (Conv2D)            (None, None, None,   13824       ['mixed1[0][0]']                 \n",
            "                                48)                                                               \n",
            "                                                                                                  \n",
            " conv2d_117 (Conv2D)            (None, None, None,   55296       ['activation_116[0][0]']         \n",
            "                                96)                                                               \n",
            "                                                                                                  \n",
            " batch_normalization_114 (Batch  (None, None, None,   144        ['conv2d_114[0][0]']             \n",
            " Normalization)                 48)                                                               \n",
            "                                                                                                  \n",
            " batch_normalization_117 (Batch  (None, None, None,   288        ['conv2d_117[0][0]']             \n",
            " Normalization)                 96)                                                               \n",
            "                                                                                                  \n",
            " activation_114 (Activation)    (None, None, None,   0           ['batch_normalization_114[0][0]']\n",
            "                                48)                                                               \n",
            "                                                                                                  \n",
            " activation_117 (Activation)    (None, None, None,   0           ['batch_normalization_117[0][0]']\n",
            "                                96)                                                               \n",
            "                                                                                                  \n",
            " average_pooling2d_11 (AverageP  (None, None, None,   0          ['mixed1[0][0]']                 \n",
            " ooling2D)                      288)                                                              \n",
            "                                                                                                  \n",
            " conv2d_113 (Conv2D)            (None, None, None,   18432       ['mixed1[0][0]']                 \n",
            "                                64)                                                               \n",
            "                                                                                                  \n",
            " conv2d_115 (Conv2D)            (None, None, None,   76800       ['activation_114[0][0]']         \n",
            "                                64)                                                               \n",
            "                                                                                                  \n",
            " conv2d_118 (Conv2D)            (None, None, None,   82944       ['activation_117[0][0]']         \n",
            "                                96)                                                               \n",
            "                                                                                                  \n",
            " conv2d_119 (Conv2D)            (None, None, None,   18432       ['average_pooling2d_11[0][0]']   \n",
            "                                64)                                                               \n",
            "                                                                                                  \n",
            " batch_normalization_113 (Batch  (None, None, None,   192        ['conv2d_113[0][0]']             \n",
            " Normalization)                 64)                                                               \n",
            "                                                                                                  \n",
            " batch_normalization_115 (Batch  (None, None, None,   192        ['conv2d_115[0][0]']             \n",
            " Normalization)                 64)                                                               \n",
            "                                                                                                  \n",
            " batch_normalization_118 (Batch  (None, None, None,   288        ['conv2d_118[0][0]']             \n",
            " Normalization)                 96)                                                               \n",
            "                                                                                                  \n",
            " batch_normalization_119 (Batch  (None, None, None,   192        ['conv2d_119[0][0]']             \n",
            " Normalization)                 64)                                                               \n",
            "                                                                                                  \n",
            " activation_113 (Activation)    (None, None, None,   0           ['batch_normalization_113[0][0]']\n",
            "                                64)                                                               \n",
            "                                                                                                  \n",
            " activation_115 (Activation)    (None, None, None,   0           ['batch_normalization_115[0][0]']\n",
            "                                64)                                                               \n",
            "                                                                                                  \n",
            " activation_118 (Activation)    (None, None, None,   0           ['batch_normalization_118[0][0]']\n",
            "                                96)                                                               \n",
            "                                                                                                  \n",
            " activation_119 (Activation)    (None, None, None,   0           ['batch_normalization_119[0][0]']\n",
            "                                64)                                                               \n",
            "                                                                                                  \n",
            " mixed2 (Concatenate)           (None, None, None,   0           ['activation_113[0][0]',         \n",
            "                                288)                              'activation_115[0][0]',         \n",
            "                                                                  'activation_118[0][0]',         \n",
            "                                                                  'activation_119[0][0]']         \n",
            "                                                                                                  \n",
            " conv2d_121 (Conv2D)            (None, None, None,   18432       ['mixed2[0][0]']                 \n",
            "                                64)                                                               \n",
            "                                                                                                  \n",
            " batch_normalization_121 (Batch  (None, None, None,   192        ['conv2d_121[0][0]']             \n",
            " Normalization)                 64)                                                               \n",
            "                                                                                                  \n",
            " activation_121 (Activation)    (None, None, None,   0           ['batch_normalization_121[0][0]']\n",
            "                                64)                                                               \n",
            "                                                                                                  \n",
            " conv2d_122 (Conv2D)            (None, None, None,   55296       ['activation_121[0][0]']         \n",
            "                                96)                                                               \n",
            "                                                                                                  \n",
            " batch_normalization_122 (Batch  (None, None, None,   288        ['conv2d_122[0][0]']             \n",
            " Normalization)                 96)                                                               \n",
            "                                                                                                  \n",
            " activation_122 (Activation)    (None, None, None,   0           ['batch_normalization_122[0][0]']\n",
            "                                96)                                                               \n",
            "                                                                                                  \n",
            " conv2d_120 (Conv2D)            (None, None, None,   995328      ['mixed2[0][0]']                 \n",
            "                                384)                                                              \n",
            "                                                                                                  \n",
            " conv2d_123 (Conv2D)            (None, None, None,   82944       ['activation_122[0][0]']         \n",
            "                                96)                                                               \n",
            "                                                                                                  \n",
            " batch_normalization_120 (Batch  (None, None, None,   1152       ['conv2d_120[0][0]']             \n",
            " Normalization)                 384)                                                              \n",
            "                                                                                                  \n",
            " batch_normalization_123 (Batch  (None, None, None,   288        ['conv2d_123[0][0]']             \n",
            " Normalization)                 96)                                                               \n",
            "                                                                                                  \n",
            " activation_120 (Activation)    (None, None, None,   0           ['batch_normalization_120[0][0]']\n",
            "                                384)                                                              \n",
            "                                                                                                  \n",
            " activation_123 (Activation)    (None, None, None,   0           ['batch_normalization_123[0][0]']\n",
            "                                96)                                                               \n",
            "                                                                                                  \n",
            " max_pooling2d_6 (MaxPooling2D)  (None, None, None,   0          ['mixed2[0][0]']                 \n",
            "                                288)                                                              \n",
            "                                                                                                  \n",
            " mixed3 (Concatenate)           (None, None, None,   0           ['activation_120[0][0]',         \n",
            "                                768)                              'activation_123[0][0]',         \n",
            "                                                                  'max_pooling2d_6[0][0]']        \n",
            "                                                                                                  \n",
            " conv2d_128 (Conv2D)            (None, None, None,   98304       ['mixed3[0][0]']                 \n",
            "                                128)                                                              \n",
            "                                                                                                  \n",
            " batch_normalization_128 (Batch  (None, None, None,   384        ['conv2d_128[0][0]']             \n",
            " Normalization)                 128)                                                              \n",
            "                                                                                                  \n",
            " activation_128 (Activation)    (None, None, None,   0           ['batch_normalization_128[0][0]']\n",
            "                                128)                                                              \n",
            "                                                                                                  \n",
            " conv2d_129 (Conv2D)            (None, None, None,   114688      ['activation_128[0][0]']         \n",
            "                                128)                                                              \n",
            "                                                                                                  \n",
            " batch_normalization_129 (Batch  (None, None, None,   384        ['conv2d_129[0][0]']             \n",
            " Normalization)                 128)                                                              \n",
            "                                                                                                  \n",
            " activation_129 (Activation)    (None, None, None,   0           ['batch_normalization_129[0][0]']\n",
            "                                128)                                                              \n",
            "                                                                                                  \n",
            " conv2d_125 (Conv2D)            (None, None, None,   98304       ['mixed3[0][0]']                 \n",
            "                                128)                                                              \n",
            "                                                                                                  \n",
            " conv2d_130 (Conv2D)            (None, None, None,   114688      ['activation_129[0][0]']         \n",
            "                                128)                                                              \n",
            "                                                                                                  \n",
            " batch_normalization_125 (Batch  (None, None, None,   384        ['conv2d_125[0][0]']             \n",
            " Normalization)                 128)                                                              \n",
            "                                                                                                  \n",
            " batch_normalization_130 (Batch  (None, None, None,   384        ['conv2d_130[0][0]']             \n",
            " Normalization)                 128)                                                              \n",
            "                                                                                                  \n",
            " activation_125 (Activation)    (None, None, None,   0           ['batch_normalization_125[0][0]']\n",
            "                                128)                                                              \n",
            "                                                                                                  \n",
            " activation_130 (Activation)    (None, None, None,   0           ['batch_normalization_130[0][0]']\n",
            "                                128)                                                              \n",
            "                                                                                                  \n",
            " conv2d_126 (Conv2D)            (None, None, None,   114688      ['activation_125[0][0]']         \n",
            "                                128)                                                              \n",
            "                                                                                                  \n",
            " conv2d_131 (Conv2D)            (None, None, None,   114688      ['activation_130[0][0]']         \n",
            "                                128)                                                              \n",
            "                                                                                                  \n",
            " batch_normalization_126 (Batch  (None, None, None,   384        ['conv2d_126[0][0]']             \n",
            " Normalization)                 128)                                                              \n",
            "                                                                                                  \n",
            " batch_normalization_131 (Batch  (None, None, None,   384        ['conv2d_131[0][0]']             \n",
            " Normalization)                 128)                                                              \n",
            "                                                                                                  \n",
            " activation_126 (Activation)    (None, None, None,   0           ['batch_normalization_126[0][0]']\n",
            "                                128)                                                              \n",
            "                                                                                                  \n",
            " activation_131 (Activation)    (None, None, None,   0           ['batch_normalization_131[0][0]']\n",
            "                                128)                                                              \n",
            "                                                                                                  \n",
            " average_pooling2d_12 (AverageP  (None, None, None,   0          ['mixed3[0][0]']                 \n",
            " ooling2D)                      768)                                                              \n",
            "                                                                                                  \n",
            " conv2d_124 (Conv2D)            (None, None, None,   147456      ['mixed3[0][0]']                 \n",
            "                                192)                                                              \n",
            "                                                                                                  \n",
            " conv2d_127 (Conv2D)            (None, None, None,   172032      ['activation_126[0][0]']         \n",
            "                                192)                                                              \n",
            "                                                                                                  \n",
            " conv2d_132 (Conv2D)            (None, None, None,   172032      ['activation_131[0][0]']         \n",
            "                                192)                                                              \n",
            "                                                                                                  \n",
            " conv2d_133 (Conv2D)            (None, None, None,   147456      ['average_pooling2d_12[0][0]']   \n",
            "                                192)                                                              \n",
            "                                                                                                  \n",
            " batch_normalization_124 (Batch  (None, None, None,   576        ['conv2d_124[0][0]']             \n",
            " Normalization)                 192)                                                              \n",
            "                                                                                                  \n",
            " batch_normalization_127 (Batch  (None, None, None,   576        ['conv2d_127[0][0]']             \n",
            " Normalization)                 192)                                                              \n",
            "                                                                                                  \n",
            " batch_normalization_132 (Batch  (None, None, None,   576        ['conv2d_132[0][0]']             \n",
            " Normalization)                 192)                                                              \n",
            "                                                                                                  \n",
            " batch_normalization_133 (Batch  (None, None, None,   576        ['conv2d_133[0][0]']             \n",
            " Normalization)                 192)                                                              \n",
            "                                                                                                  \n",
            " activation_124 (Activation)    (None, None, None,   0           ['batch_normalization_124[0][0]']\n",
            "                                192)                                                              \n",
            "                                                                                                  \n",
            " activation_127 (Activation)    (None, None, None,   0           ['batch_normalization_127[0][0]']\n",
            "                                192)                                                              \n",
            "                                                                                                  \n",
            " activation_132 (Activation)    (None, None, None,   0           ['batch_normalization_132[0][0]']\n",
            "                                192)                                                              \n",
            "                                                                                                  \n",
            " activation_133 (Activation)    (None, None, None,   0           ['batch_normalization_133[0][0]']\n",
            "                                192)                                                              \n",
            "                                                                                                  \n",
            " mixed4 (Concatenate)           (None, None, None,   0           ['activation_124[0][0]',         \n",
            "                                768)                              'activation_127[0][0]',         \n",
            "                                                                  'activation_132[0][0]',         \n",
            "                                                                  'activation_133[0][0]']         \n",
            "                                                                                                  \n",
            " conv2d_138 (Conv2D)            (None, None, None,   122880      ['mixed4[0][0]']                 \n",
            "                                160)                                                              \n",
            "                                                                                                  \n",
            " batch_normalization_138 (Batch  (None, None, None,   480        ['conv2d_138[0][0]']             \n",
            " Normalization)                 160)                                                              \n",
            "                                                                                                  \n",
            " activation_138 (Activation)    (None, None, None,   0           ['batch_normalization_138[0][0]']\n",
            "                                160)                                                              \n",
            "                                                                                                  \n",
            " conv2d_139 (Conv2D)            (None, None, None,   179200      ['activation_138[0][0]']         \n",
            "                                160)                                                              \n",
            "                                                                                                  \n",
            " batch_normalization_139 (Batch  (None, None, None,   480        ['conv2d_139[0][0]']             \n",
            " Normalization)                 160)                                                              \n",
            "                                                                                                  \n",
            " activation_139 (Activation)    (None, None, None,   0           ['batch_normalization_139[0][0]']\n",
            "                                160)                                                              \n",
            "                                                                                                  \n",
            " conv2d_135 (Conv2D)            (None, None, None,   122880      ['mixed4[0][0]']                 \n",
            "                                160)                                                              \n",
            "                                                                                                  \n",
            " conv2d_140 (Conv2D)            (None, None, None,   179200      ['activation_139[0][0]']         \n",
            "                                160)                                                              \n",
            "                                                                                                  \n",
            " batch_normalization_135 (Batch  (None, None, None,   480        ['conv2d_135[0][0]']             \n",
            " Normalization)                 160)                                                              \n",
            "                                                                                                  \n",
            " batch_normalization_140 (Batch  (None, None, None,   480        ['conv2d_140[0][0]']             \n",
            " Normalization)                 160)                                                              \n",
            "                                                                                                  \n",
            " activation_135 (Activation)    (None, None, None,   0           ['batch_normalization_135[0][0]']\n",
            "                                160)                                                              \n",
            "                                                                                                  \n",
            " activation_140 (Activation)    (None, None, None,   0           ['batch_normalization_140[0][0]']\n",
            "                                160)                                                              \n",
            "                                                                                                  \n",
            " conv2d_136 (Conv2D)            (None, None, None,   179200      ['activation_135[0][0]']         \n",
            "                                160)                                                              \n",
            "                                                                                                  \n",
            " conv2d_141 (Conv2D)            (None, None, None,   179200      ['activation_140[0][0]']         \n",
            "                                160)                                                              \n",
            "                                                                                                  \n",
            " batch_normalization_136 (Batch  (None, None, None,   480        ['conv2d_136[0][0]']             \n",
            " Normalization)                 160)                                                              \n",
            "                                                                                                  \n",
            " batch_normalization_141 (Batch  (None, None, None,   480        ['conv2d_141[0][0]']             \n",
            " Normalization)                 160)                                                              \n",
            "                                                                                                  \n",
            " activation_136 (Activation)    (None, None, None,   0           ['batch_normalization_136[0][0]']\n",
            "                                160)                                                              \n",
            "                                                                                                  \n",
            " activation_141 (Activation)    (None, None, None,   0           ['batch_normalization_141[0][0]']\n",
            "                                160)                                                              \n",
            "                                                                                                  \n",
            " average_pooling2d_13 (AverageP  (None, None, None,   0          ['mixed4[0][0]']                 \n",
            " ooling2D)                      768)                                                              \n",
            "                                                                                                  \n",
            " conv2d_134 (Conv2D)            (None, None, None,   147456      ['mixed4[0][0]']                 \n",
            "                                192)                                                              \n",
            "                                                                                                  \n",
            " conv2d_137 (Conv2D)            (None, None, None,   215040      ['activation_136[0][0]']         \n",
            "                                192)                                                              \n",
            "                                                                                                  \n",
            " conv2d_142 (Conv2D)            (None, None, None,   215040      ['activation_141[0][0]']         \n",
            "                                192)                                                              \n",
            "                                                                                                  \n",
            " conv2d_143 (Conv2D)            (None, None, None,   147456      ['average_pooling2d_13[0][0]']   \n",
            "                                192)                                                              \n",
            "                                                                                                  \n",
            " batch_normalization_134 (Batch  (None, None, None,   576        ['conv2d_134[0][0]']             \n",
            " Normalization)                 192)                                                              \n",
            "                                                                                                  \n",
            " batch_normalization_137 (Batch  (None, None, None,   576        ['conv2d_137[0][0]']             \n",
            " Normalization)                 192)                                                              \n",
            "                                                                                                  \n",
            " batch_normalization_142 (Batch  (None, None, None,   576        ['conv2d_142[0][0]']             \n",
            " Normalization)                 192)                                                              \n",
            "                                                                                                  \n",
            " batch_normalization_143 (Batch  (None, None, None,   576        ['conv2d_143[0][0]']             \n",
            " Normalization)                 192)                                                              \n",
            "                                                                                                  \n",
            " activation_134 (Activation)    (None, None, None,   0           ['batch_normalization_134[0][0]']\n",
            "                                192)                                                              \n",
            "                                                                                                  \n",
            " activation_137 (Activation)    (None, None, None,   0           ['batch_normalization_137[0][0]']\n",
            "                                192)                                                              \n",
            "                                                                                                  \n",
            " activation_142 (Activation)    (None, None, None,   0           ['batch_normalization_142[0][0]']\n",
            "                                192)                                                              \n",
            "                                                                                                  \n",
            " activation_143 (Activation)    (None, None, None,   0           ['batch_normalization_143[0][0]']\n",
            "                                192)                                                              \n",
            "                                                                                                  \n",
            " mixed5 (Concatenate)           (None, None, None,   0           ['activation_134[0][0]',         \n",
            "                                768)                              'activation_137[0][0]',         \n",
            "                                                                  'activation_142[0][0]',         \n",
            "                                                                  'activation_143[0][0]']         \n",
            "                                                                                                  \n",
            " conv2d_148 (Conv2D)            (None, None, None,   122880      ['mixed5[0][0]']                 \n",
            "                                160)                                                              \n",
            "                                                                                                  \n",
            " batch_normalization_148 (Batch  (None, None, None,   480        ['conv2d_148[0][0]']             \n",
            " Normalization)                 160)                                                              \n",
            "                                                                                                  \n",
            " activation_148 (Activation)    (None, None, None,   0           ['batch_normalization_148[0][0]']\n",
            "                                160)                                                              \n",
            "                                                                                                  \n",
            " conv2d_149 (Conv2D)            (None, None, None,   179200      ['activation_148[0][0]']         \n",
            "                                160)                                                              \n",
            "                                                                                                  \n",
            " batch_normalization_149 (Batch  (None, None, None,   480        ['conv2d_149[0][0]']             \n",
            " Normalization)                 160)                                                              \n",
            "                                                                                                  \n",
            " activation_149 (Activation)    (None, None, None,   0           ['batch_normalization_149[0][0]']\n",
            "                                160)                                                              \n",
            "                                                                                                  \n",
            " conv2d_145 (Conv2D)            (None, None, None,   122880      ['mixed5[0][0]']                 \n",
            "                                160)                                                              \n",
            "                                                                                                  \n",
            " conv2d_150 (Conv2D)            (None, None, None,   179200      ['activation_149[0][0]']         \n",
            "                                160)                                                              \n",
            "                                                                                                  \n",
            " batch_normalization_145 (Batch  (None, None, None,   480        ['conv2d_145[0][0]']             \n",
            " Normalization)                 160)                                                              \n",
            "                                                                                                  \n",
            " batch_normalization_150 (Batch  (None, None, None,   480        ['conv2d_150[0][0]']             \n",
            " Normalization)                 160)                                                              \n",
            "                                                                                                  \n",
            " activation_145 (Activation)    (None, None, None,   0           ['batch_normalization_145[0][0]']\n",
            "                                160)                                                              \n",
            "                                                                                                  \n",
            " activation_150 (Activation)    (None, None, None,   0           ['batch_normalization_150[0][0]']\n",
            "                                160)                                                              \n",
            "                                                                                                  \n",
            " conv2d_146 (Conv2D)            (None, None, None,   179200      ['activation_145[0][0]']         \n",
            "                                160)                                                              \n",
            "                                                                                                  \n",
            " conv2d_151 (Conv2D)            (None, None, None,   179200      ['activation_150[0][0]']         \n",
            "                                160)                                                              \n",
            "                                                                                                  \n",
            " batch_normalization_146 (Batch  (None, None, None,   480        ['conv2d_146[0][0]']             \n",
            " Normalization)                 160)                                                              \n",
            "                                                                                                  \n",
            " batch_normalization_151 (Batch  (None, None, None,   480        ['conv2d_151[0][0]']             \n",
            " Normalization)                 160)                                                              \n",
            "                                                                                                  \n",
            " activation_146 (Activation)    (None, None, None,   0           ['batch_normalization_146[0][0]']\n",
            "                                160)                                                              \n",
            "                                                                                                  \n",
            " activation_151 (Activation)    (None, None, None,   0           ['batch_normalization_151[0][0]']\n",
            "                                160)                                                              \n",
            "                                                                                                  \n",
            " average_pooling2d_14 (AverageP  (None, None, None,   0          ['mixed5[0][0]']                 \n",
            " ooling2D)                      768)                                                              \n",
            "                                                                                                  \n",
            " conv2d_144 (Conv2D)            (None, None, None,   147456      ['mixed5[0][0]']                 \n",
            "                                192)                                                              \n",
            "                                                                                                  \n",
            " conv2d_147 (Conv2D)            (None, None, None,   215040      ['activation_146[0][0]']         \n",
            "                                192)                                                              \n",
            "                                                                                                  \n",
            " conv2d_152 (Conv2D)            (None, None, None,   215040      ['activation_151[0][0]']         \n",
            "                                192)                                                              \n",
            "                                                                                                  \n",
            " conv2d_153 (Conv2D)            (None, None, None,   147456      ['average_pooling2d_14[0][0]']   \n",
            "                                192)                                                              \n",
            "                                                                                                  \n",
            " batch_normalization_144 (Batch  (None, None, None,   576        ['conv2d_144[0][0]']             \n",
            " Normalization)                 192)                                                              \n",
            "                                                                                                  \n",
            " batch_normalization_147 (Batch  (None, None, None,   576        ['conv2d_147[0][0]']             \n",
            " Normalization)                 192)                                                              \n",
            "                                                                                                  \n",
            " batch_normalization_152 (Batch  (None, None, None,   576        ['conv2d_152[0][0]']             \n",
            " Normalization)                 192)                                                              \n",
            "                                                                                                  \n",
            " batch_normalization_153 (Batch  (None, None, None,   576        ['conv2d_153[0][0]']             \n",
            " Normalization)                 192)                                                              \n",
            "                                                                                                  \n",
            " activation_144 (Activation)    (None, None, None,   0           ['batch_normalization_144[0][0]']\n",
            "                                192)                                                              \n",
            "                                                                                                  \n",
            " activation_147 (Activation)    (None, None, None,   0           ['batch_normalization_147[0][0]']\n",
            "                                192)                                                              \n",
            "                                                                                                  \n",
            " activation_152 (Activation)    (None, None, None,   0           ['batch_normalization_152[0][0]']\n",
            "                                192)                                                              \n",
            "                                                                                                  \n",
            " activation_153 (Activation)    (None, None, None,   0           ['batch_normalization_153[0][0]']\n",
            "                                192)                                                              \n",
            "                                                                                                  \n",
            " mixed6 (Concatenate)           (None, None, None,   0           ['activation_144[0][0]',         \n",
            "                                768)                              'activation_147[0][0]',         \n",
            "                                                                  'activation_152[0][0]',         \n",
            "                                                                  'activation_153[0][0]']         \n",
            "                                                                                                  \n",
            " conv2d_158 (Conv2D)            (None, None, None,   147456      ['mixed6[0][0]']                 \n",
            "                                192)                                                              \n",
            "                                                                                                  \n",
            " batch_normalization_158 (Batch  (None, None, None,   576        ['conv2d_158[0][0]']             \n",
            " Normalization)                 192)                                                              \n",
            "                                                                                                  \n",
            " activation_158 (Activation)    (None, None, None,   0           ['batch_normalization_158[0][0]']\n",
            "                                192)                                                              \n",
            "                                                                                                  \n",
            " conv2d_159 (Conv2D)            (None, None, None,   258048      ['activation_158[0][0]']         \n",
            "                                192)                                                              \n",
            "                                                                                                  \n",
            " batch_normalization_159 (Batch  (None, None, None,   576        ['conv2d_159[0][0]']             \n",
            " Normalization)                 192)                                                              \n",
            "                                                                                                  \n",
            " activation_159 (Activation)    (None, None, None,   0           ['batch_normalization_159[0][0]']\n",
            "                                192)                                                              \n",
            "                                                                                                  \n",
            " conv2d_155 (Conv2D)            (None, None, None,   147456      ['mixed6[0][0]']                 \n",
            "                                192)                                                              \n",
            "                                                                                                  \n",
            " conv2d_160 (Conv2D)            (None, None, None,   258048      ['activation_159[0][0]']         \n",
            "                                192)                                                              \n",
            "                                                                                                  \n",
            " batch_normalization_155 (Batch  (None, None, None,   576        ['conv2d_155[0][0]']             \n",
            " Normalization)                 192)                                                              \n",
            "                                                                                                  \n",
            " batch_normalization_160 (Batch  (None, None, None,   576        ['conv2d_160[0][0]']             \n",
            " Normalization)                 192)                                                              \n",
            "                                                                                                  \n",
            " activation_155 (Activation)    (None, None, None,   0           ['batch_normalization_155[0][0]']\n",
            "                                192)                                                              \n",
            "                                                                                                  \n",
            " activation_160 (Activation)    (None, None, None,   0           ['batch_normalization_160[0][0]']\n",
            "                                192)                                                              \n",
            "                                                                                                  \n",
            " conv2d_156 (Conv2D)            (None, None, None,   258048      ['activation_155[0][0]']         \n",
            "                                192)                                                              \n",
            "                                                                                                  \n",
            " conv2d_161 (Conv2D)            (None, None, None,   258048      ['activation_160[0][0]']         \n",
            "                                192)                                                              \n",
            "                                                                                                  \n",
            " batch_normalization_156 (Batch  (None, None, None,   576        ['conv2d_156[0][0]']             \n",
            " Normalization)                 192)                                                              \n",
            "                                                                                                  \n",
            " batch_normalization_161 (Batch  (None, None, None,   576        ['conv2d_161[0][0]']             \n",
            " Normalization)                 192)                                                              \n",
            "                                                                                                  \n",
            " activation_156 (Activation)    (None, None, None,   0           ['batch_normalization_156[0][0]']\n",
            "                                192)                                                              \n",
            "                                                                                                  \n",
            " activation_161 (Activation)    (None, None, None,   0           ['batch_normalization_161[0][0]']\n",
            "                                192)                                                              \n",
            "                                                                                                  \n",
            " average_pooling2d_15 (AverageP  (None, None, None,   0          ['mixed6[0][0]']                 \n",
            " ooling2D)                      768)                                                              \n",
            "                                                                                                  \n",
            " conv2d_154 (Conv2D)            (None, None, None,   147456      ['mixed6[0][0]']                 \n",
            "                                192)                                                              \n",
            "                                                                                                  \n",
            " conv2d_157 (Conv2D)            (None, None, None,   258048      ['activation_156[0][0]']         \n",
            "                                192)                                                              \n",
            "                                                                                                  \n",
            " conv2d_162 (Conv2D)            (None, None, None,   258048      ['activation_161[0][0]']         \n",
            "                                192)                                                              \n",
            "                                                                                                  \n",
            " conv2d_163 (Conv2D)            (None, None, None,   147456      ['average_pooling2d_15[0][0]']   \n",
            "                                192)                                                              \n",
            "                                                                                                  \n",
            " batch_normalization_154 (Batch  (None, None, None,   576        ['conv2d_154[0][0]']             \n",
            " Normalization)                 192)                                                              \n",
            "                                                                                                  \n",
            " batch_normalization_157 (Batch  (None, None, None,   576        ['conv2d_157[0][0]']             \n",
            " Normalization)                 192)                                                              \n",
            "                                                                                                  \n",
            " batch_normalization_162 (Batch  (None, None, None,   576        ['conv2d_162[0][0]']             \n",
            " Normalization)                 192)                                                              \n",
            "                                                                                                  \n",
            " batch_normalization_163 (Batch  (None, None, None,   576        ['conv2d_163[0][0]']             \n",
            " Normalization)                 192)                                                              \n",
            "                                                                                                  \n",
            " activation_154 (Activation)    (None, None, None,   0           ['batch_normalization_154[0][0]']\n",
            "                                192)                                                              \n",
            "                                                                                                  \n",
            " activation_157 (Activation)    (None, None, None,   0           ['batch_normalization_157[0][0]']\n",
            "                                192)                                                              \n",
            "                                                                                                  \n",
            " activation_162 (Activation)    (None, None, None,   0           ['batch_normalization_162[0][0]']\n",
            "                                192)                                                              \n",
            "                                                                                                  \n",
            " activation_163 (Activation)    (None, None, None,   0           ['batch_normalization_163[0][0]']\n",
            "                                192)                                                              \n",
            "                                                                                                  \n",
            " mixed7 (Concatenate)           (None, None, None,   0           ['activation_154[0][0]',         \n",
            "                                768)                              'activation_157[0][0]',         \n",
            "                                                                  'activation_162[0][0]',         \n",
            "                                                                  'activation_163[0][0]']         \n",
            "                                                                                                  \n",
            " conv2d_166 (Conv2D)            (None, None, None,   147456      ['mixed7[0][0]']                 \n",
            "                                192)                                                              \n",
            "                                                                                                  \n",
            " batch_normalization_166 (Batch  (None, None, None,   576        ['conv2d_166[0][0]']             \n",
            " Normalization)                 192)                                                              \n",
            "                                                                                                  \n",
            " activation_166 (Activation)    (None, None, None,   0           ['batch_normalization_166[0][0]']\n",
            "                                192)                                                              \n",
            "                                                                                                  \n",
            " conv2d_167 (Conv2D)            (None, None, None,   258048      ['activation_166[0][0]']         \n",
            "                                192)                                                              \n",
            "                                                                                                  \n",
            " batch_normalization_167 (Batch  (None, None, None,   576        ['conv2d_167[0][0]']             \n",
            " Normalization)                 192)                                                              \n",
            "                                                                                                  \n",
            " activation_167 (Activation)    (None, None, None,   0           ['batch_normalization_167[0][0]']\n",
            "                                192)                                                              \n",
            "                                                                                                  \n",
            " conv2d_164 (Conv2D)            (None, None, None,   147456      ['mixed7[0][0]']                 \n",
            "                                192)                                                              \n",
            "                                                                                                  \n",
            " conv2d_168 (Conv2D)            (None, None, None,   258048      ['activation_167[0][0]']         \n",
            "                                192)                                                              \n",
            "                                                                                                  \n",
            " batch_normalization_164 (Batch  (None, None, None,   576        ['conv2d_164[0][0]']             \n",
            " Normalization)                 192)                                                              \n",
            "                                                                                                  \n",
            " batch_normalization_168 (Batch  (None, None, None,   576        ['conv2d_168[0][0]']             \n",
            " Normalization)                 192)                                                              \n",
            "                                                                                                  \n",
            " activation_164 (Activation)    (None, None, None,   0           ['batch_normalization_164[0][0]']\n",
            "                                192)                                                              \n",
            "                                                                                                  \n",
            " activation_168 (Activation)    (None, None, None,   0           ['batch_normalization_168[0][0]']\n",
            "                                192)                                                              \n",
            "                                                                                                  \n",
            " conv2d_165 (Conv2D)            (None, None, None,   552960      ['activation_164[0][0]']         \n",
            "                                320)                                                              \n",
            "                                                                                                  \n",
            " conv2d_169 (Conv2D)            (None, None, None,   331776      ['activation_168[0][0]']         \n",
            "                                192)                                                              \n",
            "                                                                                                  \n",
            " batch_normalization_165 (Batch  (None, None, None,   960        ['conv2d_165[0][0]']             \n",
            " Normalization)                 320)                                                              \n",
            "                                                                                                  \n",
            " batch_normalization_169 (Batch  (None, None, None,   576        ['conv2d_169[0][0]']             \n",
            " Normalization)                 192)                                                              \n",
            "                                                                                                  \n",
            " activation_165 (Activation)    (None, None, None,   0           ['batch_normalization_165[0][0]']\n",
            "                                320)                                                              \n",
            "                                                                                                  \n",
            " activation_169 (Activation)    (None, None, None,   0           ['batch_normalization_169[0][0]']\n",
            "                                192)                                                              \n",
            "                                                                                                  \n",
            " max_pooling2d_7 (MaxPooling2D)  (None, None, None,   0          ['mixed7[0][0]']                 \n",
            "                                768)                                                              \n",
            "                                                                                                  \n",
            " mixed8 (Concatenate)           (None, None, None,   0           ['activation_165[0][0]',         \n",
            "                                1280)                             'activation_169[0][0]',         \n",
            "                                                                  'max_pooling2d_7[0][0]']        \n",
            "                                                                                                  \n",
            " conv2d_174 (Conv2D)            (None, None, None,   573440      ['mixed8[0][0]']                 \n",
            "                                448)                                                              \n",
            "                                                                                                  \n",
            " batch_normalization_174 (Batch  (None, None, None,   1344       ['conv2d_174[0][0]']             \n",
            " Normalization)                 448)                                                              \n",
            "                                                                                                  \n",
            " activation_174 (Activation)    (None, None, None,   0           ['batch_normalization_174[0][0]']\n",
            "                                448)                                                              \n",
            "                                                                                                  \n",
            " conv2d_171 (Conv2D)            (None, None, None,   491520      ['mixed8[0][0]']                 \n",
            "                                384)                                                              \n",
            "                                                                                                  \n",
            " conv2d_175 (Conv2D)            (None, None, None,   1548288     ['activation_174[0][0]']         \n",
            "                                384)                                                              \n",
            "                                                                                                  \n",
            " batch_normalization_171 (Batch  (None, None, None,   1152       ['conv2d_171[0][0]']             \n",
            " Normalization)                 384)                                                              \n",
            "                                                                                                  \n",
            " batch_normalization_175 (Batch  (None, None, None,   1152       ['conv2d_175[0][0]']             \n",
            " Normalization)                 384)                                                              \n",
            "                                                                                                  \n",
            " activation_171 (Activation)    (None, None, None,   0           ['batch_normalization_171[0][0]']\n",
            "                                384)                                                              \n",
            "                                                                                                  \n",
            " activation_175 (Activation)    (None, None, None,   0           ['batch_normalization_175[0][0]']\n",
            "                                384)                                                              \n",
            "                                                                                                  \n",
            " conv2d_172 (Conv2D)            (None, None, None,   442368      ['activation_171[0][0]']         \n",
            "                                384)                                                              \n",
            "                                                                                                  \n",
            " conv2d_173 (Conv2D)            (None, None, None,   442368      ['activation_171[0][0]']         \n",
            "                                384)                                                              \n",
            "                                                                                                  \n",
            " conv2d_176 (Conv2D)            (None, None, None,   442368      ['activation_175[0][0]']         \n",
            "                                384)                                                              \n",
            "                                                                                                  \n",
            " conv2d_177 (Conv2D)            (None, None, None,   442368      ['activation_175[0][0]']         \n",
            "                                384)                                                              \n",
            "                                                                                                  \n",
            " average_pooling2d_16 (AverageP  (None, None, None,   0          ['mixed8[0][0]']                 \n",
            " ooling2D)                      1280)                                                             \n",
            "                                                                                                  \n",
            " conv2d_170 (Conv2D)            (None, None, None,   409600      ['mixed8[0][0]']                 \n",
            "                                320)                                                              \n",
            "                                                                                                  \n",
            " batch_normalization_172 (Batch  (None, None, None,   1152       ['conv2d_172[0][0]']             \n",
            " Normalization)                 384)                                                              \n",
            "                                                                                                  \n",
            " batch_normalization_173 (Batch  (None, None, None,   1152       ['conv2d_173[0][0]']             \n",
            " Normalization)                 384)                                                              \n",
            "                                                                                                  \n",
            " batch_normalization_176 (Batch  (None, None, None,   1152       ['conv2d_176[0][0]']             \n",
            " Normalization)                 384)                                                              \n",
            "                                                                                                  \n",
            " batch_normalization_177 (Batch  (None, None, None,   1152       ['conv2d_177[0][0]']             \n",
            " Normalization)                 384)                                                              \n",
            "                                                                                                  \n",
            " conv2d_178 (Conv2D)            (None, None, None,   245760      ['average_pooling2d_16[0][0]']   \n",
            "                                192)                                                              \n",
            "                                                                                                  \n",
            " batch_normalization_170 (Batch  (None, None, None,   960        ['conv2d_170[0][0]']             \n",
            " Normalization)                 320)                                                              \n",
            "                                                                                                  \n",
            " activation_172 (Activation)    (None, None, None,   0           ['batch_normalization_172[0][0]']\n",
            "                                384)                                                              \n",
            "                                                                                                  \n",
            " activation_173 (Activation)    (None, None, None,   0           ['batch_normalization_173[0][0]']\n",
            "                                384)                                                              \n",
            "                                                                                                  \n",
            " activation_176 (Activation)    (None, None, None,   0           ['batch_normalization_176[0][0]']\n",
            "                                384)                                                              \n",
            "                                                                                                  \n",
            " activation_177 (Activation)    (None, None, None,   0           ['batch_normalization_177[0][0]']\n",
            "                                384)                                                              \n",
            "                                                                                                  \n",
            " batch_normalization_178 (Batch  (None, None, None,   576        ['conv2d_178[0][0]']             \n",
            " Normalization)                 192)                                                              \n",
            "                                                                                                  \n",
            " activation_170 (Activation)    (None, None, None,   0           ['batch_normalization_170[0][0]']\n",
            "                                320)                                                              \n",
            "                                                                                                  \n",
            " mixed9_0 (Concatenate)         (None, None, None,   0           ['activation_172[0][0]',         \n",
            "                                768)                              'activation_173[0][0]']         \n",
            "                                                                                                  \n",
            " concatenate_2 (Concatenate)    (None, None, None,   0           ['activation_176[0][0]',         \n",
            "                                768)                              'activation_177[0][0]']         \n",
            "                                                                                                  \n",
            " activation_178 (Activation)    (None, None, None,   0           ['batch_normalization_178[0][0]']\n",
            "                                192)                                                              \n",
            "                                                                                                  \n",
            " mixed9 (Concatenate)           (None, None, None,   0           ['activation_170[0][0]',         \n",
            "                                2048)                             'mixed9_0[0][0]',               \n",
            "                                                                  'concatenate_2[0][0]',          \n",
            "                                                                  'activation_178[0][0]']         \n",
            "                                                                                                  \n",
            " conv2d_183 (Conv2D)            (None, None, None,   917504      ['mixed9[0][0]']                 \n",
            "                                448)                                                              \n",
            "                                                                                                  \n",
            " batch_normalization_183 (Batch  (None, None, None,   1344       ['conv2d_183[0][0]']             \n",
            " Normalization)                 448)                                                              \n",
            "                                                                                                  \n",
            " activation_183 (Activation)    (None, None, None,   0           ['batch_normalization_183[0][0]']\n",
            "                                448)                                                              \n",
            "                                                                                                  \n",
            " conv2d_180 (Conv2D)            (None, None, None,   786432      ['mixed9[0][0]']                 \n",
            "                                384)                                                              \n",
            "                                                                                                  \n",
            " conv2d_184 (Conv2D)            (None, None, None,   1548288     ['activation_183[0][0]']         \n",
            "                                384)                                                              \n",
            "                                                                                                  \n",
            " batch_normalization_180 (Batch  (None, None, None,   1152       ['conv2d_180[0][0]']             \n",
            " Normalization)                 384)                                                              \n",
            "                                                                                                  \n",
            " batch_normalization_184 (Batch  (None, None, None,   1152       ['conv2d_184[0][0]']             \n",
            " Normalization)                 384)                                                              \n",
            "                                                                                                  \n",
            " activation_180 (Activation)    (None, None, None,   0           ['batch_normalization_180[0][0]']\n",
            "                                384)                                                              \n",
            "                                                                                                  \n",
            " activation_184 (Activation)    (None, None, None,   0           ['batch_normalization_184[0][0]']\n",
            "                                384)                                                              \n",
            "                                                                                                  \n",
            " conv2d_181 (Conv2D)            (None, None, None,   442368      ['activation_180[0][0]']         \n",
            "                                384)                                                              \n",
            "                                                                                                  \n",
            " conv2d_182 (Conv2D)            (None, None, None,   442368      ['activation_180[0][0]']         \n",
            "                                384)                                                              \n",
            "                                                                                                  \n",
            " conv2d_185 (Conv2D)            (None, None, None,   442368      ['activation_184[0][0]']         \n",
            "                                384)                                                              \n",
            "                                                                                                  \n",
            " conv2d_186 (Conv2D)            (None, None, None,   442368      ['activation_184[0][0]']         \n",
            "                                384)                                                              \n",
            "                                                                                                  \n",
            " average_pooling2d_17 (AverageP  (None, None, None,   0          ['mixed9[0][0]']                 \n",
            " ooling2D)                      2048)                                                             \n",
            "                                                                                                  \n",
            " conv2d_179 (Conv2D)            (None, None, None,   655360      ['mixed9[0][0]']                 \n",
            "                                320)                                                              \n",
            "                                                                                                  \n",
            " batch_normalization_181 (Batch  (None, None, None,   1152       ['conv2d_181[0][0]']             \n",
            " Normalization)                 384)                                                              \n",
            "                                                                                                  \n",
            " batch_normalization_182 (Batch  (None, None, None,   1152       ['conv2d_182[0][0]']             \n",
            " Normalization)                 384)                                                              \n",
            "                                                                                                  \n",
            " batch_normalization_185 (Batch  (None, None, None,   1152       ['conv2d_185[0][0]']             \n",
            " Normalization)                 384)                                                              \n",
            "                                                                                                  \n",
            " batch_normalization_186 (Batch  (None, None, None,   1152       ['conv2d_186[0][0]']             \n",
            " Normalization)                 384)                                                              \n",
            "                                                                                                  \n",
            " conv2d_187 (Conv2D)            (None, None, None,   393216      ['average_pooling2d_17[0][0]']   \n",
            "                                192)                                                              \n",
            "                                                                                                  \n",
            " batch_normalization_179 (Batch  (None, None, None,   960        ['conv2d_179[0][0]']             \n",
            " Normalization)                 320)                                                              \n",
            "                                                                                                  \n",
            " activation_181 (Activation)    (None, None, None,   0           ['batch_normalization_181[0][0]']\n",
            "                                384)                                                              \n",
            "                                                                                                  \n",
            " activation_182 (Activation)    (None, None, None,   0           ['batch_normalization_182[0][0]']\n",
            "                                384)                                                              \n",
            "                                                                                                  \n",
            " activation_185 (Activation)    (None, None, None,   0           ['batch_normalization_185[0][0]']\n",
            "                                384)                                                              \n",
            "                                                                                                  \n",
            " activation_186 (Activation)    (None, None, None,   0           ['batch_normalization_186[0][0]']\n",
            "                                384)                                                              \n",
            "                                                                                                  \n",
            " batch_normalization_187 (Batch  (None, None, None,   576        ['conv2d_187[0][0]']             \n",
            " Normalization)                 192)                                                              \n",
            "                                                                                                  \n",
            " activation_179 (Activation)    (None, None, None,   0           ['batch_normalization_179[0][0]']\n",
            "                                320)                                                              \n",
            "                                                                                                  \n",
            " mixed9_1 (Concatenate)         (None, None, None,   0           ['activation_181[0][0]',         \n",
            "                                768)                              'activation_182[0][0]']         \n",
            "                                                                                                  \n",
            " concatenate_3 (Concatenate)    (None, None, None,   0           ['activation_185[0][0]',         \n",
            "                                768)                              'activation_186[0][0]']         \n",
            "                                                                                                  \n",
            " activation_187 (Activation)    (None, None, None,   0           ['batch_normalization_187[0][0]']\n",
            "                                192)                                                              \n",
            "                                                                                                  \n",
            " mixed10 (Concatenate)          (None, None, None,   0           ['activation_179[0][0]',         \n",
            "                                2048)                             'mixed9_1[0][0]',               \n",
            "                                                                  'concatenate_3[0][0]',          \n",
            "                                                                  'activation_187[0][0]']         \n",
            "                                                                                                  \n",
            "==================================================================================================\n",
            "Total params: 21,802,784\n",
            "Trainable params: 21,768,352\n",
            "Non-trainable params: 34,432\n",
            "__________________________________________________________________________________________________\n"
          ]
        }
      ],
      "source": [
        "base_model = InceptionV3(weights='imagenet', include_top=False)\n",
        "\n",
        "base_model.summary()"
      ]
    },
    {
      "cell_type": "markdown",
      "metadata": {
        "id": "fU9y9Zlw8o2z"
      },
      "source": [
        "Now that we've loaded the pre-trained InceptionV3 model, we can use it to process the new feature vectors for our LFW dataset. First, we need to reshape the flattend image vector to back into the original image dimensions (125 x 94 x 3)."
      ]
    },
    {
      "cell_type": "code",
      "execution_count": 27,
      "metadata": {
        "id": "-Ton_dUw8o2z",
        "colab": {
          "base_uri": "https://localhost:8080/"
        },
        "outputId": "691c81bb-520d-4c39-d115-c45e134277d0"
      },
      "outputs": [
        {
          "output_type": "execute_result",
          "data": {
            "text/plain": [
              "(901, 100, 75, 3)"
            ]
          },
          "metadata": {},
          "execution_count": 27
        }
      ],
      "source": [
        "# Reshape to be 2D images\n",
        "X_train_rshp = X_train.reshape([X_train.shape[0], \n",
        "                                lfw_people.images.shape[1], \n",
        "                                lfw_people.images.shape[2], \n",
        "                                lfw_people.images.shape[3]])\n",
        "\n",
        "X_train_rshp.shape"
      ]
    },
    {
      "cell_type": "markdown",
      "metadata": {
        "id": "GQK2WPyH8o2z"
      },
      "source": [
        "Now we input our images through `base_model` to get the feature vector output. Note that we also apply the `preprocess_input()` function to apply the same preprocessing that was used for pre-training the InceptionV3 model."
      ]
    },
    {
      "cell_type": "code",
      "execution_count": 28,
      "metadata": {
        "id": "x2oO-s768o2z",
        "colab": {
          "base_uri": "https://localhost:8080/"
        },
        "outputId": "627f8a5c-8289-4277-85a8-6559bf385ab6"
      },
      "outputs": [
        {
          "output_type": "stream",
          "name": "stdout",
          "text": [
            "29/29 [==============================] - 13s 352ms/step\n"
          ]
        }
      ],
      "source": [
        "X_train_features = base_model.predict(preprocess_input(X_train_rshp))"
      ]
    },
    {
      "cell_type": "markdown",
      "metadata": {
        "id": "chcZJqOh8o20"
      },
      "source": [
        "The dimensions of each sample output by the model are 2 x 1 x 2048 (2048 features), so we will reshape these feature vectors to flatten the 2x1x2048 dimension. The result is a dataset of 4096-dimensional feature vectors, one for each of our 901 training samples."
      ]
    },
    {
      "cell_type": "code",
      "execution_count": 29,
      "metadata": {
        "id": "XPYAIvNQ8o20",
        "colab": {
          "base_uri": "https://localhost:8080/"
        },
        "outputId": "3538975d-2016-45fe-b983-28b6cfa05399"
      },
      "outputs": [
        {
          "output_type": "execute_result",
          "data": {
            "text/plain": [
              "(901, 1, 1, 2048)"
            ]
          },
          "metadata": {},
          "execution_count": 29
        }
      ],
      "source": [
        "X_train_features.shape"
      ]
    },
    {
      "cell_type": "code",
      "execution_count": 30,
      "metadata": {
        "id": "UCv5mjnk8o20",
        "colab": {
          "base_uri": "https://localhost:8080/"
        },
        "outputId": "01c3bcef-d246-48e5-b208-cd2ecf786076"
      },
      "outputs": [
        {
          "output_type": "execute_result",
          "data": {
            "text/plain": [
              "(901, 2048)"
            ]
          },
          "metadata": {},
          "execution_count": 30
        }
      ],
      "source": [
        "X_train_features = X_train_features.reshape([X_train_features.shape[0], \n",
        "                                        X_train_features.shape[1]*X_train_features.shape[2]*X_train_features.shape[3]])\n",
        "\n",
        "X_train_features.shape"
      ]
    },
    {
      "cell_type": "markdown",
      "metadata": {
        "id": "E2aSCiEw8o21"
      },
      "source": [
        "### SVM classifier with InceptionV3 features\n",
        "\n",
        "Now that we've extracted new features using InceptionV3, we can use these new features as our inputs for classification. In this example, we'll use a Support Vector Machine (SVM) classifier. In the cell below, train an SVM with `C=10000` and `kernel='rbf'` as we did in Labs 11-12."
      ]
    },
    {
      "cell_type": "code",
      "execution_count": 31,
      "metadata": {
        "id": "1mcdpOlf8o21"
      },
      "outputs": [],
      "source": [
        "# YOUR CODE HERE\n",
        "from sklearn.svm import SVC\n",
        "\n",
        "clf = SVC(C=10000, kernel='rbf')\n",
        "clf = clf.fit(X_train_features, y_train)"
      ]
    },
    {
      "cell_type": "markdown",
      "metadata": {
        "id": "Doz3HEBt8o21"
      },
      "source": [
        "In the cell(s) below, use the trained model to extract the InceptionV3 feature vectors for the test set. Note that you will have to reshape the test data and the output features in the same way we did for the training data."
      ]
    },
    {
      "cell_type": "code",
      "execution_count": 32,
      "metadata": {
        "id": "nD8h1ymy8o21",
        "colab": {
          "base_uri": "https://localhost:8080/"
        },
        "outputId": "42e55aaf-fb2c-4468-ff1a-d8923c5ebd37"
      },
      "outputs": [
        {
          "output_type": "stream",
          "name": "stdout",
          "text": [
            "13/13 [==============================] - 4s 300ms/step\n",
            "Shape of X_test_reshape: (387, 100, 75, 3)\n",
            "Shape of X_test_features: (387, 2048)\n"
          ]
        }
      ],
      "source": [
        "# YOUR CODE HERE\n",
        "X_test_reshape = X_test.reshape([X_test.shape[0], \n",
        "                                lfw_people.images.shape[1], \n",
        "                                lfw_people.images.shape[2], \n",
        "                                lfw_people.images.shape[3]])\n",
        "\n",
        "\n",
        "X_test_features = base_model.predict(preprocess_input(X_test_reshape))\n",
        "X_test_features = X_test_features[:,0,0]\n",
        "print(\"Shape of X_test_reshape: {}\".format(X_test_reshape.shape))\n",
        "print(\"Shape of X_test_features: {}\".format(X_test_features.shape))\n"
      ]
    },
    {
      "cell_type": "markdown",
      "metadata": {
        "id": "QsnTZ6wW8o22"
      },
      "source": [
        "Now that you've extracted the InceptionV3 features for the test dataset, you can use the SVM classifier to make predictions for the test set based on these feature vectors. Do this in the cell below and store your predictions in a variable named `y_pred`."
      ]
    },
    {
      "cell_type": "code",
      "execution_count": 33,
      "metadata": {
        "id": "jerQ8xc78o22"
      },
      "outputs": [],
      "source": [
        "# YOUR CODE HERE\n",
        "y_pred = clf.predict(X_test_features)"
      ]
    },
    {
      "cell_type": "markdown",
      "metadata": {
        "id": "umuSTrci8o22"
      },
      "source": [
        "The next cell shows how we can use the `classification_report()` function in sklearn to print several metrics computed for the test set. "
      ]
    },
    {
      "cell_type": "code",
      "execution_count": 34,
      "metadata": {
        "id": "N6zZsRJm8o22",
        "colab": {
          "base_uri": "https://localhost:8080/"
        },
        "outputId": "897504a4-e5c3-43e5-9c32-eeda49498a96"
      },
      "outputs": [
        {
          "output_type": "stream",
          "name": "stdout",
          "text": [
            "                   precision    recall  f1-score   support\n",
            "\n",
            "     Ariel Sharon       0.56      0.50      0.53        18\n",
            "     Colin Powell       0.73      0.80      0.76        69\n",
            "  Donald Rumsfeld       0.55      0.32      0.41        34\n",
            "    George W Bush       0.76      0.91      0.83       166\n",
            "Gerhard Schroeder       0.45      0.45      0.45        31\n",
            "      Hugo Chavez       0.55      0.32      0.40        19\n",
            "       Tony Blair       0.58      0.42      0.49        50\n",
            "\n",
            "         accuracy                           0.69       387\n",
            "        macro avg       0.60      0.53      0.55       387\n",
            "     weighted avg       0.67      0.69      0.67       387\n",
            "\n"
          ]
        }
      ],
      "source": [
        "from sklearn.metrics import classification_report\n",
        "\n",
        "print(classification_report(y_test, y_pred, target_names=target_names))"
      ]
    },
    {
      "cell_type": "markdown",
      "metadata": {
        "id": "cXTnf3ay8o22"
      },
      "source": [
        "We can also use the `ConfusionMatrixDisplay` object to visualize the confusion matrix for the test set predictions."
      ]
    },
    {
      "cell_type": "code",
      "execution_count": 35,
      "metadata": {
        "id": "FARrUN448o23",
        "colab": {
          "base_uri": "https://localhost:8080/",
          "height": 300
        },
        "outputId": "28c1e005-ae65-443c-98d8-11c105ddfeb2"
      },
      "outputs": [
        {
          "output_type": "display_data",
          "data": {
            "text/plain": [
              "<Figure size 432x288 with 2 Axes>"
            ],
            "image/png": "[encoded data removed]"
          },
          "metadata": {
            "needs_background": "light"
          }
        }
      ],
      "source": [
        "from sklearn.metrics import ConfusionMatrixDisplay\n",
        "\n",
        "ConfusionMatrixDisplay.from_estimator(\n",
        "    clf, X_test_features, y_test, display_labels=target_names, xticks_rotation=\"vertical\"\n",
        ")\n",
        "\n",
        "plt.tight_layout()\n",
        "plt.show()"
      ]
    },
    {
      "cell_type": "markdown",
      "metadata": {
        "id": "DI2v9n448o23"
      },
      "source": [
        "**Question 1: Compare the results from the SVM with InceptionV3 features to the results from KernelPCA in Lab 13 and linear PCA in Lab 12. How do the results differ?**\n",
        "\n",
        "**Answer:**\n",
        "\n",
        "YOUR ANSWER HERE\n",
        "Better results obtained with SVM with InceptionV3"
      ]
    },
    {
      "cell_type": "markdown",
      "metadata": {
        "id": "BSYdtxmH8o23"
      },
      "source": [
        "## Fine-tune pre-trained network for face classification\n",
        "\n",
        "One way to increase performance even further is to \"fine-tune\" the InceptionV3 model for our new classification task by adding a new classification layer to the end of the network and optionally unfreezing some of the later layers in the network.\n",
        "\n",
        "In the cells below, we load our InceptionV3 pre-trained base model in the same way we did in the first exercise."
      ]
    },
    {
      "cell_type": "code",
      "execution_count": 36,
      "metadata": {
        "id": "0wUMa_Ct8o23"
      },
      "outputs": [],
      "source": [
        "import tensorflow as tf\n",
        "tf.config.run_functions_eagerly(True)\n",
        "\n",
        "from tensorflow.keras import layers\n",
        "from tensorflow.keras import Model"
      ]
    },
    {
      "cell_type": "code",
      "execution_count": 37,
      "metadata": {
        "id": "YjJ-0amz8o23"
      },
      "outputs": [],
      "source": [
        "pre_trained_model = InceptionV3(\n",
        "    input_shape=(lfw_people.images.shape[1], lfw_people.images.shape[2], 3), include_top=False, weights='imagenet')"
      ]
    },
    {
      "cell_type": "markdown",
      "metadata": {
        "id": "lBey8cQc8o24"
      },
      "source": [
        "For this exercise, we'll freeze all of the layers in the original InceptionV3 model by setting the `trainable` attribute of each layer to `False`. "
      ]
    },
    {
      "cell_type": "code",
      "execution_count": 38,
      "metadata": {
        "id": "cwI2L61l8o24"
      },
      "outputs": [],
      "source": [
        "for layer in pre_trained_model.layers:\n",
        "    layer.trainable = False"
      ]
    },
    {
      "cell_type": "markdown",
      "metadata": {
        "id": "flkxY0338o24"
      },
      "source": [
        "We then truncate the pre-trained model at one of the deeper hidden layers and append new layers, including our new classification layer for our LFW face classes, to the end."
      ]
    },
    {
      "cell_type": "code",
      "execution_count": 39,
      "metadata": {
        "id": "dW4II81D8o24",
        "colab": {
          "base_uri": "https://localhost:8080/"
        },
        "outputId": "1d1a9c71-09e6-4ee6-c5c6-726e93149560"
      },
      "outputs": [
        {
          "output_type": "stream",
          "name": "stdout",
          "text": [
            "last layer output shape: (None, 4, 3, 768)\n"
          ]
        }
      ],
      "source": [
        "last_layer = pre_trained_model.get_layer('mixed7')\n",
        "\n",
        "print('last layer output shape:', last_layer.output_shape)\n",
        "\n",
        "last_output = last_layer.output"
      ]
    },
    {
      "cell_type": "code",
      "execution_count": 40,
      "metadata": {
        "id": "nTVNyf-58o24"
      },
      "outputs": [],
      "source": [
        "# Flatten the output layer to 1 dimension\n",
        "x = layers.Flatten()(last_output)\n",
        "\n",
        "# Add a fully connected layer with 1,024 hidden units and ReLU activation\n",
        "x = layers.Dense(1024, activation='relu')(x)\n",
        "\n",
        "# Add a dropout rate of 0.2\n",
        "x = layers.Dropout(0.2)(x)\n",
        "\n",
        "# Add a final sigmoid layer for classification\n",
        "x = layers.Dense(len(target_names), activation='sigmoid')(x)"
      ]
    },
    {
      "cell_type": "markdown",
      "metadata": {
        "id": "nEKn05tw8o25"
      },
      "source": [
        "We now compile the new model."
      ]
    },
    {
      "cell_type": "code",
      "execution_count": 41,
      "metadata": {
        "id": "xap65Fgn8o25"
      },
      "outputs": [],
      "source": [
        "# Configure and compile the model\n",
        "model = Model(pre_trained_model.input, x)\n",
        "model.compile(loss='categorical_crossentropy',\n",
        "              optimizer='sgd',\n",
        "              metrics=['acc'])"
      ]
    },
    {
      "cell_type": "markdown",
      "metadata": {
        "id": "qmoO7ztw8o25"
      },
      "source": [
        "Next, we can use our LFW training data and labels to fine-tune the model. Note that first we need to convert our labels to a 1-hot encoding."
      ]
    },
    {
      "cell_type": "code",
      "execution_count": 42,
      "metadata": {
        "id": "AiIhUj5F8o25"
      },
      "outputs": [],
      "source": [
        "# Convert labels to one-hot encoding\n",
        "y_train_cat = tf.keras.utils.to_categorical(y_train, num_classes=len(target_names))"
      ]
    },
    {
      "cell_type": "code",
      "execution_count": 43,
      "metadata": {
        "id": "dqUqkS3i8o25",
        "colab": {
          "base_uri": "https://localhost:8080/"
        },
        "outputId": "79ecdb97-ae27-4e79-8f45-bd301dbd5aef"
      },
      "outputs": [
        {
          "metadata": {
            "tags": null
          },
          "name": "stdout",
          "output_type": "stream",
          "text": [
            "Epoch 1/10\n"
          ]
        },
        {
          "metadata": {
            "tags": null
          },
          "name": "stderr",
          "output_type": "stream",
          "text": [
            "/usr/local/lib/python3.8/dist-packages/tensorflow/python/data/ops/structured_function.py:256: UserWarning: Even though the `tf.config.experimental_run_functions_eagerly` option is set, this option does not apply to tf.data functions. To force eager execution of tf.data functions, please use `tf.data.experimental.enable_debug_mode()`.\n",
            "  warnings.warn(\n"
          ]
        },
        {
          "output_type": "stream",
          "name": "stdout",
          "text": [
            "29/29 [==============================] - 68s 2s/step - loss: 2.9507 - acc: 0.3818\n",
            "Epoch 2/10\n",
            "29/29 [==============================] - 74s 3s/step - loss: 1.6614 - acc: 0.4373\n",
            "Epoch 3/10\n",
            "29/29 [==============================] - 64s 2s/step - loss: 1.5993 - acc: 0.4295\n",
            "Epoch 4/10\n",
            "29/29 [==============================] - 66s 2s/step - loss: 1.5049 - acc: 0.4806\n",
            "Epoch 5/10\n",
            "29/29 [==============================] - 64s 2s/step - loss: 1.5120 - acc: 0.4906\n",
            "Epoch 6/10\n",
            "29/29 [==============================] - 65s 2s/step - loss: 1.3971 - acc: 0.5294\n",
            "Epoch 7/10\n",
            "29/29 [==============================] - 65s 2s/step - loss: 1.4142 - acc: 0.5105\n",
            "Epoch 8/10\n",
            "29/29 [==============================] - 65s 2s/step - loss: 1.3419 - acc: 0.5283\n",
            "Epoch 9/10\n",
            "29/29 [==============================] - 64s 2s/step - loss: 1.3594 - acc: 0.5216\n",
            "Epoch 10/10\n",
            "29/29 [==============================] - 64s 2s/step - loss: 1.3318 - acc: 0.5383\n"
          ]
        },
        {
          "output_type": "execute_result",
          "data": {
            "text/plain": [
              "<keras.callbacks.History at 0x7fbf952bbe80>"
            ]
          },
          "metadata": {},
          "execution_count": 43
        }
      ],
      "source": [
        "model.fit(x=X_train_rshp, y=y_train_cat,\n",
        "                epochs=10,\n",
        "                batch_size=32,\n",
        "                shuffle=True)"
      ]
    },
    {
      "cell_type": "markdown",
      "metadata": {
        "id": "Yj6JWgcG8o26"
      },
      "source": [
        "Now that we've fine-tuned our model, we can use it to make predictions about our test set. Use the trained model to make predictions for the test dataset in the cell(s) below."
      ]
    },
    {
      "cell_type": "code",
      "execution_count": 44,
      "metadata": {
        "id": "Pj-jTsO18o26",
        "colab": {
          "base_uri": "https://localhost:8080/"
        },
        "outputId": "b7f5190a-06d5-46ec-924d-5e23240482b7"
      },
      "outputs": [
        {
          "output_type": "stream",
          "name": "stdout",
          "text": [
            "13/13 [==============================] - 7s 574ms/step\n"
          ]
        },
        {
          "output_type": "execute_result",
          "data": {
            "text/plain": [
              "(387, 7)"
            ]
          },
          "metadata": {},
          "execution_count": 44
        }
      ],
      "source": [
        "# YOUR CODE HERE\n",
        "y_pred = model.predict(X_test_reshape)\n",
        "\n",
        "y_pred.shape"
      ]
    },
    {
      "cell_type": "markdown",
      "metadata": {
        "id": "jv7qLIrR8o26"
      },
      "source": [
        "The `predict()` function returns the class probabilities output by the model for each of the 7 classes. To get the index of the predicted class, we can use the `np.argmax()` function to get the index with the highest class probability."
      ]
    },
    {
      "cell_type": "code",
      "execution_count": 45,
      "metadata": {
        "id": "XZIGQWm38o27"
      },
      "outputs": [],
      "source": [
        "y_pred_class = np.argmax(y_pred, axis=1)"
      ]
    },
    {
      "cell_type": "markdown",
      "metadata": {
        "id": "jwJ_nd9Q8o27"
      },
      "source": [
        "Now that we have an array of the predicted classes for the test set, we can compute the performance metrics as in the first exercise. In the cell below, print the classification report for the test set."
      ]
    },
    {
      "cell_type": "code",
      "execution_count": 46,
      "metadata": {
        "id": "4nDwHEXn8o27",
        "colab": {
          "base_uri": "https://localhost:8080/"
        },
        "outputId": "cf6f14d6-2c40-47b9-8157-3111a3831361"
      },
      "outputs": [
        {
          "output_type": "stream",
          "name": "stdout",
          "text": [
            "                   precision    recall  f1-score   support\n",
            "\n",
            "     Ariel Sharon       0.23      0.56      0.33        18\n",
            "     Colin Powell       0.54      0.88      0.67        69\n",
            "  Donald Rumsfeld       1.00      0.06      0.11        34\n",
            "    George W Bush       0.71      0.93      0.80       166\n",
            "Gerhard Schroeder       0.00      0.00      0.00        31\n",
            "      Hugo Chavez       0.17      0.05      0.08        19\n",
            "       Tony Blair       0.80      0.08      0.15        50\n",
            "\n",
            "         accuracy                           0.60       387\n",
            "        macro avg       0.49      0.37      0.31       387\n",
            "     weighted avg       0.61      0.60      0.51       387\n",
            "\n"
          ]
        },
        {
          "output_type": "stream",
          "name": "stderr",
          "text": [
            "/usr/local/lib/python3.8/dist-packages/sklearn/metrics/_classification.py:1344: UndefinedMetricWarning: Precision and F-score are ill-defined and being set to 0.0 in labels with no predicted samples. Use `zero_division` parameter to control this behavior.\n",
            "  _warn_prf(average, modifier, msg_start, len(result))\n",
            "/usr/local/lib/python3.8/dist-packages/sklearn/metrics/_classification.py:1344: UndefinedMetricWarning: Precision and F-score are ill-defined and being set to 0.0 in labels with no predicted samples. Use `zero_division` parameter to control this behavior.\n",
            "  _warn_prf(average, modifier, msg_start, len(result))\n",
            "/usr/local/lib/python3.8/dist-packages/sklearn/metrics/_classification.py:1344: UndefinedMetricWarning: Precision and F-score are ill-defined and being set to 0.0 in labels with no predicted samples. Use `zero_division` parameter to control this behavior.\n",
            "  _warn_prf(average, modifier, msg_start, len(result))\n"
          ]
        }
      ],
      "source": [
        "# YOUR CODE HERE\n",
        "print(classification_report(y_test, y_pred_class, target_names=target_names))"
      ]
    },
    {
      "cell_type": "markdown",
      "metadata": {
        "id": "SReaE4Y18o27"
      },
      "source": [
        "**Question 2: Compare the results from the fine-tuned network to the SVM with InceptionV3 features from the first exercise. How do the results differ?**\n",
        "\n",
        "**Answer:**\n",
        "\n",
        "YOUR ANSWER HERE\n",
        "First Result:\n",
        "\n",
        "                      precision    recall  f1-score   support\n",
        "\n",
        "     Ariel Sharon       0.56      0.50      0.53        18\n",
        "     Colin Powell       0.73      0.80      0.76        69\n",
        "     Donald Rumsfeld    0.55      0.32      0.41        34\n",
        "     George W Bush      0.76      0.91      0.83       166\n",
        "     Gerhard Schroeder  0.45      0.45      0.45        31\n",
        "     Hugo Chavez        0.55      0.32      0.40        19\n",
        "     Tony Blair         0.58      0.42      0.49        50\n",
        "\n",
        "         accuracy                           0.69       387\n",
        "        macro avg       0.60      0.53      0.55       387\n",
        "     weighted avg       0.67      0.69      0.67       387\n",
        "\n",
        "Second Result:\n",
        "\n",
        "                   precision    recall  f1-score   support\n",
        "\n",
        "     Ariel Sharon       0.23      0.56      0.33        18\n",
        "     Colin Powell       0.54      0.88      0.67        69\n",
        "     Donald Rumsfeld    1.00      0.06      0.11        34\n",
        "     George W Bush      0.71      0.93      0.80       166\n",
        "     Gerhard Schroeder  0.00      0.00      0.00        31\n",
        "     Hugo Chavez        0.17      0.05      0.08        19\n",
        "     Tony Blair         0.80      0.08      0.15        50\n",
        "\n",
        "         accuracy                           0.60       387\n",
        "        macro avg       0.49      0.37      0.31       387\n",
        "     weighted avg       0.61      0.60      0.51       387\n",
        "\n",
        "If we compare both models first and second, we can see that, for some classes it is comparable, for precision values SVM classifier outperfoermed well than this one. Recall values are comparables while for f1-score are better in SVM"
      ]
    },
    {
      "cell_type": "markdown",
      "metadata": {
        "id": "tBWassjJ8o28"
      },
      "source": [
        "**Question 3: What are some reasons that might explain the difference in performance between the fine-tuned network and the SVM with InceptionV3 features?**\n",
        "\n",
        "**Answer:**\n",
        "\n",
        "YOUR ANSWER HERE\n",
        "\n",
        "It is probable that the model is overfitting to the dominant classes during fine-tuning since the classes with the lowest accuracy, recall, and F1 scores have less sample sizes than the classes with greater performance.\n",
        " \n",
        "It might also be underfit because the model hasn't encountered enough instances of the uncommon classes to develop useful features for recognizing them. If we trained the model for more epochs, this issue might be resolved."
      ]
    }
  ],
  "metadata": {
    "kernelspec": {
      "display_name": "Python 3 (ipykernel)",
      "language": "python",
      "name": "python3"
    },
    "language_info": {
      "codemirror_mode": {
        "name": "ipython",
        "version": 3
      },
      "file_extension": ".py",
      "mimetype": "text/x-python",
      "name": "python",
      "nbconvert_exporter": "python",
      "pygments_lexer": "ipython3",
      "version": "3.9.13"
    },
    "colab": {
      "provenance": []
    }
  },
  "nbformat": 4,
  "nbformat_minor": 0
}