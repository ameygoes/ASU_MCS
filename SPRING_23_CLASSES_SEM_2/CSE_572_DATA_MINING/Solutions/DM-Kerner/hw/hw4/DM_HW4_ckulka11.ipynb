{
  "cells": [
    {
      "cell_type": "markdown",
      "metadata": {
        "id": "86abac76"
      },
      "source": [
        "# CSE 572: Homework 4\n",
        "\n",
        "This notebook provides a template and starting code to implement the Homework 3 assignment.\n",
        "\n",
        "To execute and make changes to this notebook, click File > Save a copy to save your own version in your Google Drive or Github. Read the step-by-step instructions below carefully. To execute the code, click on each cell below and press the SHIFT-ENTER keys simultaneously or by clicking the Play button. \n",
        "\n",
        "When you finish executing all code/exercises, save your notebook then download a copy (.ipynb file). Submit the following **three** things:\n",
        "1. a link to your Colab notebook,\n",
        "2. the .ipynb file, and\n",
        "3. a pdf of the executed notebook on Canvas.\n",
        "\n",
        "To generate a pdf of the notebook, click File > Print > Save as PDF."
      ],
      "id": "86abac76"
    },
    {
      "cell_type": "markdown",
      "metadata": {
        "id": "25587355"
      },
      "source": [
        "## Problem statement\n",
        "\n",
        "In Lab 17, we used statistical and distance-based approaches to detect anomalous changes in the daily closing prices of various stocks. The input data `stocks.csv` contains the historical closing prices of stocks for 3 large corporations (Microsoft, Ford Motor Company, and Bank of America). In the lab, we used anomaly detection techniques to detect anomalies in the changes in daily closing prices over the entire dataset (entire time period). \n",
        "\n",
        "In this homework, you will re-frame this problem to instead use techniques for novelty detection. Instead of scoring each sample based on its anomalousness compared to all other samples, you will score every sample based on its anomalousness compared to all previous samples in time. You will step through each record in order of time and at each step construct an updated model that will be used to score the new sample. Use the kth nearest neighbor approach used in Lab 17, but instead of using the distance to the 4th nearest neighbor as in Lab 17, use the average distance to the four nearest neighbors. "
      ],
      "id": "25587355"
    },
    {
      "cell_type": "markdown",
      "metadata": {
        "id": "aac02b85"
      },
      "source": [
        "## Load the dataset"
      ],
      "id": "aac02b85"
    },
    {
      "cell_type": "code",
      "execution_count": null,
      "metadata": {
        "colab": {
          "base_uri": "https://localhost:8080/",
          "height": 238
        },
        "id": "bdb0a8b5",
        "outputId": "2da2ed2b-e17e-4057-cde6-a7145d942774"
      },
      "outputs": [
        {
          "output_type": "execute_result",
          "data": {
            "text/plain": [
              "               MSFT     F        BAC\n",
              "Date                                \n",
              "1/3/2007  29.860001  7.51  53.330002\n",
              "1/4/2007  29.809999  7.70  53.669998\n",
              "1/5/2007  29.639999  7.62  53.240002\n",
              "1/8/2007  29.930000  7.73  53.450001\n",
              "1/9/2007  29.959999  7.79  53.500000"
            ],
            "text/html": [
              "\n",
              "  <div id=\"df-af0dd8b2-99b8-469d-aadf-f43176175baf\">\n",
              "    <div class=\"colab-df-container\">\n",
              "      <div>\n",
              "<style scoped>\n",
              "    .dataframe tbody tr th:only-of-type {\n",
              "        vertical-align: middle;\n",
              "    }\n",
              "\n",
              "    .dataframe tbody tr th {\n",
              "        vertical-align: top;\n",
              "    }\n",
              "\n",
              "    .dataframe thead th {\n",
              "        text-align: right;\n",
              "    }\n",
              "</style>\n",
              "<table border=\"1\" class=\"dataframe\">\n",
              "  <thead>\n",
              "    <tr style=\"text-align: right;\">\n",
              "      <th></th>\n",
              "      <th>MSFT</th>\n",
              "      <th>F</th>\n",
              "      <th>BAC</th>\n",
              "    </tr>\n",
              "    <tr>\n",
              "      <th>Date</th>\n",
              "      <th></th>\n",
              "      <th></th>\n",
              "      <th></th>\n",
              "    </tr>\n",
              "  </thead>\n",
              "  <tbody>\n",
              "    <tr>\n",
              "      <th>1/3/2007</th>\n",
              "      <td>29.860001</td>\n",
              "      <td>7.51</td>\n",
              "      <td>53.330002</td>\n",
              "    </tr>\n",
              "    <tr>\n",
              "      <th>1/4/2007</th>\n",
              "      <td>29.809999</td>\n",
              "      <td>7.70</td>\n",
              "      <td>53.669998</td>\n",
              "    </tr>\n",
              "    <tr>\n",
              "      <th>1/5/2007</th>\n",
              "      <td>29.639999</td>\n",
              "      <td>7.62</td>\n",
              "      <td>53.240002</td>\n",
              "    </tr>\n",
              "    <tr>\n",
              "      <th>1/8/2007</th>\n",
              "      <td>29.930000</td>\n",
              "      <td>7.73</td>\n",
              "      <td>53.450001</td>\n",
              "    </tr>\n",
              "    <tr>\n",
              "      <th>1/9/2007</th>\n",
              "      <td>29.959999</td>\n",
              "      <td>7.79</td>\n",
              "      <td>53.500000</td>\n",
              "    </tr>\n",
              "  </tbody>\n",
              "</table>\n",
              "</div>\n",
              "      <button class=\"colab-df-convert\" onclick=\"convertToInteractive('df-af0dd8b2-99b8-469d-aadf-f43176175baf')\"\n",
              "              title=\"Convert this dataframe to an interactive table.\"\n",
              "              style=\"display:none;\">\n",
              "        \n",
              "  <svg xmlns=\"http://www.w3.org/2000/svg\" height=\"24px\"viewBox=\"0 0 24 24\"\n",
              "       width=\"24px\">\n",
              "    <path d=\"M0 0h24v24H0V0z\" fill=\"none\"/>\n",
              "    <path d=\"M18.56 5.44l.94 2.06.94-2.06 2.06-.94-2.06-.94-.94-2.06-.94 2.06-2.06.94zm-11 1L8.5 8.5l.94-2.06 2.06-.94-2.06-.94L8.5 2.5l-.94 2.06-2.06.94zm10 10l.94 2.06.94-2.06 2.06-.94-2.06-.94-.94-2.06-.94 2.06-2.06.94z\"/><path d=\"M17.41 7.96l-1.37-1.37c-.4-.4-.92-.59-1.43-.59-.52 0-1.04.2-1.43.59L10.3 9.45l-7.72 7.72c-.78.78-.78 2.05 0 2.83L4 21.41c.39.39.9.59 1.41.59.51 0 1.02-.2 1.41-.59l7.78-7.78 2.81-2.81c.8-.78.8-2.07 0-2.86zM5.41 20L4 18.59l7.72-7.72 1.47 1.35L5.41 20z\"/>\n",
              "  </svg>\n",
              "      </button>\n",
              "      \n",
              "  <style>\n",
              "    .colab-df-container {\n",
              "      display:flex;\n",
              "      flex-wrap:wrap;\n",
              "      gap: 12px;\n",
              "    }\n",
              "\n",
              "    .colab-df-convert {\n",
              "      background-color: #E8F0FE;\n",
              "      border: none;\n",
              "      border-radius: 50%;\n",
              "      cursor: pointer;\n",
              "      display: none;\n",
              "      fill: #1967D2;\n",
              "      height: 32px;\n",
              "      padding: 0 0 0 0;\n",
              "      width: 32px;\n",
              "    }\n",
              "\n",
              "    .colab-df-convert:hover {\n",
              "      background-color: #E2EBFA;\n",
              "      box-shadow: 0px 1px 2px rgba(60, 64, 67, 0.3), 0px 1px 3px 1px rgba(60, 64, 67, 0.15);\n",
              "      fill: #174EA6;\n",
              "    }\n",
              "\n",
              "    [theme=dark] .colab-df-convert {\n",
              "      background-color: #3B4455;\n",
              "      fill: #D2E3FC;\n",
              "    }\n",
              "\n",
              "    [theme=dark] .colab-df-convert:hover {\n",
              "      background-color: #434B5C;\n",
              "      box-shadow: 0px 1px 3px 1px rgba(0, 0, 0, 0.15);\n",
              "      filter: drop-shadow(0px 1px 2px rgba(0, 0, 0, 0.3));\n",
              "      fill: #FFFFFF;\n",
              "    }\n",
              "  </style>\n",
              "\n",
              "      <script>\n",
              "        const buttonEl =\n",
              "          document.querySelector('#df-af0dd8b2-99b8-469d-aadf-f43176175baf button.colab-df-convert');\n",
              "        buttonEl.style.display =\n",
              "          google.colab.kernel.accessAllowed ? 'block' : 'none';\n",
              "\n",
              "        async function convertToInteractive(key) {\n",
              "          const element = document.querySelector('#df-af0dd8b2-99b8-469d-aadf-f43176175baf');\n",
              "          const dataTable =\n",
              "            await google.colab.kernel.invokeFunction('convertToInteractive',\n",
              "                                                     [key], {});\n",
              "          if (!dataTable) return;\n",
              "\n",
              "          const docLinkHtml = 'Like what you see? Visit the ' +\n",
              "            '<a target=\"_blank\" href=https://colab.research.google.com/notebooks/data_table.ipynb>data table notebook</a>'\n",
              "            + ' to learn more about interactive tables.';\n",
              "          element.innerHTML = '';\n",
              "          dataTable['output_type'] = 'display_data';\n",
              "          await google.colab.output.renderOutput(dataTable, element);\n",
              "          const docLink = document.createElement('div');\n",
              "          docLink.innerHTML = docLinkHtml;\n",
              "          element.appendChild(docLink);\n",
              "        }\n",
              "      </script>\n",
              "    </div>\n",
              "  </div>\n",
              "  "
            ]
          },
          "metadata": {},
          "execution_count": 1
        }
      ],
      "source": [
        "import pandas as pd\n",
        "\n",
        "stocks = pd.read_csv('https://docs.google.com/uc?export=download&id=1UqHZmlfSoPDcZlTIr2TB6OadBhni9Kbv', header='infer')\n",
        "stocks\n",
        "\n",
        "stocks.index = stocks['Date']\n",
        "stocks = stocks.drop(['Date'], axis=1)\n",
        "stocks.head()"
      ],
      "id": "bdb0a8b5"
    },
    {
      "cell_type": "markdown",
      "metadata": {
        "id": "c11c2344"
      },
      "source": [
        "We can compute the percentage of changes in the daily closing price of each stock as follows:\n",
        "\\begin{equation}\n",
        "\\Delta(t) = 100 \\times \\frac{x_t - x_{t-1}}{x_{t-1}} \n",
        "\\end{equation}\n",
        "\n",
        "where $x_t$ denotes the price of a stock on day $t$ and $x_{t-1}$ denotes the price on its previous day, $t-1$."
      ],
      "id": "c11c2344"
    },
    {
      "cell_type": "code",
      "execution_count": null,
      "metadata": {
        "colab": {
          "base_uri": "https://localhost:8080/",
          "height": 238
        },
        "id": "72409855",
        "outputId": "649fd5ac-b407-43b8-b24b-f22a6f5cb99c"
      },
      "outputs": [
        {
          "output_type": "execute_result",
          "data": {
            "text/plain": [
              "               MSFT         F       BAC\n",
              "Date                                   \n",
              "1/4/2007  -0.167455  2.529960  0.637532\n",
              "1/5/2007  -0.570278 -1.038961 -0.801185\n",
              "1/8/2007   0.978411  1.443570  0.394438\n",
              "1/9/2007   0.100231  0.776197  0.093543\n",
              "1/10/2007 -1.001332 -0.770218  0.149536"
            ],
            "text/html": [
              "\n",
              "  <div id=\"df-d369dc16-0d55-4fad-b503-c5e21d4245f2\">\n",
              "    <div class=\"colab-df-container\">\n",
              "      <div>\n",
              "<style scoped>\n",
              "    .dataframe tbody tr th:only-of-type {\n",
              "        vertical-align: middle;\n",
              "    }\n",
              "\n",
              "    .dataframe tbody tr th {\n",
              "        vertical-align: top;\n",
              "    }\n",
              "\n",
              "    .dataframe thead th {\n",
              "        text-align: right;\n",
              "    }\n",
              "</style>\n",
              "<table border=\"1\" class=\"dataframe\">\n",
              "  <thead>\n",
              "    <tr style=\"text-align: right;\">\n",
              "      <th></th>\n",
              "      <th>MSFT</th>\n",
              "      <th>F</th>\n",
              "      <th>BAC</th>\n",
              "    </tr>\n",
              "    <tr>\n",
              "      <th>Date</th>\n",
              "      <th></th>\n",
              "      <th></th>\n",
              "      <th></th>\n",
              "    </tr>\n",
              "  </thead>\n",
              "  <tbody>\n",
              "    <tr>\n",
              "      <th>1/4/2007</th>\n",
              "      <td>-0.167455</td>\n",
              "      <td>2.529960</td>\n",
              "      <td>0.637532</td>\n",
              "    </tr>\n",
              "    <tr>\n",
              "      <th>1/5/2007</th>\n",
              "      <td>-0.570278</td>\n",
              "      <td>-1.038961</td>\n",
              "      <td>-0.801185</td>\n",
              "    </tr>\n",
              "    <tr>\n",
              "      <th>1/8/2007</th>\n",
              "      <td>0.978411</td>\n",
              "      <td>1.443570</td>\n",
              "      <td>0.394438</td>\n",
              "    </tr>\n",
              "    <tr>\n",
              "      <th>1/9/2007</th>\n",
              "      <td>0.100231</td>\n",
              "      <td>0.776197</td>\n",
              "      <td>0.093543</td>\n",
              "    </tr>\n",
              "    <tr>\n",
              "      <th>1/10/2007</th>\n",
              "      <td>-1.001332</td>\n",
              "      <td>-0.770218</td>\n",
              "      <td>0.149536</td>\n",
              "    </tr>\n",
              "  </tbody>\n",
              "</table>\n",
              "</div>\n",
              "      <button class=\"colab-df-convert\" onclick=\"convertToInteractive('df-d369dc16-0d55-4fad-b503-c5e21d4245f2')\"\n",
              "              title=\"Convert this dataframe to an interactive table.\"\n",
              "              style=\"display:none;\">\n",
              "        \n",
              "  <svg xmlns=\"http://www.w3.org/2000/svg\" height=\"24px\"viewBox=\"0 0 24 24\"\n",
              "       width=\"24px\">\n",
              "    <path d=\"M0 0h24v24H0V0z\" fill=\"none\"/>\n",
              "    <path d=\"M18.56 5.44l.94 2.06.94-2.06 2.06-.94-2.06-.94-.94-2.06-.94 2.06-2.06.94zm-11 1L8.5 8.5l.94-2.06 2.06-.94-2.06-.94L8.5 2.5l-.94 2.06-2.06.94zm10 10l.94 2.06.94-2.06 2.06-.94-2.06-.94-.94-2.06-.94 2.06-2.06.94z\"/><path d=\"M17.41 7.96l-1.37-1.37c-.4-.4-.92-.59-1.43-.59-.52 0-1.04.2-1.43.59L10.3 9.45l-7.72 7.72c-.78.78-.78 2.05 0 2.83L4 21.41c.39.39.9.59 1.41.59.51 0 1.02-.2 1.41-.59l7.78-7.78 2.81-2.81c.8-.78.8-2.07 0-2.86zM5.41 20L4 18.59l7.72-7.72 1.47 1.35L5.41 20z\"/>\n",
              "  </svg>\n",
              "      </button>\n",
              "      \n",
              "  <style>\n",
              "    .colab-df-container {\n",
              "      display:flex;\n",
              "      flex-wrap:wrap;\n",
              "      gap: 12px;\n",
              "    }\n",
              "\n",
              "    .colab-df-convert {\n",
              "      background-color: #E8F0FE;\n",
              "      border: none;\n",
              "      border-radius: 50%;\n",
              "      cursor: pointer;\n",
              "      display: none;\n",
              "      fill: #1967D2;\n",
              "      height: 32px;\n",
              "      padding: 0 0 0 0;\n",
              "      width: 32px;\n",
              "    }\n",
              "\n",
              "    .colab-df-convert:hover {\n",
              "      background-color: #E2EBFA;\n",
              "      box-shadow: 0px 1px 2px rgba(60, 64, 67, 0.3), 0px 1px 3px 1px rgba(60, 64, 67, 0.15);\n",
              "      fill: #174EA6;\n",
              "    }\n",
              "\n",
              "    [theme=dark] .colab-df-convert {\n",
              "      background-color: #3B4455;\n",
              "      fill: #D2E3FC;\n",
              "    }\n",
              "\n",
              "    [theme=dark] .colab-df-convert:hover {\n",
              "      background-color: #434B5C;\n",
              "      box-shadow: 0px 1px 3px 1px rgba(0, 0, 0, 0.15);\n",
              "      filter: drop-shadow(0px 1px 2px rgba(0, 0, 0, 0.3));\n",
              "      fill: #FFFFFF;\n",
              "    }\n",
              "  </style>\n",
              "\n",
              "      <script>\n",
              "        const buttonEl =\n",
              "          document.querySelector('#df-d369dc16-0d55-4fad-b503-c5e21d4245f2 button.colab-df-convert');\n",
              "        buttonEl.style.display =\n",
              "          google.colab.kernel.accessAllowed ? 'block' : 'none';\n",
              "\n",
              "        async function convertToInteractive(key) {\n",
              "          const element = document.querySelector('#df-d369dc16-0d55-4fad-b503-c5e21d4245f2');\n",
              "          const dataTable =\n",
              "            await google.colab.kernel.invokeFunction('convertToInteractive',\n",
              "                                                     [key], {});\n",
              "          if (!dataTable) return;\n",
              "\n",
              "          const docLinkHtml = 'Like what you see? Visit the ' +\n",
              "            '<a target=\"_blank\" href=https://colab.research.google.com/notebooks/data_table.ipynb>data table notebook</a>'\n",
              "            + ' to learn more about interactive tables.';\n",
              "          element.innerHTML = '';\n",
              "          dataTable['output_type'] = 'display_data';\n",
              "          await google.colab.output.renderOutput(dataTable, element);\n",
              "          const docLink = document.createElement('div');\n",
              "          docLink.innerHTML = docLinkHtml;\n",
              "          element.appendChild(docLink);\n",
              "        }\n",
              "      </script>\n",
              "    </div>\n",
              "  </div>\n",
              "  "
            ]
          },
          "metadata": {},
          "execution_count": 2
        }
      ],
      "source": [
        "import numpy as np\n",
        "\n",
        "N, d = stocks.shape\n",
        "\n",
        "delta = pd.DataFrame(100*np.divide(stocks.iloc[1:,:].values-stocks.iloc[:N-1,:].values, stocks.iloc[:N-1,:].values),\n",
        "                     columns=stocks.columns, \n",
        "                     index=stocks.iloc[1:].index)\n",
        "\n",
        "delta.head()"
      ],
      "id": "72409855"
    },
    {
      "cell_type": "markdown",
      "metadata": {
        "id": "d46032fa"
      },
      "source": [
        "## Compute novelty scores\n",
        "\n",
        "In this section, you will:\n",
        "- Plot the novelty scores over time\n",
        "- Identify which dates had the 5 highest novelty scores "
      ],
      "id": "d46032fa"
    },
    {
      "cell_type": "code",
      "execution_count": null,
      "metadata": {
        "colab": {
          "base_uri": "https://localhost:8080/",
          "height": 286
        },
        "id": "2e3f3db7",
        "outputId": "12ae6bbb-9ae8-45cc-d5fa-0b4a2bd1ea2c"
      },
      "outputs": [
        {
          "output_type": "execute_result",
          "data": {
            "text/plain": [
              "[<matplotlib.lines.Line2D at 0x7f59043c9d90>]"
            ]
          },
          "metadata": {},
          "execution_count": 3
        },
        {
          "output_type": "display_data",
          "data": {
            "text/plain": [
              "<Figure size 432x288 with 1 Axes>"
            ],
            "image/png": "[encoded data removed]"
          },
          "metadata": {
            "needs_background": "light"
          }
        }
      ],
      "source": [
        "# YOUR CODE HERE\n",
        "import matplotlib.pyplot as plt\n",
        "plt.plot(delta.MSFT)"
      ],
      "id": "2e3f3db7"
    },
    {
      "cell_type": "code",
      "source": [
        "import matplotlib.pyplot as plt\n",
        "plt.plot(delta.F)"
      ],
      "metadata": {
        "colab": {
          "base_uri": "https://localhost:8080/",
          "height": 282
        },
        "id": "0TBaeNTDlgWQ",
        "outputId": "c232edef-fa8e-4e5a-9a91-4c66fff918a8"
      },
      "id": "0TBaeNTDlgWQ",
      "execution_count": null,
      "outputs": [
        {
          "output_type": "execute_result",
          "data": {
            "text/plain": [
              "[<matplotlib.lines.Line2D at 0x7f5902ea2710>]"
            ]
          },
          "metadata": {},
          "execution_count": 4
        },
        {
          "output_type": "display_data",
          "data": {
            "text/plain": [
              "<Figure size 432x288 with 1 Axes>"
            ],
            "image/png": "[encoded data removed]"
          },
          "metadata": {
            "needs_background": "light"
          }
        }
      ]
    },
    {
      "cell_type": "code",
      "source": [
        "import matplotlib.pyplot as plt\n",
        "plt.plot(delta.BAC)"
      ],
      "metadata": {
        "colab": {
          "base_uri": "https://localhost:8080/",
          "height": 282
        },
        "id": "jua51uGZlgkT",
        "outputId": "d69a9ae1-69a6-4ca1-a893-5d4f7ab8015e"
      },
      "id": "jua51uGZlgkT",
      "execution_count": null,
      "outputs": [
        {
          "output_type": "execute_result",
          "data": {
            "text/plain": [
              "[<matplotlib.lines.Line2D at 0x7f5900b7f6d0>]"
            ]
          },
          "metadata": {},
          "execution_count": 5
        },
        {
          "output_type": "display_data",
          "data": {
            "text/plain": [
              "<Figure size 432x288 with 1 Axes>"
            ],
            "image/png": "[encoded data removed]"
          },
          "metadata": {
            "needs_background": "light"
          }
        }
      ]
    },
    {
      "cell_type": "code",
      "execution_count": null,
      "metadata": {
        "colab": {
          "base_uri": "https://localhost:8080/"
        },
        "id": "vkindFl88oC1",
        "outputId": "c27dcd15-5ce2-4ea8-b5e6-9eda993ac2a0"
      },
      "outputs": [
        {
          "output_type": "stream",
          "name": "stdout",
          "text": [
            "MSFT    0.045003\n",
            "F       0.061374\n",
            "BAC     0.033351\n",
            "dtype: float64\n",
            "------------------------------------------------\n",
            "          MSFT         F        BAC\n",
            "MSFT  3.191674  2.136351   2.788870\n",
            "F     2.136351  8.524944   4.997405\n",
            "BAC   2.788870  4.997405  13.770761\n"
          ]
        }
      ],
      "source": [
        "from statistics import mean\n",
        "mean=delta.mean()\n",
        "cov=delta.cov()\n",
        "print(mean)\n",
        "print(\"------------------------------------------------\")\n",
        "print(cov)"
      ],
      "id": "vkindFl88oC1"
    },
    {
      "cell_type": "code",
      "execution_count": null,
      "metadata": {
        "id": "hO2uWYkq8o7v"
      },
      "outputs": [],
      "source": [
        "novel_score=[]\n",
        "from sklearn.neighbors import NearestNeighbors\n",
        "from scipy.spatial import distance\n",
        "\n",
        "for i in range(2517):\n",
        "  if i==0:\n",
        "    novel_score.append(0)\n",
        "  if i>0 and i<5:\n",
        "    k=i\n",
        "    data=delta.iloc[:i]\n",
        "   # data=np.array(data).reshape(-1,1)  \n",
        "    nbrs = NearestNeighbors(n_neighbors=k, metric=distance.euclidean).fit(data.to_numpy())\n",
        "    distances, indices = nbrs.kneighbors(delta.iloc[[i]].to_numpy())\n",
        "    novel_score = np.append(novel_score ,np.mean(distances))\n",
        "\n",
        "\n",
        "  elif i>=5:\n",
        "     k=4\n",
        "     data=delta.iloc[:i]\n",
        "     #data=np.array(data).reshape(-1,1)\n",
        "     nbrs = NearestNeighbors(n_neighbors=k, metric=distance.euclidean).fit(data.to_numpy())\n",
        "     distances, indices = nbrs.kneighbors(delta.iloc[[i]].to_numpy())\n",
        "     novel_score = np.append(novel_score ,np.mean(distances))"
      ],
      "id": "hO2uWYkq8o7v"
    },
    {
      "cell_type": "code",
      "source": [
        "anom = pd.DataFrame(novel_score, index=delta.index, columns=['Novelity score'])\n",
        "result = pd.concat((delta, anom), axis=1)\n",
        "result.nlargest(5, 'Novelity score')"
      ],
      "metadata": {
        "colab": {
          "base_uri": "https://localhost:8080/",
          "height": 238
        },
        "id": "taPhUd-AlyAB",
        "outputId": "1b4bcde3-7458-4ed7-f066-17e6990bccbe"
      },
      "id": "taPhUd-AlyAB",
      "execution_count": null,
      "outputs": [
        {
          "output_type": "execute_result",
          "data": {
            "text/plain": [
              "                 MSFT          F        BAC  Novelity score\n",
              "Date                                                       \n",
              "7/16/2008    4.244742  18.064516  22.408207       18.808495\n",
              "10/13/2008  18.604651  20.100503   9.199808       18.749186\n",
              "10/7/2008   -6.744279 -20.867209 -26.225949       18.043723\n",
              "11/26/2008   2.501251  29.518072   4.256757       17.782658\n",
              "9/30/2008    6.717317  24.700240  15.702479       16.361792"
            ],
            "text/html": [
              "\n",
              "  <div id=\"df-6469033c-28dc-407b-94d8-fb63a19ccd13\">\n",
              "    <div class=\"colab-df-container\">\n",
              "      <div>\n",
              "<style scoped>\n",
              "    .dataframe tbody tr th:only-of-type {\n",
              "        vertical-align: middle;\n",
              "    }\n",
              "\n",
              "    .dataframe tbody tr th {\n",
              "        vertical-align: top;\n",
              "    }\n",
              "\n",
              "    .dataframe thead th {\n",
              "        text-align: right;\n",
              "    }\n",
              "</style>\n",
              "<table border=\"1\" class=\"dataframe\">\n",
              "  <thead>\n",
              "    <tr style=\"text-align: right;\">\n",
              "      <th></th>\n",
              "      <th>MSFT</th>\n",
              "      <th>F</th>\n",
              "      <th>BAC</th>\n",
              "      <th>Novelity score</th>\n",
              "    </tr>\n",
              "    <tr>\n",
              "      <th>Date</th>\n",
              "      <th></th>\n",
              "      <th></th>\n",
              "      <th></th>\n",
              "      <th></th>\n",
              "    </tr>\n",
              "  </thead>\n",
              "  <tbody>\n",
              "    <tr>\n",
              "      <th>7/16/2008</th>\n",
              "      <td>4.244742</td>\n",
              "      <td>18.064516</td>\n",
              "      <td>22.408207</td>\n",
              "      <td>18.808495</td>\n",
              "    </tr>\n",
              "    <tr>\n",
              "      <th>10/13/2008</th>\n",
              "      <td>18.604651</td>\n",
              "      <td>20.100503</td>\n",
              "      <td>9.199808</td>\n",
              "      <td>18.749186</td>\n",
              "    </tr>\n",
              "    <tr>\n",
              "      <th>10/7/2008</th>\n",
              "      <td>-6.744279</td>\n",
              "      <td>-20.867209</td>\n",
              "      <td>-26.225949</td>\n",
              "      <td>18.043723</td>\n",
              "    </tr>\n",
              "    <tr>\n",
              "      <th>11/26/2008</th>\n",
              "      <td>2.501251</td>\n",
              "      <td>29.518072</td>\n",
              "      <td>4.256757</td>\n",
              "      <td>17.782658</td>\n",
              "    </tr>\n",
              "    <tr>\n",
              "      <th>9/30/2008</th>\n",
              "      <td>6.717317</td>\n",
              "      <td>24.700240</td>\n",
              "      <td>15.702479</td>\n",
              "      <td>16.361792</td>\n",
              "    </tr>\n",
              "  </tbody>\n",
              "</table>\n",
              "</div>\n",
              "      <button class=\"colab-df-convert\" onclick=\"convertToInteractive('df-6469033c-28dc-407b-94d8-fb63a19ccd13')\"\n",
              "              title=\"Convert this dataframe to an interactive table.\"\n",
              "              style=\"display:none;\">\n",
              "        \n",
              "  <svg xmlns=\"http://www.w3.org/2000/svg\" height=\"24px\"viewBox=\"0 0 24 24\"\n",
              "       width=\"24px\">\n",
              "    <path d=\"M0 0h24v24H0V0z\" fill=\"none\"/>\n",
              "    <path d=\"M18.56 5.44l.94 2.06.94-2.06 2.06-.94-2.06-.94-.94-2.06-.94 2.06-2.06.94zm-11 1L8.5 8.5l.94-2.06 2.06-.94-2.06-.94L8.5 2.5l-.94 2.06-2.06.94zm10 10l.94 2.06.94-2.06 2.06-.94-2.06-.94-.94-2.06-.94 2.06-2.06.94z\"/><path d=\"M17.41 7.96l-1.37-1.37c-.4-.4-.92-.59-1.43-.59-.52 0-1.04.2-1.43.59L10.3 9.45l-7.72 7.72c-.78.78-.78 2.05 0 2.83L4 21.41c.39.39.9.59 1.41.59.51 0 1.02-.2 1.41-.59l7.78-7.78 2.81-2.81c.8-.78.8-2.07 0-2.86zM5.41 20L4 18.59l7.72-7.72 1.47 1.35L5.41 20z\"/>\n",
              "  </svg>\n",
              "      </button>\n",
              "      \n",
              "  <style>\n",
              "    .colab-df-container {\n",
              "      display:flex;\n",
              "      flex-wrap:wrap;\n",
              "      gap: 12px;\n",
              "    }\n",
              "\n",
              "    .colab-df-convert {\n",
              "      background-color: #E8F0FE;\n",
              "      border: none;\n",
              "      border-radius: 50%;\n",
              "      cursor: pointer;\n",
              "      display: none;\n",
              "      fill: #1967D2;\n",
              "      height: 32px;\n",
              "      padding: 0 0 0 0;\n",
              "      width: 32px;\n",
              "    }\n",
              "\n",
              "    .colab-df-convert:hover {\n",
              "      background-color: #E2EBFA;\n",
              "      box-shadow: 0px 1px 2px rgba(60, 64, 67, 0.3), 0px 1px 3px 1px rgba(60, 64, 67, 0.15);\n",
              "      fill: #174EA6;\n",
              "    }\n",
              "\n",
              "    [theme=dark] .colab-df-convert {\n",
              "      background-color: #3B4455;\n",
              "      fill: #D2E3FC;\n",
              "    }\n",
              "\n",
              "    [theme=dark] .colab-df-convert:hover {\n",
              "      background-color: #434B5C;\n",
              "      box-shadow: 0px 1px 3px 1px rgba(0, 0, 0, 0.15);\n",
              "      filter: drop-shadow(0px 1px 2px rgba(0, 0, 0, 0.3));\n",
              "      fill: #FFFFFF;\n",
              "    }\n",
              "  </style>\n",
              "\n",
              "      <script>\n",
              "        const buttonEl =\n",
              "          document.querySelector('#df-6469033c-28dc-407b-94d8-fb63a19ccd13 button.colab-df-convert');\n",
              "        buttonEl.style.display =\n",
              "          google.colab.kernel.accessAllowed ? 'block' : 'none';\n",
              "\n",
              "        async function convertToInteractive(key) {\n",
              "          const element = document.querySelector('#df-6469033c-28dc-407b-94d8-fb63a19ccd13');\n",
              "          const dataTable =\n",
              "            await google.colab.kernel.invokeFunction('convertToInteractive',\n",
              "                                                     [key], {});\n",
              "          if (!dataTable) return;\n",
              "\n",
              "          const docLinkHtml = 'Like what you see? Visit the ' +\n",
              "            '<a target=\"_blank\" href=https://colab.research.google.com/notebooks/data_table.ipynb>data table notebook</a>'\n",
              "            + ' to learn more about interactive tables.';\n",
              "          element.innerHTML = '';\n",
              "          dataTable['output_type'] = 'display_data';\n",
              "          await google.colab.output.renderOutput(dataTable, element);\n",
              "          const docLink = document.createElement('div');\n",
              "          docLink.innerHTML = docLinkHtml;\n",
              "          element.appendChild(docLink);\n",
              "        }\n",
              "      </script>\n",
              "    </div>\n",
              "  </div>\n",
              "  "
            ]
          },
          "metadata": {},
          "execution_count": 7
        }
      ]
    },
    {
      "cell_type": "code",
      "execution_count": null,
      "metadata": {
        "id": "b3wiwdBblHrJ",
        "colab": {
          "base_uri": "https://localhost:8080/",
          "height": 279
        },
        "outputId": "0b32d72b-48ff-42d5-d780-7e4cab2976ea"
      },
      "outputs": [
        {
          "output_type": "display_data",
          "data": {
            "text/plain": [
              "<Figure size 432x288 with 1 Axes>"
            ],
            "image/png": "[encoded data removed]"
          },
          "metadata": {
            "needs_background": "light"
          }
        }
      ],
      "source": [
        "import matplotlib.pyplot as plt\n",
        "result.plot( y=\"Novelity score\", kind=\"line\")\n",
        "plt.show()"
      ],
      "id": "b3wiwdBblHrJ"
    },
    {
      "cell_type": "code",
      "execution_count": null,
      "metadata": {
        "id": "0kic4T9DF5hP",
        "colab": {
          "base_uri": "https://localhost:8080/",
          "height": 303
        },
        "outputId": "803ea563-85a7-4380-9b7f-3a782afb02ac"
      },
      "outputs": [
        {
          "output_type": "display_data",
          "data": {
            "text/plain": [
              "<Figure size 576x360 with 1 Axes>"
            ],
            "image/png": "[encoded data removed]"
          },
          "metadata": {
            "needs_background": "light"
          }
        }
      ],
      "source": [
        "# YOUR CODE HERE\n",
        "from mpl_toolkits import mplot3d\n",
        "import matplotlib.pyplot as plt\n",
        "%matplotlib inline\n",
        "\n",
        "fig = plt.figure(figsize=(8,5))\n",
        "ax = plt.axes(projection='3d')\n",
        "ax.scatter(delta.MSFT, delta.F, delta.BAC,c=novel_score,cmap='jet')\n",
        "ax.set_xlabel('Microsoft')\n",
        "ax.set_ylabel('Ford')\n",
        "ax.set_zlabel('Bank of America')\n",
        "plt.show()"
      ],
      "id": "0kic4T9DF5hP"
    },
    {
      "cell_type": "code",
      "source": [],
      "metadata": {
        "id": "AbdYBEHPo7vA"
      },
      "id": "AbdYBEHPo7vA",
      "execution_count": null,
      "outputs": []
    }
  ],
  "metadata": {
    "accelerator": "GPU",
    "colab": {
      "provenance": []
    },
    "gpuClass": "standard",
    "kernelspec": {
      "display_name": "Python 3 (ipykernel)",
      "language": "python",
      "name": "python3"
    },
    "language_info": {
      "codemirror_mode": {
        "name": "ipython",
        "version": 3
      },
      "file_extension": ".py",
      "mimetype": "text/x-python",
      "name": "python",
      "nbconvert_exporter": "python",
      "pygments_lexer": "ipython3",
      "version": "3.9.13"
    }
  },
  "nbformat": 4,
  "nbformat_minor": 5
}