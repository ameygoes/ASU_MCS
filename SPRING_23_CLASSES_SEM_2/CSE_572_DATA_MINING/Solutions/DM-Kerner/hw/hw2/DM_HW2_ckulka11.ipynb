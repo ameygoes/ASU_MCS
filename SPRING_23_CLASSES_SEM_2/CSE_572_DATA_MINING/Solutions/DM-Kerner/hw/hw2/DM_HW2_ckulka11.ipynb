{
  "cells": [
    {
      "cell_type": "markdown",
      "id": "86abac76",
      "metadata": {
        "id": "86abac76"
      },
      "source": [
        "# CSE 572: Homework 2\n",
        "\n",
        "This notebook provides a template and starting code to implement the Homework 2 assignment.\n",
        "\n",
        "To execute and make changes to this notebook, click File > Save a copy to save your own version in your Google Drive or Github. Read the step-by-step instructions below carefully. To execute the code, click on each cell below and press the SHIFT-ENTER keys simultaneously or by clicking the Play button. \n",
        "\n",
        "When you finish executing all code/exercises, save your notebook then download a copy (.ipynb file). Submit the following **three** things:\n",
        "1. a link to your Colab notebook,\n",
        "2. the .ipynb file, and\n",
        "3. a pdf of the executed notebook on Canvas.\n",
        "\n",
        "To generate a pdf of the notebook, click File > Print > Save as PDF."
      ]
    },
    {
      "cell_type": "markdown",
      "id": "60c95671",
      "metadata": {
        "id": "60c95671"
      },
      "source": [
        "## Prepare the dataset\n",
        "\n",
        "In this homework, you will compare the effect of multiple dimensionality reduction techniques on the classification performance for the [Covertype dataset](https://archive.ics.uci.edu/ml/datasets/Covertype).  The classification task for this dataset is to predict the forest cover type of a 30 m x 30 m patch of forested land described by 54 attributes. The attributes include features such as elevation, aspect, slope, soil characteristics, etc. The dataset was created by the Department of Forest Sciences at Colorado State University and the US Forest Service in 1998. "
      ]
    },
    {
      "cell_type": "code",
      "source": [
        "seed=0"
      ],
      "metadata": {
        "id": "gySjAE-xvNyG"
      },
      "id": "gySjAE-xvNyG",
      "execution_count": null,
      "outputs": []
    },
    {
      "cell_type": "code",
      "execution_count": null,
      "id": "29a5e8cb",
      "metadata": {
        "id": "29a5e8cb"
      },
      "outputs": [],
      "source": [
        "import pandas as pd\n",
        "from sklearn.datasets import fetch_covtype\n",
        "\n",
        "dataset = fetch_covtype(as_frame=True)\n",
        "\n",
        "data = dataset.data\n",
        "labels = dataset.target"
      ]
    },
    {
      "cell_type": "code",
      "execution_count": null,
      "id": "db452ae8",
      "metadata": {
        "id": "db452ae8",
        "colab": {
          "base_uri": "https://localhost:8080/",
          "height": 456
        },
        "outputId": "0eddcfc8-6e79-4097-8369-9c6f69f1d565"
      },
      "outputs": [
        {
          "output_type": "execute_result",
          "data": {
            "text/plain": [
              "        Elevation  Aspect  Slope  Horizontal_Distance_To_Hydrology  \\\n",
              "506404     3190.0   294.0   26.0                             806.0   \n",
              "357499     2912.0   100.0   12.0                             603.0   \n",
              "173064     3170.0   322.0    3.0                             120.0   \n",
              "128000     2832.0     0.0   18.0                              85.0   \n",
              "128949     2890.0   359.0   13.0                              30.0   \n",
              "185039     3115.0   325.0   13.0                             127.0   \n",
              "420250     3328.0   169.0   31.0                              90.0   \n",
              "430934     3330.0   329.0   18.0                             703.0   \n",
              "31822      2615.0   128.0   14.0                              30.0   \n",
              "408815     3175.0   203.0    7.0                             170.0   \n",
              "\n",
              "        Vertical_Distance_To_Hydrology  Horizontal_Distance_To_Roadways  \\\n",
              "506404                           373.0                           1451.0   \n",
              "357499                           273.0                            769.0   \n",
              "173064                            10.0                           4967.0   \n",
              "128000                            18.0                           2529.0   \n",
              "128949                             8.0                           5208.0   \n",
              "185039                            18.0                           4055.0   \n",
              "420250                            27.0                           1490.0   \n",
              "430934                            35.0                           2295.0   \n",
              "31822                              4.0                           1892.0   \n",
              "408815                            20.0                           2017.0   \n",
              "\n",
              "        Hillshade_9am  Hillshade_Noon  Hillshade_3pm  \\\n",
              "506404          139.0           223.0          221.0   \n",
              "357499          239.0           224.0          113.0   \n",
              "173064          212.0           236.0          162.0   \n",
              "128000          191.0           204.0          148.0   \n",
              "128949          200.0           216.0          153.0   \n",
              "185039          187.0           225.0          178.0   \n",
              "420250          226.0           234.0          116.0   \n",
              "430934          175.0           216.0          180.0   \n",
              "31822           243.0           230.0          113.0   \n",
              "408815          217.0           247.0          166.0   \n",
              "\n",
              "        Horizontal_Distance_To_Fire_Points  ...  Soil_Type_30  Soil_Type_31  \\\n",
              "506404                               902.0  ...           0.0           0.0   \n",
              "357499                               541.0  ...           0.0           1.0   \n",
              "173064                              2650.0  ...           0.0           0.0   \n",
              "128000                              2742.0  ...           0.0           0.0   \n",
              "128949                              1126.0  ...           0.0           0.0   \n",
              "185039                              1224.0  ...           0.0           0.0   \n",
              "420250                              1279.0  ...           0.0           0.0   \n",
              "430934                               968.0  ...           0.0           1.0   \n",
              "31822                               4686.0  ...           0.0           0.0   \n",
              "408815                              1867.0  ...           1.0           0.0   \n",
              "\n",
              "        Soil_Type_32  Soil_Type_33  Soil_Type_34  Soil_Type_35  Soil_Type_36  \\\n",
              "506404           0.0           0.0           0.0           0.0           0.0   \n",
              "357499           0.0           0.0           0.0           0.0           0.0   \n",
              "173064           0.0           0.0           0.0           0.0           0.0   \n",
              "128000           0.0           0.0           0.0           0.0           0.0   \n",
              "128949           0.0           0.0           0.0           0.0           0.0   \n",
              "185039           0.0           0.0           0.0           0.0           0.0   \n",
              "420250           0.0           0.0           0.0           0.0           0.0   \n",
              "430934           0.0           0.0           0.0           0.0           0.0   \n",
              "31822            0.0           0.0           0.0           0.0           0.0   \n",
              "408815           0.0           0.0           0.0           0.0           0.0   \n",
              "\n",
              "        Soil_Type_37  Soil_Type_38  Soil_Type_39  \n",
              "506404           0.0           0.0           0.0  \n",
              "357499           0.0           0.0           0.0  \n",
              "173064           0.0           0.0           0.0  \n",
              "128000           0.0           0.0           0.0  \n",
              "128949           0.0           0.0           0.0  \n",
              "185039           0.0           0.0           0.0  \n",
              "420250           0.0           1.0           0.0  \n",
              "430934           0.0           0.0           0.0  \n",
              "31822            0.0           0.0           0.0  \n",
              "408815           0.0           0.0           0.0  \n",
              "\n",
              "[10 rows x 54 columns]"
            ],
            "text/html": [
              "\n",
              "  <div id=\"df-63ad8c82-e5e3-4338-8b10-d8fad9beb048\">\n",
              "    <div class=\"colab-df-container\">\n",
              "      <div>\n",
              "<style scoped>\n",
              "    .dataframe tbody tr th:only-of-type {\n",
              "        vertical-align: middle;\n",
              "    }\n",
              "\n",
              "    .dataframe tbody tr th {\n",
              "        vertical-align: top;\n",
              "    }\n",
              "\n",
              "    .dataframe thead th {\n",
              "        text-align: right;\n",
              "    }\n",
              "</style>\n",
              "<table border=\"1\" class=\"dataframe\">\n",
              "  <thead>\n",
              "    <tr style=\"text-align: right;\">\n",
              "      <th></th>\n",
              "      <th>Elevation</th>\n",
              "      <th>Aspect</th>\n",
              "      <th>Slope</th>\n",
              "      <th>Horizontal_Distance_To_Hydrology</th>\n",
              "      <th>Vertical_Distance_To_Hydrology</th>\n",
              "      <th>Horizontal_Distance_To_Roadways</th>\n",
              "      <th>Hillshade_9am</th>\n",
              "      <th>Hillshade_Noon</th>\n",
              "      <th>Hillshade_3pm</th>\n",
              "      <th>Horizontal_Distance_To_Fire_Points</th>\n",
              "      <th>...</th>\n",
              "      <th>Soil_Type_30</th>\n",
              "      <th>Soil_Type_31</th>\n",
              "      <th>Soil_Type_32</th>\n",
              "      <th>Soil_Type_33</th>\n",
              "      <th>Soil_Type_34</th>\n",
              "      <th>Soil_Type_35</th>\n",
              "      <th>Soil_Type_36</th>\n",
              "      <th>Soil_Type_37</th>\n",
              "      <th>Soil_Type_38</th>\n",
              "      <th>Soil_Type_39</th>\n",
              "    </tr>\n",
              "  </thead>\n",
              "  <tbody>\n",
              "    <tr>\n",
              "      <th>506404</th>\n",
              "      <td>3190.0</td>\n",
              "      <td>294.0</td>\n",
              "      <td>26.0</td>\n",
              "      <td>806.0</td>\n",
              "      <td>373.0</td>\n",
              "      <td>1451.0</td>\n",
              "      <td>139.0</td>\n",
              "      <td>223.0</td>\n",
              "      <td>221.0</td>\n",
              "      <td>902.0</td>\n",
              "      <td>...</td>\n",
              "      <td>0.0</td>\n",
              "      <td>0.0</td>\n",
              "      <td>0.0</td>\n",
              "      <td>0.0</td>\n",
              "      <td>0.0</td>\n",
              "      <td>0.0</td>\n",
              "      <td>0.0</td>\n",
              "      <td>0.0</td>\n",
              "      <td>0.0</td>\n",
              "      <td>0.0</td>\n",
              "    </tr>\n",
              "    <tr>\n",
              "      <th>357499</th>\n",
              "      <td>2912.0</td>\n",
              "      <td>100.0</td>\n",
              "      <td>12.0</td>\n",
              "      <td>603.0</td>\n",
              "      <td>273.0</td>\n",
              "      <td>769.0</td>\n",
              "      <td>239.0</td>\n",
              "      <td>224.0</td>\n",
              "      <td>113.0</td>\n",
              "      <td>541.0</td>\n",
              "      <td>...</td>\n",
              "      <td>0.0</td>\n",
              "      <td>1.0</td>\n",
              "      <td>0.0</td>\n",
              "      <td>0.0</td>\n",
              "      <td>0.0</td>\n",
              "      <td>0.0</td>\n",
              "      <td>0.0</td>\n",
              "      <td>0.0</td>\n",
              "      <td>0.0</td>\n",
              "      <td>0.0</td>\n",
              "    </tr>\n",
              "    <tr>\n",
              "      <th>173064</th>\n",
              "      <td>3170.0</td>\n",
              "      <td>322.0</td>\n",
              "      <td>3.0</td>\n",
              "      <td>120.0</td>\n",
              "      <td>10.0</td>\n",
              "      <td>4967.0</td>\n",
              "      <td>212.0</td>\n",
              "      <td>236.0</td>\n",
              "      <td>162.0</td>\n",
              "      <td>2650.0</td>\n",
              "      <td>...</td>\n",
              "      <td>0.0</td>\n",
              "      <td>0.0</td>\n",
              "      <td>0.0</td>\n",
              "      <td>0.0</td>\n",
              "      <td>0.0</td>\n",
              "      <td>0.0</td>\n",
              "      <td>0.0</td>\n",
              "      <td>0.0</td>\n",
              "      <td>0.0</td>\n",
              "      <td>0.0</td>\n",
              "    </tr>\n",
              "    <tr>\n",
              "      <th>128000</th>\n",
              "      <td>2832.0</td>\n",
              "      <td>0.0</td>\n",
              "      <td>18.0</td>\n",
              "      <td>85.0</td>\n",
              "      <td>18.0</td>\n",
              "      <td>2529.0</td>\n",
              "      <td>191.0</td>\n",
              "      <td>204.0</td>\n",
              "      <td>148.0</td>\n",
              "      <td>2742.0</td>\n",
              "      <td>...</td>\n",
              "      <td>0.0</td>\n",
              "      <td>0.0</td>\n",
              "      <td>0.0</td>\n",
              "      <td>0.0</td>\n",
              "      <td>0.0</td>\n",
              "      <td>0.0</td>\n",
              "      <td>0.0</td>\n",
              "      <td>0.0</td>\n",
              "      <td>0.0</td>\n",
              "      <td>0.0</td>\n",
              "    </tr>\n",
              "    <tr>\n",
              "      <th>128949</th>\n",
              "      <td>2890.0</td>\n",
              "      <td>359.0</td>\n",
              "      <td>13.0</td>\n",
              "      <td>30.0</td>\n",
              "      <td>8.0</td>\n",
              "      <td>5208.0</td>\n",
              "      <td>200.0</td>\n",
              "      <td>216.0</td>\n",
              "      <td>153.0</td>\n",
              "      <td>1126.0</td>\n",
              "      <td>...</td>\n",
              "      <td>0.0</td>\n",
              "      <td>0.0</td>\n",
              "      <td>0.0</td>\n",
              "      <td>0.0</td>\n",
              "      <td>0.0</td>\n",
              "      <td>0.0</td>\n",
              "      <td>0.0</td>\n",
              "      <td>0.0</td>\n",
              "      <td>0.0</td>\n",
              "      <td>0.0</td>\n",
              "    </tr>\n",
              "    <tr>\n",
              "      <th>185039</th>\n",
              "      <td>3115.0</td>\n",
              "      <td>325.0</td>\n",
              "      <td>13.0</td>\n",
              "      <td>127.0</td>\n",
              "      <td>18.0</td>\n",
              "      <td>4055.0</td>\n",
              "      <td>187.0</td>\n",
              "      <td>225.0</td>\n",
              "      <td>178.0</td>\n",
              "      <td>1224.0</td>\n",
              "      <td>...</td>\n",
              "      <td>0.0</td>\n",
              "      <td>0.0</td>\n",
              "      <td>0.0</td>\n",
              "      <td>0.0</td>\n",
              "      <td>0.0</td>\n",
              "      <td>0.0</td>\n",
              "      <td>0.0</td>\n",
              "      <td>0.0</td>\n",
              "      <td>0.0</td>\n",
              "      <td>0.0</td>\n",
              "    </tr>\n",
              "    <tr>\n",
              "      <th>420250</th>\n",
              "      <td>3328.0</td>\n",
              "      <td>169.0</td>\n",
              "      <td>31.0</td>\n",
              "      <td>90.0</td>\n",
              "      <td>27.0</td>\n",
              "      <td>1490.0</td>\n",
              "      <td>226.0</td>\n",
              "      <td>234.0</td>\n",
              "      <td>116.0</td>\n",
              "      <td>1279.0</td>\n",
              "      <td>...</td>\n",
              "      <td>0.0</td>\n",
              "      <td>0.0</td>\n",
              "      <td>0.0</td>\n",
              "      <td>0.0</td>\n",
              "      <td>0.0</td>\n",
              "      <td>0.0</td>\n",
              "      <td>0.0</td>\n",
              "      <td>0.0</td>\n",
              "      <td>1.0</td>\n",
              "      <td>0.0</td>\n",
              "    </tr>\n",
              "    <tr>\n",
              "      <th>430934</th>\n",
              "      <td>3330.0</td>\n",
              "      <td>329.0</td>\n",
              "      <td>18.0</td>\n",
              "      <td>703.0</td>\n",
              "      <td>35.0</td>\n",
              "      <td>2295.0</td>\n",
              "      <td>175.0</td>\n",
              "      <td>216.0</td>\n",
              "      <td>180.0</td>\n",
              "      <td>968.0</td>\n",
              "      <td>...</td>\n",
              "      <td>0.0</td>\n",
              "      <td>1.0</td>\n",
              "      <td>0.0</td>\n",
              "      <td>0.0</td>\n",
              "      <td>0.0</td>\n",
              "      <td>0.0</td>\n",
              "      <td>0.0</td>\n",
              "      <td>0.0</td>\n",
              "      <td>0.0</td>\n",
              "      <td>0.0</td>\n",
              "    </tr>\n",
              "    <tr>\n",
              "      <th>31822</th>\n",
              "      <td>2615.0</td>\n",
              "      <td>128.0</td>\n",
              "      <td>14.0</td>\n",
              "      <td>30.0</td>\n",
              "      <td>4.0</td>\n",
              "      <td>1892.0</td>\n",
              "      <td>243.0</td>\n",
              "      <td>230.0</td>\n",
              "      <td>113.0</td>\n",
              "      <td>4686.0</td>\n",
              "      <td>...</td>\n",
              "      <td>0.0</td>\n",
              "      <td>0.0</td>\n",
              "      <td>0.0</td>\n",
              "      <td>0.0</td>\n",
              "      <td>0.0</td>\n",
              "      <td>0.0</td>\n",
              "      <td>0.0</td>\n",
              "      <td>0.0</td>\n",
              "      <td>0.0</td>\n",
              "      <td>0.0</td>\n",
              "    </tr>\n",
              "    <tr>\n",
              "      <th>408815</th>\n",
              "      <td>3175.0</td>\n",
              "      <td>203.0</td>\n",
              "      <td>7.0</td>\n",
              "      <td>170.0</td>\n",
              "      <td>20.0</td>\n",
              "      <td>2017.0</td>\n",
              "      <td>217.0</td>\n",
              "      <td>247.0</td>\n",
              "      <td>166.0</td>\n",
              "      <td>1867.0</td>\n",
              "      <td>...</td>\n",
              "      <td>1.0</td>\n",
              "      <td>0.0</td>\n",
              "      <td>0.0</td>\n",
              "      <td>0.0</td>\n",
              "      <td>0.0</td>\n",
              "      <td>0.0</td>\n",
              "      <td>0.0</td>\n",
              "      <td>0.0</td>\n",
              "      <td>0.0</td>\n",
              "      <td>0.0</td>\n",
              "    </tr>\n",
              "  </tbody>\n",
              "</table>\n",
              "<p>10 rows × 54 columns</p>\n",
              "</div>\n",
              "      <button class=\"colab-df-convert\" onclick=\"convertToInteractive('df-63ad8c82-e5e3-4338-8b10-d8fad9beb048')\"\n",
              "              title=\"Convert this dataframe to an interactive table.\"\n",
              "              style=\"display:none;\">\n",
              "        \n",
              "  <svg xmlns=\"http://www.w3.org/2000/svg\" height=\"24px\"viewBox=\"0 0 24 24\"\n",
              "       width=\"24px\">\n",
              "    <path d=\"M0 0h24v24H0V0z\" fill=\"none\"/>\n",
              "    <path d=\"M18.56 5.44l.94 2.06.94-2.06 2.06-.94-2.06-.94-.94-2.06-.94 2.06-2.06.94zm-11 1L8.5 8.5l.94-2.06 2.06-.94-2.06-.94L8.5 2.5l-.94 2.06-2.06.94zm10 10l.94 2.06.94-2.06 2.06-.94-2.06-.94-.94-2.06-.94 2.06-2.06.94z\"/><path d=\"M17.41 7.96l-1.37-1.37c-.4-.4-.92-.59-1.43-.59-.52 0-1.04.2-1.43.59L10.3 9.45l-7.72 7.72c-.78.78-.78 2.05 0 2.83L4 21.41c.39.39.9.59 1.41.59.51 0 1.02-.2 1.41-.59l7.78-7.78 2.81-2.81c.8-.78.8-2.07 0-2.86zM5.41 20L4 18.59l7.72-7.72 1.47 1.35L5.41 20z\"/>\n",
              "  </svg>\n",
              "      </button>\n",
              "      \n",
              "  <style>\n",
              "    .colab-df-container {\n",
              "      display:flex;\n",
              "      flex-wrap:wrap;\n",
              "      gap: 12px;\n",
              "    }\n",
              "\n",
              "    .colab-df-convert {\n",
              "      background-color: #E8F0FE;\n",
              "      border: none;\n",
              "      border-radius: 50%;\n",
              "      cursor: pointer;\n",
              "      display: none;\n",
              "      fill: #1967D2;\n",
              "      height: 32px;\n",
              "      padding: 0 0 0 0;\n",
              "      width: 32px;\n",
              "    }\n",
              "\n",
              "    .colab-df-convert:hover {\n",
              "      background-color: #E2EBFA;\n",
              "      box-shadow: 0px 1px 2px rgba(60, 64, 67, 0.3), 0px 1px 3px 1px rgba(60, 64, 67, 0.15);\n",
              "      fill: #174EA6;\n",
              "    }\n",
              "\n",
              "    [theme=dark] .colab-df-convert {\n",
              "      background-color: #3B4455;\n",
              "      fill: #D2E3FC;\n",
              "    }\n",
              "\n",
              "    [theme=dark] .colab-df-convert:hover {\n",
              "      background-color: #434B5C;\n",
              "      box-shadow: 0px 1px 3px 1px rgba(0, 0, 0, 0.15);\n",
              "      filter: drop-shadow(0px 1px 2px rgba(0, 0, 0, 0.3));\n",
              "      fill: #FFFFFF;\n",
              "    }\n",
              "  </style>\n",
              "\n",
              "      <script>\n",
              "        const buttonEl =\n",
              "          document.querySelector('#df-63ad8c82-e5e3-4338-8b10-d8fad9beb048 button.colab-df-convert');\n",
              "        buttonEl.style.display =\n",
              "          google.colab.kernel.accessAllowed ? 'block' : 'none';\n",
              "\n",
              "        async function convertToInteractive(key) {\n",
              "          const element = document.querySelector('#df-63ad8c82-e5e3-4338-8b10-d8fad9beb048');\n",
              "          const dataTable =\n",
              "            await google.colab.kernel.invokeFunction('convertToInteractive',\n",
              "                                                     [key], {});\n",
              "          if (!dataTable) return;\n",
              "\n",
              "          const docLinkHtml = 'Like what you see? Visit the ' +\n",
              "            '<a target=\"_blank\" href=https://colab.research.google.com/notebooks/data_table.ipynb>data table notebook</a>'\n",
              "            + ' to learn more about interactive tables.';\n",
              "          element.innerHTML = '';\n",
              "          dataTable['output_type'] = 'display_data';\n",
              "          await google.colab.output.renderOutput(dataTable, element);\n",
              "          const docLink = document.createElement('div');\n",
              "          docLink.innerHTML = docLinkHtml;\n",
              "          element.appendChild(docLink);\n",
              "        }\n",
              "      </script>\n",
              "    </div>\n",
              "  </div>\n",
              "  "
            ]
          },
          "metadata": {},
          "execution_count": 3
        }
      ],
      "source": [
        "data.sample(10)"
      ]
    },
    {
      "cell_type": "code",
      "execution_count": null,
      "id": "1a7e3caa",
      "metadata": {
        "id": "1a7e3caa"
      },
      "outputs": [],
      "source": [
        "label_names = ['Spruce/Fir', 'Lodgepole Pine', 'Ponderosa Pine', \n",
        "               'Cottonwood/Willow', 'Aspen', 'Douglas-fir', 'Krummholz']"
      ]
    },
    {
      "cell_type": "code",
      "execution_count": null,
      "id": "4b920c83",
      "metadata": {
        "id": "4b920c83",
        "colab": {
          "base_uri": "https://localhost:8080/"
        },
        "outputId": "4f05c1c4-068e-4a67-dc68-ce19ff156c41"
      },
      "outputs": [
        {
          "output_type": "execute_result",
          "data": {
            "text/plain": [
              "2    283301\n",
              "1    211840\n",
              "3     35754\n",
              "7     20510\n",
              "6     17367\n",
              "5      9493\n",
              "4      2747\n",
              "Name: Cover_Type, dtype: int64"
            ]
          },
          "metadata": {},
          "execution_count": 5
        }
      ],
      "source": [
        "labels.value_counts()"
      ]
    },
    {
      "cell_type": "code",
      "source": [
        "from sklearn.model_selection import train_test_split\n",
        "\n",
        "X_train, X_test, y_train, y_test = train_test_split(\n",
        "    data, labels, test_size=0.3, random_state=seed\n",
        ")"
      ],
      "metadata": {
        "id": "gRVgWFD1B5rs"
      },
      "id": "gRVgWFD1B5rs",
      "execution_count": null,
      "outputs": []
    },
    {
      "cell_type": "code",
      "source": [
        "from sklearn.preprocessing import StandardScaler\n",
        "\n",
        "scaler = StandardScaler()\n",
        "X_train = scaler.fit_transform(X_train)\n",
        "X_test = scaler.transform(X_test)"
      ],
      "metadata": {
        "id": "Xboo6QCfB5uL"
      },
      "id": "Xboo6QCfB5uL",
      "execution_count": null,
      "outputs": []
    },
    {
      "cell_type": "markdown",
      "id": "680c6d90",
      "metadata": {
        "id": "680c6d90"
      },
      "source": [
        "## Dimensionality reduction\n",
        "\n",
        "You will implement 2 dimensionality reduction techniques:\n",
        "- PCA (linear)\n",
        "- Autoencoder neural network (non-linear)\n",
        "\n",
        "For PCA, you will create a plot of the total fraction of explained variance by the first 1 through 10 principal components (as we did in Lab 11). Choose the number of principal components to retain based on the inflection point of this plot, i.e., the point at which the increase in total explained variance begins to plateau (as we did in Lab 11).\n",
        "\n",
        "For the autoencoder neural network, implement a network with the following layers:\n",
        "1. Input layer (# units = 54) [encoder]\n",
        "2. Hidden layer (# units = 32) [encoder]\n",
        "3. Hidden layer (# units = number of PCs retained for PCA) [encoded/bottleneck layer]\n",
        "4. Hidden layer (# units = 32) [decoder]\n",
        "5. Output layer (# units = 54) [decoder]\n",
        "\n",
        "For example, if you chose to use 3 principal components in PCA, you will have a bottleneck layer of 3 units in your autoencoder. \n",
        "\n",
        "Use ‘relu’ activation for hidden layers and ‘sigmoid’ activation for the output layer, ‘sgd’ (stochastic gradient descent) for the optimizer, and ‘mse’ (mean squared error) as the loss function. Train your model for 100 epochs with a batch size of 64. Lab 12 will be a useful guide for this implementation. Note that you will use the predict() function with only the encoder part of the model to transform your features into the encoded (reduced-dimension) representation."
      ]
    },
    {
      "cell_type": "code",
      "execution_count": null,
      "id": "b0b608b1",
      "metadata": {
        "id": "b0b608b1"
      },
      "outputs": [],
      "source": [
        "# YOUR CODE HERE"
      ]
    },
    {
      "cell_type": "code",
      "source": [
        "from sklearn.decomposition import PCA\n",
        "\n",
        "n_components = 10\n",
        "\n",
        "pca = PCA(n_components=n_components).fit(X_train)"
      ],
      "metadata": {
        "id": "x7plVz_eD5Gy"
      },
      "id": "x7plVz_eD5Gy",
      "execution_count": null,
      "outputs": []
    },
    {
      "cell_type": "code",
      "source": [
        "import numpy as np\n",
        "for i in range(n_components):\n",
        "    print('Percentage of variance explained by PC {}: {}'.format(i+1, pca.explained_variance_ratio_[i]))\n",
        "    \n",
        "print('Total variance explained by 10 PCs: {}'.format(np.sum(pca.explained_variance_ratio_)))"
      ],
      "metadata": {
        "colab": {
          "base_uri": "https://localhost:8080/"
        },
        "id": "x6D9zAqzD5JF",
        "outputId": "3e787492-625f-4a1b-cdf6-73caac19c9f5"
      },
      "id": "x6D9zAqzD5JF",
      "execution_count": null,
      "outputs": [
        {
          "output_type": "stream",
          "name": "stdout",
          "text": [
            "Percentage of variance explained by PC 1: 0.06854444979451482\n",
            "Percentage of variance explained by PC 2: 0.0541524656894217\n",
            "Percentage of variance explained by PC 3: 0.04440936908837072\n",
            "Percentage of variance explained by PC 4: 0.03704399304724756\n",
            "Percentage of variance explained by PC 5: 0.02783184159647002\n",
            "Percentage of variance explained by PC 6: 0.026815175402672954\n",
            "Percentage of variance explained by PC 7: 0.022277809800697518\n",
            "Percentage of variance explained by PC 8: 0.021182620016194934\n",
            "Percentage of variance explained by PC 9: 0.019941278009590935\n",
            "Percentage of variance explained by PC 10: 0.019477414691665997\n",
            "Total variance explained by 10 PCs: 0.3416764171368471\n"
          ]
        }
      ]
    },
    {
      "cell_type": "code",
      "source": [
        "# YOUR CODE HERE\n",
        "import numpy as np\n",
        "import matplotlib.pyplot as plt\n",
        "\n",
        "arr=[]\n",
        "\n",
        "s=np.sum(pca.explained_variance_ratio_)\n",
        "arr.append((pca.explained_variance_ratio_[0]))\n",
        "for i in range(1,n_components):\n",
        "     arr.append(pca.explained_variance_ratio_[i]+arr[i-1])\n",
        "print(arr)\n",
        "plt.figure(figsize=(10, 6))\n",
        "pc=range(1,11)\n",
        "plt.xlabel(\"num  principal component\")\n",
        "plt.ylabel(\"fraction of total variance\")\n",
        "plt.plot(pc,arr)\n"
      ],
      "metadata": {
        "colab": {
          "base_uri": "https://localhost:8080/",
          "height": 423
        },
        "id": "T7dWMSBpD5Ll",
        "outputId": "a5ea1dae-bbe7-4a72-e219-4123038a9894"
      },
      "id": "T7dWMSBpD5Ll",
      "execution_count": null,
      "outputs": [
        {
          "output_type": "stream",
          "name": "stdout",
          "text": [
            "[0.06854444979451482, 0.12269691548393652, 0.16710628457230725, 0.20415027761955482, 0.23198211921602482, 0.25879729461869777, 0.2810751044193953, 0.30225772443559024, 0.3221990024451812, 0.34167641713684715]\n"
          ]
        },
        {
          "output_type": "execute_result",
          "data": {
            "text/plain": [
              "[<matplotlib.lines.Line2D at 0x7f9880efb390>]"
            ]
          },
          "metadata": {},
          "execution_count": 11
        },
        {
          "output_type": "display_data",
          "data": {
            "text/plain": [
              "<Figure size 720x432 with 1 Axes>"
            ],
            "image/png": "[encoded data removed]"
          },
          "metadata": {
            "needs_background": "light"
          }
        }
      ]
    },
    {
      "cell_type": "markdown",
      "source": [
        "we are selecting 4 PC \n"
      ],
      "metadata": {
        "id": "jy4s_eOnFOyw"
      },
      "id": "jy4s_eOnFOyw"
    },
    {
      "cell_type": "code",
      "source": [
        "n_components = 4\n",
        "\n",
        "pca = PCA(n_components=n_components).fit(X_train)\n",
        "X_train_pca = pca.transform(X_train)\n",
        "X_test_pca = pca.transform(X_test)"
      ],
      "metadata": {
        "id": "VO_vYVM5D5N5"
      },
      "id": "VO_vYVM5D5N5",
      "execution_count": null,
      "outputs": []
    },
    {
      "cell_type": "code",
      "source": [
        "X_train_pca.shape"
      ],
      "metadata": {
        "colab": {
          "base_uri": "https://localhost:8080/"
        },
        "id": "Y-DLLrMjXu1z",
        "outputId": "1446f27d-be70-4833-8dbd-b1f4830cab2f"
      },
      "id": "Y-DLLrMjXu1z",
      "execution_count": null,
      "outputs": [
        {
          "output_type": "execute_result",
          "data": {
            "text/plain": [
              "(406708, 4)"
            ]
          },
          "metadata": {},
          "execution_count": 28
        }
      ]
    },
    {
      "cell_type": "code",
      "source": [
        "  \n",
        "import keras\n",
        "from keras import layers\n",
        "\n",
        "# This is the size of our encoded representations\n",
        "encoding_dim = 4\n",
        "\n",
        "# This is our input image\n",
        "input_img = keras.Input(shape=(X_train.shape[1],))\n",
        "# \"encoded\" is the encoded representation of the input\n",
        "encoded = layers.Dense(54, activation='relu')(input_img)\n",
        "encoded = layers.Dense(32, activation='relu')(encoded)\n",
        "encoded = layers.Dense(encoding_dim, activation='relu')(encoded)\n",
        "\n",
        "# \"decoded\" is the lossy reconstruction of the input\n",
        "decoded = layers.Dense(32, activation='relu')(encoded)\n",
        "decoded = layers.Dense(54, activation='relu')(decoded)\n",
        "decoded = layers.Dense(X_train.shape[1], activation='sigmoid')(decoded)\n",
        "\n",
        "# This model maps an input to its reconstruction\n",
        "autoencoder = keras.Model(input_img, decoded)"
      ],
      "metadata": {
        "id": "aZapUuxJHb_Q"
      },
      "id": "aZapUuxJHb_Q",
      "execution_count": null,
      "outputs": []
    },
    {
      "cell_type": "code",
      "source": [
        "encoder = keras.Model(input_img, encoded)"
      ],
      "metadata": {
        "id": "Vq5Llgn2HcSR"
      },
      "id": "Vq5Llgn2HcSR",
      "execution_count": null,
      "outputs": []
    },
    {
      "cell_type": "code",
      "source": [
        "autoencoder.compile(optimizer='sgd', loss='mse')"
      ],
      "metadata": {
        "id": "_qvBm27gHcUl"
      },
      "id": "_qvBm27gHcUl",
      "execution_count": null,
      "outputs": []
    },
    {
      "cell_type": "code",
      "source": [
        "autoencoder.fit(x=X_train, y=X_train,\n",
        "                epochs=100,\n",
        "                batch_size=64,\n",
        "                shuffle=True)"
      ],
      "metadata": {
        "colab": {
          "base_uri": "https://localhost:8080/"
        },
        "id": "cMKxj3yMHcXL",
        "outputId": "a333bba6-7ed0-47d2-d089-117a26f0f2b0"
      },
      "id": "cMKxj3yMHcXL",
      "execution_count": null,
      "outputs": [
        {
          "output_type": "stream",
          "name": "stdout",
          "text": [
            "Epoch 1/100\n",
            "6355/6355 [==============================] - 20s 3ms/step - loss: 1.0852\n",
            "Epoch 2/100\n",
            "6355/6355 [==============================] - 17s 3ms/step - loss: 0.9973\n",
            "Epoch 3/100\n",
            "6355/6355 [==============================] - 17s 3ms/step - loss: 0.9922\n",
            "Epoch 4/100\n",
            "6355/6355 [==============================] - 17s 3ms/step - loss: 0.9869\n",
            "Epoch 5/100\n",
            "6355/6355 [==============================] - 19s 3ms/step - loss: 0.9785\n",
            "Epoch 6/100\n",
            "6355/6355 [==============================] - 16s 3ms/step - loss: 0.9704\n",
            "Epoch 7/100\n",
            "6355/6355 [==============================] - 16s 3ms/step - loss: 0.9622\n",
            "Epoch 8/100\n",
            "6355/6355 [==============================] - 17s 3ms/step - loss: 0.9536\n",
            "Epoch 9/100\n",
            "6355/6355 [==============================] - 17s 3ms/step - loss: 0.9450\n",
            "Epoch 10/100\n",
            "6355/6355 [==============================] - 16s 3ms/step - loss: 0.9373\n",
            "Epoch 11/100\n",
            "6355/6355 [==============================] - 16s 3ms/step - loss: 0.9297\n",
            "Epoch 12/100\n",
            "6355/6355 [==============================] - 29s 4ms/step - loss: 0.9243\n",
            "Epoch 13/100\n",
            "6355/6355 [==============================] - 18s 3ms/step - loss: 0.9180\n",
            "Epoch 14/100\n",
            "6355/6355 [==============================] - 17s 3ms/step - loss: 0.9139\n",
            "Epoch 15/100\n",
            "6355/6355 [==============================] - 16s 3ms/step - loss: 0.9121\n",
            "Epoch 16/100\n",
            "6355/6355 [==============================] - 18s 3ms/step - loss: 0.9110\n",
            "Epoch 17/100\n",
            "6355/6355 [==============================] - 17s 3ms/step - loss: 0.9100\n",
            "Epoch 18/100\n",
            "6355/6355 [==============================] - 16s 3ms/step - loss: 0.9089\n",
            "Epoch 19/100\n",
            "6355/6355 [==============================] - 16s 3ms/step - loss: 0.9084\n",
            "Epoch 20/100\n",
            "6355/6355 [==============================] - 17s 3ms/step - loss: 0.9081\n",
            "Epoch 21/100\n",
            "6355/6355 [==============================] - 17s 3ms/step - loss: 0.9078\n",
            "Epoch 22/100\n",
            "6355/6355 [==============================] - 17s 3ms/step - loss: 0.9075\n",
            "Epoch 23/100\n",
            "6355/6355 [==============================] - 16s 3ms/step - loss: 0.9072\n",
            "Epoch 24/100\n",
            "6355/6355 [==============================] - 17s 3ms/step - loss: 0.9070\n",
            "Epoch 25/100\n",
            "6355/6355 [==============================] - 16s 3ms/step - loss: 0.9068\n",
            "Epoch 26/100\n",
            "6355/6355 [==============================] - 16s 3ms/step - loss: 0.9066\n",
            "Epoch 27/100\n",
            "6355/6355 [==============================] - 16s 3ms/step - loss: 0.9065\n",
            "Epoch 28/100\n",
            "6355/6355 [==============================] - 16s 3ms/step - loss: 0.9063\n",
            "Epoch 29/100\n",
            "6355/6355 [==============================] - 16s 3ms/step - loss: 0.9061\n",
            "Epoch 30/100\n",
            "6355/6355 [==============================] - 17s 3ms/step - loss: 0.9060\n",
            "Epoch 31/100\n",
            "6355/6355 [==============================] - 17s 3ms/step - loss: 0.9059\n",
            "Epoch 32/100\n",
            "6355/6355 [==============================] - 16s 3ms/step - loss: 0.9058\n",
            "Epoch 33/100\n",
            "6355/6355 [==============================] - 16s 3ms/step - loss: 0.9057\n",
            "Epoch 34/100\n",
            "6355/6355 [==============================] - 17s 3ms/step - loss: 0.9056\n",
            "Epoch 35/100\n",
            "6355/6355 [==============================] - 16s 3ms/step - loss: 0.9055\n",
            "Epoch 36/100\n",
            "6355/6355 [==============================] - 16s 3ms/step - loss: 0.9054\n",
            "Epoch 37/100\n",
            "6355/6355 [==============================] - 16s 3ms/step - loss: 0.9053\n",
            "Epoch 38/100\n",
            "6355/6355 [==============================] - 17s 3ms/step - loss: 0.9053\n",
            "Epoch 39/100\n",
            "6355/6355 [==============================] - 17s 3ms/step - loss: 0.9052\n",
            "Epoch 40/100\n",
            "6355/6355 [==============================] - 16s 3ms/step - loss: 0.9051\n",
            "Epoch 41/100\n",
            "6355/6355 [==============================] - 17s 3ms/step - loss: 0.9050\n",
            "Epoch 42/100\n",
            "6355/6355 [==============================] - 16s 3ms/step - loss: 0.9049\n",
            "Epoch 43/100\n",
            "6355/6355 [==============================] - 17s 3ms/step - loss: 0.9049\n",
            "Epoch 44/100\n",
            "6355/6355 [==============================] - 16s 3ms/step - loss: 0.9048\n",
            "Epoch 45/100\n",
            "6355/6355 [==============================] - 16s 3ms/step - loss: 0.9047\n",
            "Epoch 46/100\n",
            "6355/6355 [==============================] - 16s 3ms/step - loss: 0.9046\n",
            "Epoch 47/100\n",
            "6355/6355 [==============================] - 16s 3ms/step - loss: 0.9046\n",
            "Epoch 48/100\n",
            "6355/6355 [==============================] - 20s 3ms/step - loss: 0.9044\n",
            "Epoch 49/100\n",
            "6355/6355 [==============================] - 17s 3ms/step - loss: 0.9041\n",
            "Epoch 50/100\n",
            "6355/6355 [==============================] - 17s 3ms/step - loss: 0.9039\n",
            "Epoch 51/100\n",
            "6355/6355 [==============================] - 16s 3ms/step - loss: 0.9038\n",
            "Epoch 52/100\n",
            "6355/6355 [==============================] - 16s 3ms/step - loss: 0.9038\n",
            "Epoch 53/100\n",
            "6355/6355 [==============================] - 18s 3ms/step - loss: 0.9037\n",
            "Epoch 54/100\n",
            "6355/6355 [==============================] - 16s 3ms/step - loss: 0.9036\n",
            "Epoch 55/100\n",
            "6355/6355 [==============================] - 16s 3ms/step - loss: 0.9035\n",
            "Epoch 56/100\n",
            "6355/6355 [==============================] - 17s 3ms/step - loss: 0.9034\n",
            "Epoch 57/100\n",
            "6355/6355 [==============================] - 17s 3ms/step - loss: 0.9034\n",
            "Epoch 58/100\n",
            "6355/6355 [==============================] - 17s 3ms/step - loss: 0.9033\n",
            "Epoch 59/100\n",
            "6355/6355 [==============================] - 16s 3ms/step - loss: 0.9032\n",
            "Epoch 60/100\n",
            "6355/6355 [==============================] - 17s 3ms/step - loss: 0.9032\n",
            "Epoch 61/100\n",
            "6355/6355 [==============================] - 16s 3ms/step - loss: 0.9031\n",
            "Epoch 62/100\n",
            "6355/6355 [==============================] - 16s 3ms/step - loss: 0.9030\n",
            "Epoch 63/100\n",
            "6355/6355 [==============================] - 17s 3ms/step - loss: 0.9030\n",
            "Epoch 64/100\n",
            "6355/6355 [==============================] - 16s 3ms/step - loss: 0.9029\n",
            "Epoch 65/100\n",
            "6355/6355 [==============================] - 16s 3ms/step - loss: 0.9029\n",
            "Epoch 66/100\n",
            "6355/6355 [==============================] - 16s 3ms/step - loss: 0.9029\n",
            "Epoch 67/100\n",
            "6355/6355 [==============================] - 16s 3ms/step - loss: 0.9028\n",
            "Epoch 68/100\n",
            "6355/6355 [==============================] - 16s 3ms/step - loss: 0.9028\n",
            "Epoch 69/100\n",
            "6355/6355 [==============================] - 17s 3ms/step - loss: 0.9027\n",
            "Epoch 70/100\n",
            "6355/6355 [==============================] - 16s 3ms/step - loss: 0.9027\n",
            "Epoch 71/100\n",
            "6355/6355 [==============================] - 16s 3ms/step - loss: 0.9026\n",
            "Epoch 72/100\n",
            "6355/6355 [==============================] - 16s 3ms/step - loss: 0.9026\n",
            "Epoch 73/100\n",
            "6355/6355 [==============================] - 16s 3ms/step - loss: 0.9025\n",
            "Epoch 74/100\n",
            "6355/6355 [==============================] - 16s 3ms/step - loss: 0.9025\n",
            "Epoch 75/100\n",
            "6355/6355 [==============================] - 16s 3ms/step - loss: 0.9025\n",
            "Epoch 76/100\n",
            "6355/6355 [==============================] - 17s 3ms/step - loss: 0.9024\n",
            "Epoch 77/100\n",
            "6355/6355 [==============================] - 17s 3ms/step - loss: 0.9024\n",
            "Epoch 78/100\n",
            "6355/6355 [==============================] - 16s 3ms/step - loss: 0.9024\n",
            "Epoch 79/100\n",
            "6355/6355 [==============================] - 16s 3ms/step - loss: 0.9023\n",
            "Epoch 80/100\n",
            "6355/6355 [==============================] - 16s 3ms/step - loss: 0.9023\n",
            "Epoch 81/100\n",
            "6355/6355 [==============================] - 16s 3ms/step - loss: 0.9023\n",
            "Epoch 82/100\n",
            "6355/6355 [==============================] - 17s 3ms/step - loss: 0.9022\n",
            "Epoch 83/100\n",
            "6355/6355 [==============================] - 16s 3ms/step - loss: 0.9022\n",
            "Epoch 84/100\n",
            "6355/6355 [==============================] - 16s 3ms/step - loss: 0.9022\n",
            "Epoch 85/100\n",
            "6355/6355 [==============================] - 16s 3ms/step - loss: 0.9021\n",
            "Epoch 86/100\n",
            "6355/6355 [==============================] - 16s 3ms/step - loss: 0.9021\n",
            "Epoch 87/100\n",
            "6355/6355 [==============================] - 16s 3ms/step - loss: 0.9021\n",
            "Epoch 88/100\n",
            "6355/6355 [==============================] - 16s 3ms/step - loss: 0.9021\n",
            "Epoch 89/100\n",
            "6355/6355 [==============================] - 16s 3ms/step - loss: 0.9020\n",
            "Epoch 90/100\n",
            "6355/6355 [==============================] - 16s 3ms/step - loss: 0.9020\n",
            "Epoch 91/100\n",
            "6355/6355 [==============================] - 16s 3ms/step - loss: 0.9020\n",
            "Epoch 92/100\n",
            "6355/6355 [==============================] - 16s 3ms/step - loss: 0.9020\n",
            "Epoch 93/100\n",
            "6355/6355 [==============================] - 16s 3ms/step - loss: 0.9019\n",
            "Epoch 94/100\n",
            "6355/6355 [==============================] - 16s 3ms/step - loss: 0.9018\n",
            "Epoch 95/100\n",
            "6355/6355 [==============================] - 17s 3ms/step - loss: 0.9018\n",
            "Epoch 96/100\n",
            "6355/6355 [==============================] - 16s 3ms/step - loss: 0.9017\n",
            "Epoch 97/100\n",
            "6355/6355 [==============================] - 16s 3ms/step - loss: 0.9017\n",
            "Epoch 98/100\n",
            "6355/6355 [==============================] - 16s 3ms/step - loss: 0.9017\n",
            "Epoch 99/100\n",
            "6355/6355 [==============================] - 16s 3ms/step - loss: 0.9017\n",
            "Epoch 100/100\n",
            "6355/6355 [==============================] - 16s 3ms/step - loss: 0.9016\n"
          ]
        },
        {
          "output_type": "execute_result",
          "data": {
            "text/plain": [
              "<keras.callbacks.History at 0x7f9810027550>"
            ]
          },
          "metadata": {},
          "execution_count": 16
        }
      ]
    },
    {
      "cell_type": "code",
      "source": [
        "test_recon_ae = encoder.predict(X_test)\n",
        "train_recon_ae = encoder.predict(X_train)"
      ],
      "metadata": {
        "colab": {
          "base_uri": "https://localhost:8080/"
        },
        "id": "APGRdvlSHcZr",
        "outputId": "411b37e1-7f84-4fca-a8cb-882ea43f1b4a"
      },
      "id": "APGRdvlSHcZr",
      "execution_count": null,
      "outputs": [
        {
          "output_type": "stream",
          "name": "stdout",
          "text": [
            "5447/5447 [==============================] - 7s 1ms/step\n",
            "12710/12710 [==============================] - 15s 1ms/step\n"
          ]
        }
      ]
    },
    {
      "cell_type": "markdown",
      "id": "56413dc6",
      "metadata": {
        "id": "56413dc6"
      },
      "source": [
        "## Classification\n",
        "\n",
        "You will use a Random Forest classifier with 100 trees for the classification model (using Scikit-learn). Leave all other hyperparameters as their default values. You will train 3 separate random forest classifiers with 1) input data transformed using PCA, 2) input data transformed using autoencoder, 3) no dimensionality reduction (original data attributes)."
      ]
    },
    {
      "cell_type": "code",
      "execution_count": null,
      "id": "f284e774",
      "metadata": {
        "id": "f284e774",
        "colab": {
          "base_uri": "https://localhost:8080/"
        },
        "outputId": "b6a3b84c-4815-44c2-d81f-4bc189901275"
      },
      "outputs": [
        {
          "output_type": "execute_result",
          "data": {
            "text/plain": [
              "RandomForestClassifier(random_state=0)"
            ]
          },
          "metadata": {},
          "execution_count": 18
        }
      ],
      "source": [
        "# YOUR CODE HERE\n",
        "from sklearn.ensemble import RandomForestClassifier\n",
        "clf1 = RandomForestClassifier(random_state=0,n_estimators=100)\n",
        "clf1.fit(X_train_pca,y_train)"
      ]
    },
    {
      "cell_type": "code",
      "source": [
        "from sklearn.ensemble import RandomForestClassifier\n",
        "clf2 = RandomForestClassifier(random_state=0,n_estimators=100)\n",
        "clf2.fit(train_recon_ae,y_train)"
      ],
      "metadata": {
        "colab": {
          "base_uri": "https://localhost:8080/"
        },
        "id": "o6CJN-Kjf7ZY",
        "outputId": "79830934-b58e-470a-d801-eb7ded98052c"
      },
      "id": "o6CJN-Kjf7ZY",
      "execution_count": null,
      "outputs": [
        {
          "output_type": "execute_result",
          "data": {
            "text/plain": [
              "RandomForestClassifier(random_state=0)"
            ]
          },
          "metadata": {},
          "execution_count": 19
        }
      ]
    },
    {
      "cell_type": "code",
      "source": [
        "from sklearn.ensemble import RandomForestClassifier\n",
        "clf3 = RandomForestClassifier(random_state=0,n_estimators=100)\n",
        "clf3.fit(X_train,y_train)"
      ],
      "metadata": {
        "colab": {
          "base_uri": "https://localhost:8080/"
        },
        "id": "dlGVqubSf7bx",
        "outputId": "57f61bbd-07d3-4187-b6ac-8166f98313af"
      },
      "id": "dlGVqubSf7bx",
      "execution_count": null,
      "outputs": [
        {
          "output_type": "execute_result",
          "data": {
            "text/plain": [
              "RandomForestClassifier(random_state=0)"
            ]
          },
          "metadata": {},
          "execution_count": 20
        }
      ]
    },
    {
      "cell_type": "markdown",
      "id": "b5f713eb",
      "metadata": {
        "id": "b5f713eb"
      },
      "source": [
        "## Evaluation\n",
        "\n",
        "Your final model evaluation should be performed on the test set. You will compare the results of the two dimensionality reduction + Random Forest methods (PCA + RF, Autoencoder + RF) as well as a baseline Random Forest classifier that does not use any dimensionality reduction (the original attributes will be the input feature vector). For each of the 3 methods, print the classification report (including class-wise precision, recall, F1 + overall accuracy) and plot the confusion matrix. "
      ]
    },
    {
      "cell_type": "markdown",
      "source": [
        "### PCA + RF Results"
      ],
      "metadata": {
        "id": "23aeX1pXteQt"
      },
      "id": "23aeX1pXteQt"
    },
    {
      "cell_type": "code",
      "source": [
        "labels"
      ],
      "metadata": {
        "colab": {
          "base_uri": "https://localhost:8080/"
        },
        "id": "_D13Im5QusGf",
        "outputId": "5c16772d-7ecc-4c52-9a2b-ad63a1dd30ea"
      },
      "id": "_D13Im5QusGf",
      "execution_count": null,
      "outputs": [
        {
          "output_type": "execute_result",
          "data": {
            "text/plain": [
              "0         5\n",
              "1         5\n",
              "2         2\n",
              "3         2\n",
              "4         5\n",
              "         ..\n",
              "581007    3\n",
              "581008    3\n",
              "581009    3\n",
              "581010    3\n",
              "581011    3\n",
              "Name: Cover_Type, Length: 581012, dtype: int32"
            ]
          },
          "metadata": {},
          "execution_count": 21
        }
      ]
    },
    {
      "cell_type": "code",
      "source": [
        "from sklearn.metrics import classification_report,accuracy_score\n",
        "from sklearn import metrics\n",
        "y_pred1=clf1.predict(X_test_pca)\n",
        "print(classification_report(y_pred1,y_test))"
      ],
      "metadata": {
        "colab": {
          "base_uri": "https://localhost:8080/"
        },
        "id": "yGTzM6i5f7eR",
        "outputId": "6fd40c40-7009-4a42-b11e-94242c3c2685"
      },
      "id": "yGTzM6i5f7eR",
      "execution_count": null,
      "outputs": [
        {
          "output_type": "stream",
          "name": "stdout",
          "text": [
            "              precision    recall  f1-score   support\n",
            "\n",
            "           1       0.72      0.76      0.74     59494\n",
            "           2       0.84      0.77      0.80     92569\n",
            "           3       0.79      0.73      0.76     11510\n",
            "           4       0.54      0.74      0.63       598\n",
            "           5       0.31      0.72      0.43      1232\n",
            "           6       0.50      0.64      0.56      4092\n",
            "           7       0.65      0.83      0.73      4809\n",
            "\n",
            "    accuracy                           0.76    174304\n",
            "   macro avg       0.62      0.74      0.66    174304\n",
            "weighted avg       0.77      0.76      0.77    174304\n",
            "\n"
          ]
        }
      ]
    },
    {
      "cell_type": "code",
      "source": [
        "from sklearn.metrics import ConfusionMatrixDisplay\n",
        "\n",
        "ConfusionMatrixDisplay.from_estimator(\n",
        "    clf1, X_test_pca, y_test, display_labels=labels, xticks_rotation=\"vertical\"\n",
        ")\n",
        "\n",
        "plt.tight_layout()\n",
        "plt.show()"
      ],
      "metadata": {
        "colab": {
          "base_uri": "https://localhost:8080/",
          "height": 297
        },
        "id": "sb37PXkvf7g1",
        "outputId": "6c6768d8-6aea-460d-e79c-61c46126c6c8"
      },
      "id": "sb37PXkvf7g1",
      "execution_count": null,
      "outputs": [
        {
          "output_type": "display_data",
          "data": {
            "text/plain": [
              "<Figure size 432x288 with 2 Axes>"
            ],
            "image/png": "[encoded data removed]"
          },
          "metadata": {
            "needs_background": "light"
          }
        }
      ]
    },
    {
      "cell_type": "markdown",
      "source": [
        "## Autoencoder + RF Results"
      ],
      "metadata": {
        "id": "p5efnlj6tiPh"
      },
      "id": "p5efnlj6tiPh"
    },
    {
      "cell_type": "code",
      "source": [
        "from sklearn.metrics import classification_report\n",
        "y_pred2=clf2.predict(test_recon_ae)\n",
        "print(classification_report(y_pred2,y_test))"
      ],
      "metadata": {
        "colab": {
          "base_uri": "https://localhost:8080/"
        },
        "id": "cOPSiFU9f7jf",
        "outputId": "c01c239b-9233-4240-adba-b2877389bf0c"
      },
      "id": "cOPSiFU9f7jf",
      "execution_count": null,
      "outputs": [
        {
          "output_type": "stream",
          "name": "stdout",
          "text": [
            "              precision    recall  f1-score   support\n",
            "\n",
            "           1       0.77      0.78      0.77     62795\n",
            "           2       0.84      0.80      0.82     88888\n",
            "           3       0.79      0.73      0.76     11443\n",
            "           4       0.44      0.66      0.53       543\n",
            "           5       0.32      0.68      0.43      1349\n",
            "           6       0.47      0.60      0.53      4074\n",
            "           7       0.74      0.87      0.80      5212\n",
            "\n",
            "    accuracy                           0.78    174304\n",
            "   macro avg       0.62      0.73      0.66    174304\n",
            "weighted avg       0.79      0.78      0.79    174304\n",
            "\n"
          ]
        }
      ]
    },
    {
      "cell_type": "code",
      "source": [
        "from sklearn.metrics import ConfusionMatrixDisplay\n",
        "\n",
        "ConfusionMatrixDisplay.from_estimator(\n",
        "    clf2, test_recon_ae, y_test, display_labels=labels, xticks_rotation=\"vertical\"\n",
        ")\n",
        "\n",
        "plt.tight_layout()\n",
        "plt.show()"
      ],
      "metadata": {
        "colab": {
          "base_uri": "https://localhost:8080/",
          "height": 297
        },
        "id": "2SoByNgGhS22",
        "outputId": "8df217db-0fed-48af-d46f-3920b0e383dd"
      },
      "id": "2SoByNgGhS22",
      "execution_count": null,
      "outputs": [
        {
          "output_type": "display_data",
          "data": {
            "text/plain": [
              "<Figure size 432x288 with 2 Axes>"
            ],
            "image/png": "[encoded data removed]"
          },
          "metadata": {
            "needs_background": "light"
          }
        }
      ]
    },
    {
      "cell_type": "markdown",
      "source": [
        "### Baseline RF Results"
      ],
      "metadata": {
        "id": "TvsnUROFtpUR"
      },
      "id": "TvsnUROFtpUR"
    },
    {
      "cell_type": "code",
      "source": [
        "from sklearn.metrics import classification_report\n",
        "y_pred3=clf3.predict(X_test)\n",
        "print(classification_report(y_pred3,y_test))"
      ],
      "metadata": {
        "colab": {
          "base_uri": "https://localhost:8080/"
        },
        "id": "NDXuGf3mhS5a",
        "outputId": "c8d1294c-36e0-4c10-9cb0-5f3f287b156f"
      },
      "id": "NDXuGf3mhS5a",
      "execution_count": null,
      "outputs": [
        {
          "output_type": "stream",
          "name": "stdout",
          "text": [
            "              precision    recall  f1-score   support\n",
            "\n",
            "           1       0.94      0.96      0.95     62136\n",
            "           2       0.97      0.95      0.96     87260\n",
            "           3       0.96      0.94      0.95     10809\n",
            "           4       0.84      0.91      0.87       759\n",
            "           5       0.77      0.94      0.85      2340\n",
            "           6       0.90      0.93      0.91      5041\n",
            "           7       0.95      0.97      0.96      5959\n",
            "\n",
            "    accuracy                           0.95    174304\n",
            "   macro avg       0.90      0.94      0.92    174304\n",
            "weighted avg       0.95      0.95      0.95    174304\n",
            "\n"
          ]
        }
      ]
    },
    {
      "cell_type": "code",
      "source": [
        "from sklearn.metrics import ConfusionMatrixDisplay\n",
        "\n",
        "ConfusionMatrixDisplay.from_estimator(\n",
        "    clf3, X_test, y_test, display_labels=labels, xticks_rotation=\"vertical\"\n",
        ")\n",
        "\n",
        "plt.tight_layout()\n",
        "plt.show()"
      ],
      "metadata": {
        "colab": {
          "base_uri": "https://localhost:8080/",
          "height": 297
        },
        "id": "W1oMuOnhhS77",
        "outputId": "43707ca5-3aca-438b-fdc5-b2741cb30557"
      },
      "id": "W1oMuOnhhS77",
      "execution_count": null,
      "outputs": [
        {
          "output_type": "display_data",
          "data": {
            "text/plain": [
              "<Figure size 432x288 with 2 Axes>"
            ],
            "image/png": "[encoded data removed]"
          },
          "metadata": {
            "needs_background": "light"
          }
        }
      ]
    },
    {
      "cell_type": "markdown",
      "source": [
        "## Discussions"
      ],
      "metadata": {
        "id": "ZspN9Y7otuMd"
      },
      "id": "ZspN9Y7otuMd"
    },
    {
      "cell_type": "markdown",
      "source": [
        "The accuracy of the baseline model when we consider all the features is around 95% while we got an overall accuracy of 76% for PCA model and 78% for the autoencoder model.\n",
        "\n",
        " The F1 score of PCA model and autoencoder was seen to be similar too. While the Baseline model with all the features exceeds the performance by a long range but the tradeoff between no. of attributes and accuracy is very large.\n",
        " \n",
        " We used 4 attributes for an accuracy of 76% (PCA) and 78% (Autoencoders) while we used 54 of them to get an accuracy of 95%.\n",
        "\n",
        "The autoencoders slightly over performed the PCA model, but training a autoencoder model took much more time and computation than the PCA model.\n",
        "\n",
        "We can try and increase the no. of PC to get better and closer acuracies to the baseline model."
      ],
      "metadata": {
        "id": "IZAD9UEAvVTx"
      },
      "id": "IZAD9UEAvVTx"
    }
  ],
  "metadata": {
    "kernelspec": {
      "display_name": "Python 3 (ipykernel)",
      "language": "python",
      "name": "python3"
    },
    "language_info": {
      "codemirror_mode": {
        "name": "ipython",
        "version": 3
      },
      "file_extension": ".py",
      "mimetype": "text/x-python",
      "name": "python",
      "nbconvert_exporter": "python",
      "pygments_lexer": "ipython3",
      "version": "3.9.13"
    },
    "colab": {
      "provenance": [],
      "collapsed_sections": []
    },
    "accelerator": "GPU"
  },
  "nbformat": 4,
  "nbformat_minor": 5
}