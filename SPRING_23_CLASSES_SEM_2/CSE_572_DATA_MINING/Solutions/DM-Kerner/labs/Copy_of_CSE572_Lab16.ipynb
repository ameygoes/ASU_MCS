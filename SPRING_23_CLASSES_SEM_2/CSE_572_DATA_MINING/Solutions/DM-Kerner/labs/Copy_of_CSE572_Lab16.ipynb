{
  "cells": [
    {
      "cell_type": "markdown",
      "metadata": {
        "id": "Y3h06ZQweYXh"
      },
      "source": [
        "# CSE 572: Lab 16\n",
        "\n",
        "In this lab, you will practice measuring cluster validity with unsupervised metrics and applying clustering to a real world problem.\n",
        "\n",
        "To execute and make changes to this notebook, click File > Save a copy to save your own version in your Google Drive or Github. Read the step-by-step instructions below carefully. To execute the code, click on each cell below and press the SHIFT-ENTER keys simultaneously or by clicking the Play button. \n",
        "\n",
        "When you finish executing all code/exercises, save your notebook then download a copy (.ipynb file). Submit the following **three** things:\n",
        "1. a link to your Colab notebook,\n",
        "2. the .ipynb file, and\n",
        "3. a pdf of the executed notebook on Canvas.\n",
        "\n",
        "To generate a pdf of the notebook, click File > Print > Save as PDF."
      ]
    },
    {
      "cell_type": "markdown",
      "metadata": {
        "id": "7yl95FkBeYXm"
      },
      "source": [
        "## Scenario 🎃\n",
        "\n",
        "You have been hired by Costco to design the assorted Halloween candy mix bags that they will sell this Halloween. Since people tend to have different candy preferences (e.g., chocolate-y, fruity, sugar-y, etc.), they want you to create the mixes so there are similar types of candies in each bag and that you maximize the diversity across bags.\n",
        "\n",
        "Luckily, you have access to a [dataset collected by FiveThirtyEight](https://fivethirtyeight.com/videos/the-ultimate-halloween-candy-power-ranking/) that aggregates the feedback from more than 269,000 votes were collected from 8,371 different IP addresses. Data were collected through a survey where participants were shown two fun-sized candies and asked to click on the one they would prefer to receive. The survey results were aggregated into a table with one row per candy type. The attributes for each candy type describe the candy flavor profile (e.g., does it have chocolate? does it have caramel? is it a hard or soft candy?), the sugar percentage, the price percentage, and the win percentage (indicating the percentage of the time that the candy won in the survey matchup). \n",
        "\n",
        "Your goal is to use clustering algorithms to determine how the candies should be grouped into assorted bags (including the number of bags to create). You will create multiple clusterings and use cluster validity measures to evaluate which clustering is best. You will use your final choice of clustering to determine the groups of candy to create for each of the candy mix bags."
      ]
    },
    {
      "cell_type": "markdown",
      "metadata": {
        "id": "SY4knVBzeYXn"
      },
      "source": [
        "### Load the dataset"
      ]
    },
    {
      "cell_type": "code",
      "execution_count": null,
      "metadata": {
        "id": "1I8SYnVaeYXo"
      },
      "outputs": [],
      "source": [
        "import pandas as pd\n",
        "df = pd.read_csv('https://query.data.world/s/r466lc6rgojrhdzdqchnfhxqvifz7m')"
      ]
    },
    {
      "cell_type": "code",
      "execution_count": null,
      "metadata": {
        "id": "2hM4jMQ5eYXq",
        "colab": {
          "base_uri": "https://localhost:8080/",
          "height": 363
        },
        "outputId": "420b0230-c8b9-4971-c77e-5028ac85d0ca"
      },
      "outputs": [
        {
          "output_type": "execute_result",
          "data": {
            "text/plain": [
              "          competitorname  chocolate  fruity  caramel  peanutyalmondy  nougat  \\\n",
              "66       Sour Patch Kids          0       1        0               0       0   \n",
              "50             Red vines          0       1        0               0       0   \n",
              "65      Snickers Crisper          1       0        1               1       0   \n",
              "1           3 Musketeers          1       0        0               0       1   \n",
              "82  WelchÕs Fruit Snacks          0       1        0               0       0   \n",
              "7     Boston Baked Beans          0       0        0               1       0   \n",
              "53        ReeseÕs pieces          1       0        0               1       0   \n",
              "17            Gobstopper          0       1        0               0       0   \n",
              "8             Candy Corn          0       0        0               0       0   \n",
              "61    Skittles wildberry          0       1        0               0       0   \n",
              "\n",
              "    crispedricewafer  hard  bar  pluribus  sugarpercent  pricepercent  \\\n",
              "66                 0     0    0         1         0.069         0.116   \n",
              "50                 0     0    0         1         0.581         0.116   \n",
              "65                 1     0    1         0         0.604         0.651   \n",
              "1                  0     0    1         0         0.604         0.511   \n",
              "82                 0     0    0         1         0.313         0.313   \n",
              "7                  0     0    0         1         0.313         0.511   \n",
              "53                 0     0    0         1         0.406         0.651   \n",
              "17                 0     1    0         1         0.906         0.453   \n",
              "8                  0     0    0         1         0.906         0.325   \n",
              "61                 0     0    0         1         0.941         0.220   \n",
              "\n",
              "    winpercent  \n",
              "66   59.863998  \n",
              "50   37.348522  \n",
              "65   59.529251  \n",
              "1    67.602936  \n",
              "82   44.375519  \n",
              "7    23.417824  \n",
              "53   73.434990  \n",
              "17   46.783348  \n",
              "8    38.010963  \n",
              "61   55.103695  "
            ],
            "text/html": [
              "\n",
              "  <div id=\"df-4374d28d-bfb6-41b0-af6b-f7abef7d3972\">\n",
              "    <div class=\"colab-df-container\">\n",
              "      <div>\n",
              "<style scoped>\n",
              "    .dataframe tbody tr th:only-of-type {\n",
              "        vertical-align: middle;\n",
              "    }\n",
              "\n",
              "    .dataframe tbody tr th {\n",
              "        vertical-align: top;\n",
              "    }\n",
              "\n",
              "    .dataframe thead th {\n",
              "        text-align: right;\n",
              "    }\n",
              "</style>\n",
              "<table border=\"1\" class=\"dataframe\">\n",
              "  <thead>\n",
              "    <tr style=\"text-align: right;\">\n",
              "      <th></th>\n",
              "      <th>competitorname</th>\n",
              "      <th>chocolate</th>\n",
              "      <th>fruity</th>\n",
              "      <th>caramel</th>\n",
              "      <th>peanutyalmondy</th>\n",
              "      <th>nougat</th>\n",
              "      <th>crispedricewafer</th>\n",
              "      <th>hard</th>\n",
              "      <th>bar</th>\n",
              "      <th>pluribus</th>\n",
              "      <th>sugarpercent</th>\n",
              "      <th>pricepercent</th>\n",
              "      <th>winpercent</th>\n",
              "    </tr>\n",
              "  </thead>\n",
              "  <tbody>\n",
              "    <tr>\n",
              "      <th>66</th>\n",
              "      <td>Sour Patch Kids</td>\n",
              "      <td>0</td>\n",
              "      <td>1</td>\n",
              "      <td>0</td>\n",
              "      <td>0</td>\n",
              "      <td>0</td>\n",
              "      <td>0</td>\n",
              "      <td>0</td>\n",
              "      <td>0</td>\n",
              "      <td>1</td>\n",
              "      <td>0.069</td>\n",
              "      <td>0.116</td>\n",
              "      <td>59.863998</td>\n",
              "    </tr>\n",
              "    <tr>\n",
              "      <th>50</th>\n",
              "      <td>Red vines</td>\n",
              "      <td>0</td>\n",
              "      <td>1</td>\n",
              "      <td>0</td>\n",
              "      <td>0</td>\n",
              "      <td>0</td>\n",
              "      <td>0</td>\n",
              "      <td>0</td>\n",
              "      <td>0</td>\n",
              "      <td>1</td>\n",
              "      <td>0.581</td>\n",
              "      <td>0.116</td>\n",
              "      <td>37.348522</td>\n",
              "    </tr>\n",
              "    <tr>\n",
              "      <th>65</th>\n",
              "      <td>Snickers Crisper</td>\n",
              "      <td>1</td>\n",
              "      <td>0</td>\n",
              "      <td>1</td>\n",
              "      <td>1</td>\n",
              "      <td>0</td>\n",
              "      <td>1</td>\n",
              "      <td>0</td>\n",
              "      <td>1</td>\n",
              "      <td>0</td>\n",
              "      <td>0.604</td>\n",
              "      <td>0.651</td>\n",
              "      <td>59.529251</td>\n",
              "    </tr>\n",
              "    <tr>\n",
              "      <th>1</th>\n",
              "      <td>3 Musketeers</td>\n",
              "      <td>1</td>\n",
              "      <td>0</td>\n",
              "      <td>0</td>\n",
              "      <td>0</td>\n",
              "      <td>1</td>\n",
              "      <td>0</td>\n",
              "      <td>0</td>\n",
              "      <td>1</td>\n",
              "      <td>0</td>\n",
              "      <td>0.604</td>\n",
              "      <td>0.511</td>\n",
              "      <td>67.602936</td>\n",
              "    </tr>\n",
              "    <tr>\n",
              "      <th>82</th>\n",
              "      <td>WelchÕs Fruit Snacks</td>\n",
              "      <td>0</td>\n",
              "      <td>1</td>\n",
              "      <td>0</td>\n",
              "      <td>0</td>\n",
              "      <td>0</td>\n",
              "      <td>0</td>\n",
              "      <td>0</td>\n",
              "      <td>0</td>\n",
              "      <td>1</td>\n",
              "      <td>0.313</td>\n",
              "      <td>0.313</td>\n",
              "      <td>44.375519</td>\n",
              "    </tr>\n",
              "    <tr>\n",
              "      <th>7</th>\n",
              "      <td>Boston Baked Beans</td>\n",
              "      <td>0</td>\n",
              "      <td>0</td>\n",
              "      <td>0</td>\n",
              "      <td>1</td>\n",
              "      <td>0</td>\n",
              "      <td>0</td>\n",
              "      <td>0</td>\n",
              "      <td>0</td>\n",
              "      <td>1</td>\n",
              "      <td>0.313</td>\n",
              "      <td>0.511</td>\n",
              "      <td>23.417824</td>\n",
              "    </tr>\n",
              "    <tr>\n",
              "      <th>53</th>\n",
              "      <td>ReeseÕs pieces</td>\n",
              "      <td>1</td>\n",
              "      <td>0</td>\n",
              "      <td>0</td>\n",
              "      <td>1</td>\n",
              "      <td>0</td>\n",
              "      <td>0</td>\n",
              "      <td>0</td>\n",
              "      <td>0</td>\n",
              "      <td>1</td>\n",
              "      <td>0.406</td>\n",
              "      <td>0.651</td>\n",
              "      <td>73.434990</td>\n",
              "    </tr>\n",
              "    <tr>\n",
              "      <th>17</th>\n",
              "      <td>Gobstopper</td>\n",
              "      <td>0</td>\n",
              "      <td>1</td>\n",
              "      <td>0</td>\n",
              "      <td>0</td>\n",
              "      <td>0</td>\n",
              "      <td>0</td>\n",
              "      <td>1</td>\n",
              "      <td>0</td>\n",
              "      <td>1</td>\n",
              "      <td>0.906</td>\n",
              "      <td>0.453</td>\n",
              "      <td>46.783348</td>\n",
              "    </tr>\n",
              "    <tr>\n",
              "      <th>8</th>\n",
              "      <td>Candy Corn</td>\n",
              "      <td>0</td>\n",
              "      <td>0</td>\n",
              "      <td>0</td>\n",
              "      <td>0</td>\n",
              "      <td>0</td>\n",
              "      <td>0</td>\n",
              "      <td>0</td>\n",
              "      <td>0</td>\n",
              "      <td>1</td>\n",
              "      <td>0.906</td>\n",
              "      <td>0.325</td>\n",
              "      <td>38.010963</td>\n",
              "    </tr>\n",
              "    <tr>\n",
              "      <th>61</th>\n",
              "      <td>Skittles wildberry</td>\n",
              "      <td>0</td>\n",
              "      <td>1</td>\n",
              "      <td>0</td>\n",
              "      <td>0</td>\n",
              "      <td>0</td>\n",
              "      <td>0</td>\n",
              "      <td>0</td>\n",
              "      <td>0</td>\n",
              "      <td>1</td>\n",
              "      <td>0.941</td>\n",
              "      <td>0.220</td>\n",
              "      <td>55.103695</td>\n",
              "    </tr>\n",
              "  </tbody>\n",
              "</table>\n",
              "</div>\n",
              "      <button class=\"colab-df-convert\" onclick=\"convertToInteractive('df-4374d28d-bfb6-41b0-af6b-f7abef7d3972')\"\n",
              "              title=\"Convert this dataframe to an interactive table.\"\n",
              "              style=\"display:none;\">\n",
              "        \n",
              "  <svg xmlns=\"http://www.w3.org/2000/svg\" height=\"24px\"viewBox=\"0 0 24 24\"\n",
              "       width=\"24px\">\n",
              "    <path d=\"M0 0h24v24H0V0z\" fill=\"none\"/>\n",
              "    <path d=\"M18.56 5.44l.94 2.06.94-2.06 2.06-.94-2.06-.94-.94-2.06-.94 2.06-2.06.94zm-11 1L8.5 8.5l.94-2.06 2.06-.94-2.06-.94L8.5 2.5l-.94 2.06-2.06.94zm10 10l.94 2.06.94-2.06 2.06-.94-2.06-.94-.94-2.06-.94 2.06-2.06.94z\"/><path d=\"M17.41 7.96l-1.37-1.37c-.4-.4-.92-.59-1.43-.59-.52 0-1.04.2-1.43.59L10.3 9.45l-7.72 7.72c-.78.78-.78 2.05 0 2.83L4 21.41c.39.39.9.59 1.41.59.51 0 1.02-.2 1.41-.59l7.78-7.78 2.81-2.81c.8-.78.8-2.07 0-2.86zM5.41 20L4 18.59l7.72-7.72 1.47 1.35L5.41 20z\"/>\n",
              "  </svg>\n",
              "      </button>\n",
              "      \n",
              "  <style>\n",
              "    .colab-df-container {\n",
              "      display:flex;\n",
              "      flex-wrap:wrap;\n",
              "      gap: 12px;\n",
              "    }\n",
              "\n",
              "    .colab-df-convert {\n",
              "      background-color: #E8F0FE;\n",
              "      border: none;\n",
              "      border-radius: 50%;\n",
              "      cursor: pointer;\n",
              "      display: none;\n",
              "      fill: #1967D2;\n",
              "      height: 32px;\n",
              "      padding: 0 0 0 0;\n",
              "      width: 32px;\n",
              "    }\n",
              "\n",
              "    .colab-df-convert:hover {\n",
              "      background-color: #E2EBFA;\n",
              "      box-shadow: 0px 1px 2px rgba(60, 64, 67, 0.3), 0px 1px 3px 1px rgba(60, 64, 67, 0.15);\n",
              "      fill: #174EA6;\n",
              "    }\n",
              "\n",
              "    [theme=dark] .colab-df-convert {\n",
              "      background-color: #3B4455;\n",
              "      fill: #D2E3FC;\n",
              "    }\n",
              "\n",
              "    [theme=dark] .colab-df-convert:hover {\n",
              "      background-color: #434B5C;\n",
              "      box-shadow: 0px 1px 3px 1px rgba(0, 0, 0, 0.15);\n",
              "      filter: drop-shadow(0px 1px 2px rgba(0, 0, 0, 0.3));\n",
              "      fill: #FFFFFF;\n",
              "    }\n",
              "  </style>\n",
              "\n",
              "      <script>\n",
              "        const buttonEl =\n",
              "          document.querySelector('#df-4374d28d-bfb6-41b0-af6b-f7abef7d3972 button.colab-df-convert');\n",
              "        buttonEl.style.display =\n",
              "          google.colab.kernel.accessAllowed ? 'block' : 'none';\n",
              "\n",
              "        async function convertToInteractive(key) {\n",
              "          const element = document.querySelector('#df-4374d28d-bfb6-41b0-af6b-f7abef7d3972');\n",
              "          const dataTable =\n",
              "            await google.colab.kernel.invokeFunction('convertToInteractive',\n",
              "                                                     [key], {});\n",
              "          if (!dataTable) return;\n",
              "\n",
              "          const docLinkHtml = 'Like what you see? Visit the ' +\n",
              "            '<a target=\"_blank\" href=https://colab.research.google.com/notebooks/data_table.ipynb>data table notebook</a>'\n",
              "            + ' to learn more about interactive tables.';\n",
              "          element.innerHTML = '';\n",
              "          dataTable['output_type'] = 'display_data';\n",
              "          await google.colab.output.renderOutput(dataTable, element);\n",
              "          const docLink = document.createElement('div');\n",
              "          docLink.innerHTML = docLinkHtml;\n",
              "          element.appendChild(docLink);\n",
              "        }\n",
              "      </script>\n",
              "    </div>\n",
              "  </div>\n",
              "  "
            ]
          },
          "metadata": {},
          "execution_count": 10
        }
      ],
      "source": [
        "df.sample(10)"
      ]
    },
    {
      "cell_type": "markdown",
      "metadata": {
        "id": "BIcfWb-PeYXq"
      },
      "source": [
        "We will create a separate numpy array that contains only the columns that we want to use for clustering (i.e., excludes the `competitorname` and `winpercent` columns)."
      ]
    },
    {
      "cell_type": "code",
      "execution_count": null,
      "metadata": {
        "id": "WdMe-5tOeYXr"
      },
      "outputs": [],
      "source": [
        "data = df.to_numpy()[:,1:-1]"
      ]
    },
    {
      "cell_type": "markdown",
      "metadata": {
        "id": "BHPTgTlKeYXs"
      },
      "source": [
        "Before we start applying and evaluating our clustering algorithms, we might first want to try to visualize the data to see what sort of structure exists. One way to visualize our data is using a scatter plot of a pair of features, e.g., sugarpercent and pricepercent."
      ]
    },
    {
      "cell_type": "code",
      "execution_count": null,
      "metadata": {
        "id": "2D9SYTFyeYXt",
        "colab": {
          "base_uri": "https://localhost:8080/",
          "height": 296
        },
        "outputId": "7348e4ec-9198-4515-efde-bc2f6fbef97c"
      },
      "outputs": [
        {
          "output_type": "execute_result",
          "data": {
            "text/plain": [
              "<matplotlib.axes._subplots.AxesSubplot at 0x7fdaf1732950>"
            ]
          },
          "metadata": {},
          "execution_count": 12
        },
        {
          "output_type": "display_data",
          "data": {
            "text/plain": [
              "<Figure size 432x288 with 1 Axes>"
            ],
            "image/png": "[encoded data removed]"
          },
          "metadata": {
            "needs_background": "light"
          }
        }
      ],
      "source": [
        "df.plot.scatter('sugarpercent', 'pricepercent')"
      ]
    },
    {
      "cell_type": "markdown",
      "metadata": {
        "id": "LPLVuTNYeYXt"
      },
      "source": [
        "Another way to visualize our 11-dimensional dataset is by reducing the dimensionality to 2 using PCA, then plotting the scatter plot of the first two PCs. \n",
        "\n",
        "Do this in the cell below."
      ]
    },
    {
      "cell_type": "code",
      "execution_count": null,
      "metadata": {
        "id": "2ekIgagOeYXu",
        "colab": {
          "base_uri": "https://localhost:8080/",
          "height": 282
        },
        "outputId": "95e99f0d-025d-42fe-ff26-9ad9a223aa95"
      },
      "outputs": [
        {
          "output_type": "execute_result",
          "data": {
            "text/plain": [
              "<matplotlib.collections.PathCollection at 0x7fdaf16fac10>"
            ]
          },
          "metadata": {},
          "execution_count": 13
        },
        {
          "output_type": "display_data",
          "data": {
            "text/plain": [
              "<Figure size 432x288 with 1 Axes>"
            ],
            "image/png": "[encoded data removed]"
          },
          "metadata": {
            "needs_background": "light"
          }
        }
      ],
      "source": [
        "# YOUR CODE HERE\n",
        "from sklearn.preprocessing import StandardScaler\n",
        "from sklearn.decomposition import PCA\n",
        "import matplotlib.pyplot as plt\n",
        "n_components = 2\n",
        "scaler = StandardScaler()\n",
        "pca = PCA(n_components=n_components).fit(data)\n",
        "df_pca=pca.transform(data)\n",
        "df_pca=pd.DataFrame(df_pca)\n",
        "plt.scatter(df_pca.iloc[:,0],df_pca.iloc[:,1])"
      ]
    },
    {
      "cell_type": "markdown",
      "metadata": {
        "id": "0Wkscoe8eYXv"
      },
      "source": [
        "## Cluster the data\n",
        "\n",
        "We will evaluate agglomerative clustering and K-means clustering for our dataset. First, we'll use the scipy library used in Lab 15 to cluster the data using the complete link (MAX) agglomerative clustering algorithm and visualize the resulting dendrogram. This dendrogram may also be useful to visualize the dataset if the clusters respond to meaningful taxonomies."
      ]
    },
    {
      "cell_type": "code",
      "execution_count": null,
      "metadata": {
        "id": "BCS1duTUeYXv",
        "colab": {
          "base_uri": "https://localhost:8080/",
          "height": 592
        },
        "outputId": "cb300eab-ba43-4ef7-d84d-b67fadba9635"
      },
      "outputs": [
        {
          "output_type": "display_data",
          "data": {
            "text/plain": [
              "<Figure size 720x720 with 1 Axes>"
            ],
            "image/png": "[encoded data removed]"
          },
          "metadata": {
            "needs_background": "light"
          }
        }
      ],
      "source": [
        "from scipy.cluster import hierarchy\n",
        "\n",
        "fig, ax = plt.subplots(ncols=1, figsize=(10,10))\n",
        "Z = hierarchy.linkage(data, 'complete')\n",
        "dn = hierarchy.dendrogram(Z, labels=df['competitorname'].tolist(), orientation='left', ax=ax)"
      ]
    },
    {
      "cell_type": "markdown",
      "metadata": {
        "id": "ZIQEaBzKeYXv"
      },
      "source": [
        "Since we will use Scikit-learn for K-means clustering, we'll recreate the agglomerative clustering using Scikit-learn too below. Recall that we can create a partitional clustering from a hierarchical clustering by cutting the dendrogram at a particular level. If we cut the dendrogram at about 2.0, our clustering would have 6 clusters. We will use this number of clusters for our Scikit-learn implementation below."
      ]
    },
    {
      "cell_type": "code",
      "execution_count": null,
      "metadata": {
        "id": "CGdnK_TfeYXw"
      },
      "outputs": [],
      "source": [
        "from sklearn.cluster import AgglomerativeClustering\n",
        "\n",
        "agglom = AgglomerativeClustering(n_clusters=6, linkage='complete').fit(data)\n",
        "\n",
        "# Add resulting cluster labels to dataframe\n",
        "df['Agglom clusters'] = agglom.labels_"
      ]
    },
    {
      "cell_type": "markdown",
      "metadata": {
        "id": "7BuqKpXgeYXw"
      },
      "source": [
        "We will also evaluate clusterings produced by K-means. First, we need to decide how many clusters to use. In the cell below, plot the SSE as a function of number of clusters for up to 15 clusters. Set the random seed to 0 for K-means."
      ]
    },
    {
      "cell_type": "code",
      "execution_count": null,
      "metadata": {
        "id": "3yWIMkZbeYXx",
        "colab": {
          "base_uri": "https://localhost:8080/",
          "height": 282
        },
        "outputId": "a289bd6a-a9ef-4c47-bd76-ad919a2dee2e"
      },
      "outputs": [
        {
          "output_type": "execute_result",
          "data": {
            "text/plain": [
              "[<matplotlib.lines.Line2D at 0x7fdaf0030210>]"
            ]
          },
          "metadata": {},
          "execution_count": 16
        },
        {
          "output_type": "display_data",
          "data": {
            "text/plain": [
              "<Figure size 432x288 with 1 Axes>"
            ],
            "image/png": "[encoded data removed]"
          },
          "metadata": {
            "needs_background": "light"
          }
        }
      ],
      "source": [
        "# YOUR CODE HERE\n",
        "from sklearn.cluster import KMeans\n",
        "sse=[]\n",
        "x=[]\n",
        "for i in range(1,15):\n",
        "  x.append(i)\n",
        "  n_clusters = i\n",
        "  k_means = KMeans(n_clusters=n_clusters, init='k-means++',   random_state=0)\n",
        "  k_means.fit(data)\n",
        "  sse.append(k_means.inertia_)\n",
        "plt.plot(x,sse)\n"
      ]
    },
    {
      "cell_type": "markdown",
      "metadata": {
        "id": "s0iW4oCueYXx"
      },
      "source": [
        "Looking at the plot above, it looks like there is a bend in the curve around 4 clusters. However, we might also think that 6 clusters might be a good choice because this is what we found using agglomerative clustering. So let's try both!\n",
        "\n",
        "In the cell below, cluster the data using K-means with 4 clusters and 6 clusters. Then add the resulting cluster labels as new columns in our dataframe `df` called `KM4 clusters` and `KM6 clusters`.  Set the random state to 0 for both models."
      ]
    },
    {
      "cell_type": "code",
      "execution_count": null,
      "metadata": {
        "id": "Il7jxJM4eYXx"
      },
      "outputs": [],
      "source": [
        "# YOUR CODE HERE\n",
        "\n",
        "k_means_4 = KMeans(n_clusters=4, init='k-means++',   random_state=0)\n",
        "k_means_4.fit(data)\n",
        "df[\"KM4 clusters\"]=k_means_4.labels_\n",
        "k_means_6 = KMeans(n_clusters=6, init='k-means++',   random_state=0)\n",
        "k_means_6.fit(data)\n",
        "df[\"KM6 clusters\"]=k_means_6.labels_"
      ]
    },
    {
      "cell_type": "markdown",
      "metadata": {
        "id": "I3rPaAxeeYXy"
      },
      "source": [
        "### Cluster validity\n",
        "\n",
        "Now we have 3 different clusterings that we need to evaluate to determine which gives the best candy groupings to recommend for Costco to create their bags. First, let's visualize the three different clusterings in our PCA visualization of the data."
      ]
    },
    {
      "cell_type": "code",
      "execution_count": null,
      "metadata": {
        "id": "Lq4bFPCPeYXy",
        "colab": {
          "base_uri": "https://localhost:8080/",
          "height": 254
        },
        "outputId": "5bec3844-51cf-48f6-a76f-0195953f32d8"
      },
      "outputs": [
        {
          "output_type": "execute_result",
          "data": {
            "text/plain": [
              "Text(0.5, 1.0, 'Agglomerative (k=6)')"
            ]
          },
          "metadata": {},
          "execution_count": 18
        },
        {
          "output_type": "display_data",
          "data": {
            "text/plain": [
              "<Figure size 720x216 with 3 Axes>"
            ],
            "image/png": "[encoded data removed]"
          },
          "metadata": {
            "needs_background": "light"
          }
        }
      ],
      "source": [
        "fig, ax = plt.subplots(ncols=3, figsize=(10, 3))\n",
        "fig.tight_layout()\n",
        "\n",
        "ax[0].scatter(df_pca.iloc[:,0], df_pca.iloc[:,1], alpha=0.8, c=df['KM4 clusters'], cmap='jet')\n",
        "ax[0].set_title('K means (k=4)')\n",
        "\n",
        "ax[1].scatter(df_pca.iloc[:,0], df_pca.iloc[:,1], alpha=0.8, c=df['KM6 clusters'], cmap='jet')\n",
        "ax[1].set_title('K means (k=6)')\n",
        "\n",
        "ax[2].scatter(df_pca.iloc[:,0], df_pca.iloc[:,1], alpha=0.8, c=df['Agglom clusters'], cmap='jet')\n",
        "ax[2].set_title('Agglomerative (k=6)')"
      ]
    },
    {
      "cell_type": "markdown",
      "metadata": {
        "id": "69M-3gcHeYXy"
      },
      "source": [
        "Visually, we might think 4 clusters looks pretty nice, but we remember that we aren't seeing the original data that was clustered here---this is the data in PCA space, so it may not tell us the full story.  \n",
        "\n",
        "To quantify the goodness of each clustering, we will use cluster validity metrics. We don't have ground truth classes (or classification labels), so we need to use unsupervised metrics such as Silhouette score and sum of squared errors (SSE or inertia).\n",
        "\n",
        "In the cell below, compute the silhouette score of each of the 3 clusterings. "
      ]
    },
    {
      "cell_type": "code",
      "execution_count": null,
      "metadata": {
        "id": "VOLnZXPTeYXz",
        "colab": {
          "base_uri": "https://localhost:8080/"
        },
        "outputId": "8b108dcb-9ea6-4e06-cc93-7fbbb96306e8"
      },
      "outputs": [
        {
          "output_type": "stream",
          "name": "stdout",
          "text": [
            "0.2868072331169027 0.3060602336736381 0.26624775382354204\n"
          ]
        }
      ],
      "source": [
        "from sklearn.metrics import silhouette_score\n",
        "s1=silhouette_score(data,df['KM4 clusters'])\n",
        "s2=silhouette_score(data,df['KM6 clusters'])\n",
        "s3=silhouette_score(data,df['Agglom clusters'])\n",
        "# YOUR CODE HERE\n",
        "print(s1,s2,s3)"
      ]
    },
    {
      "cell_type": "markdown",
      "metadata": {
        "id": "shepKnAzeYXz"
      },
      "source": [
        "**Question 1: Which clustering has the best Silhouette score?**\n",
        "\n",
        "**Answer:**\n",
        "\n",
        "6 cluster has the best Silhouette score\n"
      ]
    },
    {
      "cell_type": "markdown",
      "metadata": {
        "id": "WaOe0-41eYXz"
      },
      "source": [
        "In the cell below, print the sum of squared errors (SSE) for the K-means clusterings."
      ]
    },
    {
      "cell_type": "code",
      "execution_count": null,
      "metadata": {
        "id": "7VLJgoCieYX0",
        "colab": {
          "base_uri": "https://localhost:8080/"
        },
        "outputId": "a2ef041d-f296-448d-d68e-a568d63212c3"
      },
      "outputs": [
        {
          "output_type": "stream",
          "name": "stdout",
          "text": [
            "63.35838843031403 50.70594444836088\n"
          ]
        }
      ],
      "source": [
        "# YOUR CODE HERE\n",
        "s1=k_means_4.inertia_\n",
        "s2=k_means_6.inertia_\n",
        "print(s1,s2)"
      ]
    },
    {
      "cell_type": "markdown",
      "metadata": {
        "id": "Bke6KDW9eYX0"
      },
      "source": [
        "**Question 2: Which clustering has the best SSE?**\n",
        "\n",
        "**Answer:**\n",
        "6 clusters has a better SSE\n"
      ]
    },
    {
      "cell_type": "markdown",
      "metadata": {
        "id": "RTCUBfD4eYX0"
      },
      "source": [
        "**Question 3: Which clustering will you choose to make your candy bag mix recommendations to Costco? Why?**\n",
        "\n",
        "**Answer:**\n",
        "6 clusters would be chosen as it  has the better SSE and Silhouette score when compared to others.  Silhouette score considers  cohesion and separation, also it is maximum for 6 clusters and SSE is also minimum."
      ]
    },
    {
      "cell_type": "markdown",
      "metadata": {
        "id": "dUPfOnC2eYX0"
      },
      "source": [
        "In the cell below, print the groupings of candy names in each of the candy bags (clusters) you have chosen to recommend."
      ]
    },
    {
      "cell_type": "code",
      "execution_count": null,
      "metadata": {
        "id": "jtg5zTC2eYX1",
        "colab": {
          "base_uri": "https://localhost:8080/"
        },
        "outputId": "bb86c54e-f824-4181-d612-0c0a3102cee6"
      },
      "outputs": [
        {
          "output_type": "execute_result",
          "data": {
            "text/plain": [
              "[['Boston Baked Beans',\n",
              "  'Candy Corn',\n",
              "  'Haribo Happy Cola',\n",
              "  'HersheyÕs Kisses',\n",
              "  'Junior Mints',\n",
              "  'M&MÕs',\n",
              "  'Milk Duds',\n",
              "  'Pixie Sticks',\n",
              "  'Rolo',\n",
              "  'Root Beer Barrels',\n",
              "  'Sixlets',\n",
              "  'Nestle Smarties',\n",
              "  'Sugar Babies',\n",
              "  'Tootsie Roll Midgies',\n",
              "  'Whoppers'],\n",
              " ['3 Musketeers',\n",
              "  'Baby Ruth',\n",
              "  'Charleston Chew',\n",
              "  'Milky Way',\n",
              "  'Milky Way Midnight',\n",
              "  'Payday',\n",
              "  'Snickers'],\n",
              " ['One dime',\n",
              "  'One quarter',\n",
              "  'Air Heads',\n",
              "  'Caramel Apple Pops',\n",
              "  'Dum Dums',\n",
              "  'Fun Dip',\n",
              "  'Laffy Taffy',\n",
              "  'Lemonhead',\n",
              "  'Lifesavers big ring gummies',\n",
              "  'Ring pop',\n",
              "  'Sugar Daddy',\n",
              "  'Super Bubble',\n",
              "  'Tootsie Pop',\n",
              "  'Twizzlers',\n",
              "  'Warheads',\n",
              "  'WertherÕs Original Caramel'],\n",
              " ['Chewey Lemonhead Fruit Mix',\n",
              "  'Chiclets',\n",
              "  'Dots',\n",
              "  'Fruit Chews',\n",
              "  'Gobstopper',\n",
              "  'Haribo Gold Bears',\n",
              "  'Haribo Sour Bears',\n",
              "  'Haribo Twin Snakes',\n",
              "  'Jawbusters',\n",
              "  'Mike & Ike',\n",
              "  'Nerds',\n",
              "  'Nik L Nip',\n",
              "  'Now & Later',\n",
              "  'Pop Rocks',\n",
              "  'Red vines',\n",
              "  'Runts',\n",
              "  'Skittles original',\n",
              "  'Skittles wildberry',\n",
              "  'Smarties candy',\n",
              "  'Sour Patch Kids',\n",
              "  'Sour Patch Tricksters',\n",
              "  'Starburst',\n",
              "  'Strawberry bon bons',\n",
              "  'Swedish Fish',\n",
              "  'Trolli Sour Bites',\n",
              "  'WelchÕs Fruit Snacks'],\n",
              " ['Almond Joy',\n",
              "  'Peanut butter M&MÕs',\n",
              "  'Mr Good Bar',\n",
              "  'Nestle Butterfinger',\n",
              "  'Peanut M&Ms',\n",
              "  'ReeseÕs Miniatures',\n",
              "  'ReeseÕs Peanut Butter cup',\n",
              "  'ReeseÕs pieces',\n",
              "  'ReeseÕs stuffed with pieces',\n",
              "  'Tootsie Roll Juniors'],\n",
              " ['100 Grand',\n",
              "  'HersheyÕs Krackel',\n",
              "  'HersheyÕs Milk Chocolate',\n",
              "  'HersheyÕs Special Dark',\n",
              "  'Kit Kat',\n",
              "  'Milky Way Simply Caramel',\n",
              "  'Mounds',\n",
              "  'Nestle Crunch',\n",
              "  'Snickers Crisper',\n",
              "  'Tootsie Roll Snack Bars',\n",
              "  'Twix']]"
            ]
          },
          "metadata": {},
          "execution_count": 24
        }
      ],
      "source": [
        "# YOUR CODE HERE\n",
        "df1=df.groupby(\"KM6 clusters\")\n",
        "groups=[]\n",
        "for i in range(0,6):\n",
        "  groups.append(list(df1.get_group(i).competitorname))\n",
        "groups"
      ]
    },
    {
      "cell_type": "markdown",
      "metadata": {
        "id": "qu_D2dA4eYX1"
      },
      "source": [
        "### Additional insights\n",
        "\n",
        "Because you're an overachiever, you want to also recommend to Costco which bag mix(es) you think will be the best sellers to help them decide how many of each bag to stock. In the cell below, use the `winpercentage` attribute to compute the average win percentage for each of your bags."
      ]
    },
    {
      "cell_type": "code",
      "execution_count": null,
      "metadata": {
        "id": "d1FBt_kQeYX1"
      },
      "outputs": [],
      "source": [
        "# YOUR CODE HERE\n",
        "df1=df.groupby(\"competitorname\")\n",
        "win=[]\n",
        "for i in range(len(groups)):\n",
        "  w=0\n",
        "  s=0\n",
        "  for j in range(len(groups[i])):\n",
        "    s+=int(df1.get_group(groups[i][j]).winpercent)\n",
        "  w=s/float(len(groups[i]))\n",
        "  win.append(w)"
      ]
    },
    {
      "cell_type": "code",
      "source": [
        "win"
      ],
      "metadata": {
        "colab": {
          "base_uri": "https://localhost:8080/"
        },
        "id": "22bWbW5os6sh",
        "outputId": "bd85dfa8-950c-47ae-ede6-f7a4189d899b"
      },
      "execution_count": null,
      "outputs": [
        {
          "output_type": "execute_result",
          "data": {
            "text/plain": [
              "[43.8, 59.42857142857143, 40.0625, 45.03846153846154, 66.7, 62.27272727272727]"
            ]
          },
          "metadata": {},
          "execution_count": 26
        }
      ]
    },
    {
      "cell_type": "markdown",
      "metadata": {
        "id": "2UGCbGBdeYX1"
      },
      "source": [
        "**Question 4: Based on your analysis, which bag do you think will be the best selling?** \n",
        "\n",
        "**Answer:**\n",
        "5 th group will have  the highest sales or 4th group ( 0 index)\n"
      ]
    },
    {
      "cell_type": "code",
      "source": [
        "groups[4]"
      ],
      "metadata": {
        "colab": {
          "base_uri": "https://localhost:8080/"
        },
        "id": "eAyFvTSOtOJT",
        "outputId": "d6ee6bf3-9c63-47b6-c227-16db33edffbd"
      },
      "execution_count": null,
      "outputs": [
        {
          "output_type": "execute_result",
          "data": {
            "text/plain": [
              "['ReeseÕs Miniatures',\n",
              " 'ReeseÕs Peanut Butter cup',\n",
              " 'ReeseÕs stuffed with pieces',\n",
              " 'Tootsie Roll Juniors']"
            ]
          },
          "metadata": {},
          "execution_count": 17
        }
      ]
    },
    {
      "cell_type": "code",
      "source": [
        "df1.get_group(\"ReeseÕs Miniatures\").winpercent"
      ],
      "metadata": {
        "colab": {
          "base_uri": "https://localhost:8080/"
        },
        "id": "TFIulPagtfYL",
        "outputId": "7d58a2e3-b4b6-42f6-f4c1-9558303b4596"
      },
      "execution_count": null,
      "outputs": [
        {
          "output_type": "execute_result",
          "data": {
            "text/plain": [
              "51    81.866257\n",
              "Name: winpercent, dtype: float64"
            ]
          },
          "metadata": {},
          "execution_count": 25
        }
      ]
    },
    {
      "cell_type": "code",
      "source": [
        "df1.get_group(\"ReeseÕs Peanut Butter cup\").winpercent"
      ],
      "metadata": {
        "colab": {
          "base_uri": "https://localhost:8080/"
        },
        "id": "K_J_IpoMtxii",
        "outputId": "9233c68d-d133-4b76-db67-70a277f203a0"
      },
      "execution_count": null,
      "outputs": [
        {
          "output_type": "execute_result",
          "data": {
            "text/plain": [
              "52    84.18029\n",
              "Name: winpercent, dtype: float64"
            ]
          },
          "metadata": {},
          "execution_count": 26
        }
      ]
    },
    {
      "cell_type": "code",
      "source": [
        "df1.get_group(\"ReeseÕs stuffed with pieces\").winpercent"
      ],
      "metadata": {
        "colab": {
          "base_uri": "https://localhost:8080/"
        },
        "id": "XArW-fixt13z",
        "outputId": "2f00778f-1aa5-4deb-f5fd-e703ca210151"
      },
      "execution_count": null,
      "outputs": [
        {
          "output_type": "execute_result",
          "data": {
            "text/plain": [
              "54    72.887901\n",
              "Name: winpercent, dtype: float64"
            ]
          },
          "metadata": {},
          "execution_count": 27
        }
      ]
    },
    {
      "cell_type": "code",
      "source": [
        "df1.get_group(\"Tootsie Roll Juniors\").winpercent"
      ],
      "metadata": {
        "colab": {
          "base_uri": "https://localhost:8080/"
        },
        "id": "XsZEvFGZt59o",
        "outputId": "1ab5f742-aeb6-44aa-c9b4-5c8b7171ce2b"
      },
      "execution_count": null,
      "outputs": [
        {
          "output_type": "execute_result",
          "data": {
            "text/plain": [
              "75    43.068897\n",
              "Name: winpercent, dtype: float64"
            ]
          },
          "metadata": {},
          "execution_count": 28
        }
      ]
    },
    {
      "cell_type": "code",
      "source": [],
      "metadata": {
        "id": "_z1Lrzu5t8iT"
      },
      "execution_count": null,
      "outputs": []
    }
  ],
  "metadata": {
    "kernelspec": {
      "display_name": "Python 3 (ipykernel)",
      "language": "python",
      "name": "python3"
    },
    "language_info": {
      "codemirror_mode": {
        "name": "ipython",
        "version": 3
      },
      "file_extension": ".py",
      "mimetype": "text/x-python",
      "name": "python",
      "nbconvert_exporter": "python",
      "pygments_lexer": "ipython3",
      "version": "3.9.13"
    },
    "colab": {
      "provenance": []
    },
    "accelerator": "GPU",
    "gpuClass": "standard"
  },
  "nbformat": 4,
  "nbformat_minor": 0
}