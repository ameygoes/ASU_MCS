{
 "cells": [
  {
   "cell_type": "code",
   "execution_count": null,
   "id": "f763e03b",
   "metadata": {},
   "outputs": [],
   "source": [
    "import psycopg2\n",
    "import sys\n",
    "from sqlalchemy import create_engine\n",
    "import geopandas as gpd"
   ]
  },
  {
   "cell_type": "code",
   "execution_count": null,
   "id": "37f6c5f7",
   "metadata": {},
   "outputs": [],
   "source": [
    "DATABASE_NAME = \"lab_postgis\""
   ]
  },
  {
   "cell_type": "code",
   "execution_count": null,
   "id": "47c7989c",
   "metadata": {},
   "outputs": [],
   "source": [
    "def getEngineConnectionString(user='postgres', password='postgre987', dbname='postgres'):\n",
    "    return \"postgresql://\" + user + \":\" + password + \"@localhost/\" + dbname"
   ]
  },
  {
   "cell_type": "code",
   "execution_count": null,
   "id": "a2597edb",
   "metadata": {},
   "outputs": [],
   "source": [
    "def getOpenConnection(user='postgres', password='postgre987', dbname='postgres'):\n",
    "    return psycopg2.connect(database = dbname, user = user, host='localhost', password= password)"
   ]
  },
  {
   "cell_type": "code",
   "execution_count": null,
   "id": "97c499d6",
   "metadata": {},
   "outputs": [],
   "source": [
    "def createDB(dbname='postgres'):\n",
    "    \"\"\"\n",
    "    We create a DB by connecting to the default user and database of Postgres\n",
    "    The function first checks if an existing database exists for a given name, else creates it.\n",
    "    :return:None\n",
    "    \"\"\"\n",
    "    # Connect to the default database\n",
    "    con = getOpenConnection(dbname='postgres')\n",
    "    con.set_isolation_level(psycopg2.extensions.ISOLATION_LEVEL_AUTOCOMMIT)\n",
    "    cur = con.cursor()\n",
    "\n",
    "    # Check if an existing database with the same name exists\n",
    "    cur.execute('SELECT COUNT(*) FROM pg_catalog.pg_database WHERE datname=\\'%s\\'' % (dbname,))\n",
    "    count = cur.fetchone()[0]\n",
    "    if count == 0:\n",
    "        cur.execute('CREATE DATABASE %s' % (dbname,))  # Create the database\n",
    "        print(\"DATABASE \" + dbname + \" created\")\n",
    "    else:\n",
    "        print(\"Database with the given name already exists\")\n",
    "\n",
    "    # Clean up\n",
    "    cur.close()\n",
    "    con.commit()\n",
    "    con.close()"
   ]
  },
  {
   "cell_type": "code",
   "execution_count": null,
   "id": "4fcc814c",
   "metadata": {},
   "outputs": [],
   "source": [
    "createDB(DATABASE_NAME)"
   ]
  },
  {
   "cell_type": "code",
   "execution_count": null,
   "id": "cdc05841",
   "metadata": {},
   "outputs": [],
   "source": [
    "engine = create_engine(getEngineConnectionString(dbname = DATABASE_NAME))\n",
    "con = engine.connect()\n",
    "print(\"sqlalchemy engine created\")"
   ]
  },
  {
   "cell_type": "code",
   "execution_count": null,
   "id": "05673a87",
   "metadata": {},
   "outputs": [],
   "source": [
    "try:\n",
    "    con.execute(\"CREATE EXTENSION postgis;\") # Add PostGIS extension\n",
    "    print(\"postgis extension created\")\n",
    "except:\n",
    "    print(\"Unable to create postgis extension\")"
   ]
  },
  {
   "cell_type": "code",
   "execution_count": null,
   "id": "9e893669",
   "metadata": {},
   "outputs": [],
   "source": [
    "dfAirbnb = gpd.read_file(\"inputs/airbnb\")"
   ]
  },
  {
   "cell_type": "code",
   "execution_count": null,
   "id": "1478f350",
   "metadata": {},
   "outputs": [],
   "source": [
    "dfAirbnb.head()"
   ]
  },
  {
   "cell_type": "code",
   "execution_count": null,
   "id": "6f5378f3",
   "metadata": {},
   "outputs": [],
   "source": [
    "dfAirbnb.to_postgis(\"airbnb\", engine)#(tablename, connection_object)"
   ]
  },
  {
   "cell_type": "code",
   "execution_count": null,
   "id": "ce5a103e",
   "metadata": {},
   "outputs": [],
   "source": [
    "#-------------------------------------------------------------------------------------------------------------------------#"
   ]
  },
  {
   "cell_type": "code",
   "execution_count": null,
   "id": "889f2b9d",
   "metadata": {},
   "outputs": [],
   "source": [
    "dfGrocery = gpd.read_file(\"inputs/grocery/Chicago_sup.shp\")"
   ]
  },
  {
   "cell_type": "code",
   "execution_count": null,
   "id": "1d746649",
   "metadata": {},
   "outputs": [],
   "source": [
    "dfGrocery.head()"
   ]
  },
  {
   "cell_type": "code",
   "execution_count": null,
   "id": "1583a45d",
   "metadata": {},
   "outputs": [],
   "source": [
    "dfGrocery.to_postgis(\"grocery\", engine)"
   ]
  },
  {
   "cell_type": "code",
   "execution_count": null,
   "id": "774ce9de",
   "metadata": {},
   "outputs": [],
   "source": [
    "#close the previous connection and open a new connection where we specify the name of our database\n",
    "#so this database will be used for further execution\n",
    "if con:\n",
    "    con.close()\n",
    "\n",
    "con = getOpenConnection(dbname = DATABASE_NAME)\n",
    "cur = con.cursor()"
   ]
  },
  {
   "cell_type": "code",
   "execution_count": null,
   "id": "15418568",
   "metadata": {},
   "outputs": [],
   "source": [
    "#We need to check if SRIDs of geometry column of both tables are same\n",
    "#get the SRID for Airbnb table\n",
    "cur.execute(\"Select ST_SRID(geometry) from airbnb limit 1\")\n",
    "results = cur.fetchall()\n",
    "print(results)"
   ]
  },
  {
   "cell_type": "code",
   "execution_count": null,
   "id": "9bd89457",
   "metadata": {},
   "outputs": [],
   "source": [
    "#get the SRID of grocery table\n",
    "cur.execute(\"Select ST_SRID(geometry) from grocery limit 1\")\n",
    "results = cur.fetchall()\n",
    "print(results)"
   ]
  },
  {
   "cell_type": "code",
   "execution_count": null,
   "id": "587cce68",
   "metadata": {},
   "outputs": [],
   "source": [
    "#change SRID for grocery so that both are compatible for further operations\n",
    "cur.execute(\"create table grocery3 as select ST_Transform(geometry, 4326) as geometry from grocery\")"
   ]
  },
  {
   "cell_type": "code",
   "execution_count": null,
   "id": "a102ab77",
   "metadata": {},
   "outputs": [],
   "source": [
    "cur.execute(\"select ST_AsText(geometry) from grocery3 limit1\")\n",
    "results = cur.fetchall()\n",
    "print(results)"
   ]
  },
  {
   "cell_type": "code",
   "execution_count": null,
   "id": "c1fde77f",
   "metadata": {},
   "outputs": [],
   "source": [
    "cur.execute(\"Select ST_SRID(geometry) from grocery3 limit 1\")\n",
    "results = cur.fetchall()\n",
    "print(results)"
   ]
  },
  {
   "cell_type": "code",
   "execution_count": null,
   "id": "ec606b8b",
   "metadata": {},
   "outputs": [],
   "source": [
    "#actual problem with solution\n",
    "#count how many grocery shops are there in the neighbourhood of an airbnb\n",
    "cur.execute(\"CREATE TABLE airbnb_grocery3 AS SELECT airbnb.geometry AS geom1, COUNT(grocery2.geometry) AS grocery_count FROM airbnb, grocery2 WHERE ST_Distance(airbnb.geometry, grocery2.geometry) < 133.9 GROUP BY airbnb.geometry\")\n",
    "#above query has processed the calculation and stored the result in a new table airbnb_grocery"
   ]
  },
  {
   "cell_type": "code",
   "execution_count": null,
   "id": "26dfb171",
   "metadata": {},
   "outputs": [],
   "source": [
    "#print the results of calculation in above cell\n",
    "cur.execute(\"SELECT * FROM airbnb_grocery3 limit 5\")\n",
    "result = cur.fetchall()\n",
    "print(results)"
   ]
  },
  {
   "cell_type": "code",
   "execution_count": null,
   "id": "5c091182",
   "metadata": {},
   "outputs": [],
   "source": [
    "cur.close()\n",
    "con.commit()\n",
    "con.close()"
   ]
  },
  {
   "cell_type": "code",
   "execution_count": null,
   "id": "367def1e",
   "metadata": {},
   "outputs": [],
   "source": [
    "help(engine)"
   ]
  },
  {
   "cell_type": "code",
   "execution_count": null,
   "id": "6bf5e81f",
   "metadata": {},
   "outputs": [],
   "source": []
  },
  {
   "cell_type": "code",
   "execution_count": null,
   "id": "74c199f5",
   "metadata": {},
   "outputs": [],
   "source": []
  },
  {
   "cell_type": "code",
   "execution_count": null,
   "id": "e54d8944",
   "metadata": {},
   "outputs": [],
   "source": []
  }
 ],
 "metadata": {
  "kernelspec": {
   "display_name": "Python 3 (ipykernel)",
   "language": "python",
   "name": "python3"
  },
  "language_info": {
   "codemirror_mode": {
    "name": "ipython",
    "version": 3
   },
   "file_extension": ".py",
   "mimetype": "text/x-python",
   "name": "python",
   "nbconvert_exporter": "python",
   "pygments_lexer": "ipython3",
   "version": "3.10.6"
  }
 },
 "nbformat": 4,
 "nbformat_minor": 5
}
